{
 "cells": [
  {
   "cell_type": "markdown",
   "metadata": {},
   "source": [
    "<table border=\"0\">\n",
    "    <tr>\n",
    "        <td>\n",
    "            <img src=\"https://ictd2016.files.wordpress.com/2016/04/microsoft-research-logo-copy.jpg\" style=\"width 30px;\" />\n",
    "             </td>\n",
    "        <td>\n",
    "            <img src=\"https://www.microsoft.com/en-us/research/wp-content/uploads/2016/12/MSR-ALICE-HeaderGraphic-1920x720_1-800x550.jpg\" style=\"width 100px;\"/></td>\n",
    "        </tr>\n",
    "</table>"
   ]
  },
  {
   "cell_type": "markdown",
   "metadata": {},
   "source": [
    "# Dynamic Double Machine Learning: Use Cases and Examples\n",
    "\n",
    "Dynamic DoubleML is an extension of the Double ML approach for treatments assigned sequentially over time periods. This estimator will account for treatments that can have causal effects on future outcomes. For more details, see [this paper](https://arxiv.org/abs/2002.07285) or the [EconML docummentation](https://econml.azurewebsites.net/).\n",
    "\n",
    "For example, the Dynamic DoubleML could be useful in estimating the following causal effects:\n",
    "* the effect of investments on revenue at companies that receive investments at regular intervals ([see more](https://arxiv.org/abs/2103.08390))\n",
    "* the effect of prices on demand in stores where prices of goods change over time\n",
    "* the effect of income on health outcomes in people who receive yearly income\n",
    "\n",
    "The preferred data format is balanced panel data. Each panel corresponds to one entity (e.g. company, store or person) and the different rows in a panel correspond to different time points. Example:\n",
    "\n",
    "||Company|Year|Features|Investment|Revenue|\n",
    "|---|---|---|---|---|---|\n",
    "|1|A|2018|...|\\$1,000|\\$10,000|\n",
    "|2|A|2019|...|\\$2,000|\\$12,000|\n",
    "|3|A|2020|...|\\$3,000|\\$15,000|\n",
    "|4|B|2018|...|\\$0|\\$5,000|\n",
    "|5|B|2019|...|\\$100|\\$10,000|\n",
    "|6|B|2020|...|\\$1,200|\\$7,000|\n",
    "|7|C|2018|...|\\$1,000|\\$20,000|\n",
    "|8|C|2019|...|\\$1,500|\\$25,000|\n",
    "|9|C|2020|...|\\$500|\\$15,000|\n",
    "\n",
    "(Note: when passing the data to the DynamicDML estimator, the \"Company\" column above corresponds to the `groups` argument at fit time. The \"Year\" column above should not be passed in as it will be inferred from the \"Company\" column)\n",
    "\n",
    "If group memebers do not appear together, it is assumed that the first instance of a group in the dataset corresponds to the first period of that group, the second instance of the group corresponds to the second period, etc. Example:\n",
    "\n",
    "||Company|Features|Investment|Revenue|\n",
    "|---|---|---|---|---|\n",
    "|1|A|...|\\$1,000|\\$10,000|\n",
    "|2|B|...|\\$0|\\$5,000\n",
    "|3|C|...|\\$1,000|\\$20,000|\n",
    "|4|A|...|\\$2,000|\\$12,000|\n",
    "|5|B|...|\\$100|\\$10,000|\n",
    "|6|C|...|\\$1,500|\\$25,000|\n",
    "|7|A|...|\\$3,000|\\$15,000|\n",
    "|8|B|...|\\$1,200|\\$7,000|\n",
    "|9|C|...|\\$500|\\$15,000|\n",
    "\n",
    "In this dataset, 1<sup>st</sup> row corresponds to the first period of group `A`, 4<sup>th</sup> row corresponds to the second period of group `A`, etc.\n",
    "\n",
    "In this notebook, we show the performance of the DynamicDML on synthetic and observational data. \n",
    "\n",
    "## Notebook Contents\n",
    "\n",
    "1. [Example Usage with Average Treatment Effects](#1.-Example-Usage-with-Average-Treatment-Effects)\n",
    "2. [Example Usage with Heterogeneous Treatment Effects](#2.-Example-Usage-with-Heterogeneous-Treatment-Effects)"
   ]
  },
  {
   "cell_type": "code",
   "execution_count": 1,
   "metadata": {},
   "outputs": [],
   "source": [
    "%load_ext autoreload\n",
    "%autoreload 2"
   ]
  },
  {
   "cell_type": "code",
   "execution_count": 2,
   "metadata": {},
   "outputs": [],
   "source": [
    "import econml"
   ]
  },
  {
   "cell_type": "code",
   "execution_count": 3,
   "metadata": {},
   "outputs": [],
   "source": [
    "# Main imports\n",
    "from econml.dynamic.dml import DynamicDML\n",
    "from econml.tests.dgp import DynamicPanelDGP, add_vlines\n",
    "\n",
    "# Helper imports\n",
    "import numpy as np\n",
    "from sklearn.linear_model import Lasso, LassoCV, LogisticRegression, LogisticRegressionCV, MultiTaskLassoCV\n",
    "import matplotlib.pyplot as plt\n",
    "\n",
    "%matplotlib inline"
   ]
  },
  {
   "cell_type": "markdown",
   "metadata": {},
   "source": [
    "# 1. Example Usage with Average Treatment Effects"
   ]
  },
  {
   "cell_type": "markdown",
   "metadata": {},
   "source": [
    "## 1.1 DGP\n",
    "\n",
    "We consider a data generating process from a markovian treatment model. \n",
    "\n",
    "In the example bellow, $T_t\\rightarrow$ treatment(s) at time $t$, $Y_t\\rightarrow$outcome at time $t$, $X_t\\rightarrow$ features and controls at time $t$ (the coefficients $e, f$ will pick the features and the controls).\n",
    "\\begin{align}\n",
    "    X_t =& (\\pi'X_{t-1} + 1) \\cdot A\\, T_{t-1} + B X_{t-1} + \\epsilon_t\\\\\n",
    "    T_t =& \\gamma\\, T_{t-1} + (1-\\gamma) \\cdot D X_t + \\zeta_t\\\\\n",
    "    Y_t =& (\\sigma' X_{t} + 1) \\cdot e\\, T_{t} + f X_t + \\eta_t\n",
    "\\end{align}\n",
    "\n",
    "with $X_0, T_0 = 0$ and $\\epsilon_t, \\zeta_t, \\eta_t \\sim N(0, \\sigma^2)$. Moreover, $X_t \\in R^{n_x}$, $B[:, 0:s_x] \\neq 0$ and $B[:, s_x:-1] = 0$, $\\gamma\\in [0, 1]$, $D[:, 0:s_x] \\neq 0$, $D[:, s_x:-1]=0$, $f[0:s_x]\\neq 0$, $f[s_x:-1]=0$. We draw a single time series of samples of length $n\\_panels \\cdot n\\_periods$."
   ]
  },
  {
   "cell_type": "code",
   "execution_count": 662,
   "metadata": {},
   "outputs": [],
   "source": [
    "# Define DGP parameters\n",
    "np.random.seed(123)\n",
    "n_panels = 5000 # number of panels\n",
    "n_periods = 2 # number of time periods in each panel\n",
    "n_treatments = 1 # number of treatments in each period\n",
    "n_x = 100 # number of features + controls\n",
    "s_x = 10 # number of controls (endogeneous variables)\n",
    "s_t = 10 # treatment support size"
   ]
  },
  {
   "cell_type": "code",
   "execution_count": 663,
   "metadata": {},
   "outputs": [],
   "source": [
    "# Generate data\n",
    "dgp = DynamicPanelDGP(n_periods, n_treatments, n_x).create_instance(\n",
    "            s_x, random_seed=12345, autoreg=1.0)\n",
    "Y, T, X, W, groups = dgp.observational_data(n_panels, s_t=s_t, random_seed=12345)\n",
    "true_effect = dgp.true_effect"
   ]
  },
  {
   "cell_type": "markdown",
   "metadata": {},
   "source": [
    "## 1.2 Train Estimator"
   ]
  },
  {
   "cell_type": "code",
   "execution_count": 664,
   "metadata": {},
   "outputs": [],
   "source": [
    "est = DynamicDML(\n",
    "    model_y=LassoCV(cv=3, max_iter=1000), \n",
    "    model_t=MultiTaskLassoCV(cv=3, max_iter=1000), \n",
    "    cv=3)"
   ]
  },
  {
   "cell_type": "code",
   "execution_count": 665,
   "metadata": {
    "scrolled": true
   },
   "outputs": [
    {
     "data": {
      "text/plain": [
       "<econml.dynamic.dml._dml.DynamicDML at 0x1663e022820>"
      ]
     },
     "execution_count": 665,
     "metadata": {},
     "output_type": "execute_result"
    }
   ],
   "source": [
    "est.fit(Y, T, X=None, W=W, groups=groups)"
   ]
  },
  {
   "cell_type": "code",
   "execution_count": 666,
   "metadata": {},
   "outputs": [
    {
     "name": "stdout",
     "output_type": "stream",
     "text": [
      "Average effect of default policy: 0.88\n"
     ]
    }
   ],
   "source": [
    "# Average treatment effect of all periods on last period for unit treatments\n",
    "print(f\"Average effect of default policy: {est.ate():0.2f}\")"
   ]
  },
  {
   "cell_type": "code",
   "execution_count": 667,
   "metadata": {},
   "outputs": [
    {
     "name": "stdout",
     "output_type": "stream",
     "text": [
      "Effect of target policy over baseline policy: 0.88\n"
     ]
    }
   ],
   "source": [
    "# Effect of target policy over baseline policy\n",
    "# Must specify a treatment for each period\n",
    "baseline_policy = np.zeros((1, n_periods * n_treatments))\n",
    "target_policy = np.ones((1, n_periods * n_treatments))\n",
    "eff = est.effect(T0=baseline_policy, T1=target_policy)\n",
    "print(f\"Effect of target policy over baseline policy: {eff[0]:0.2f}\")"
   ]
  },
  {
   "cell_type": "code",
   "execution_count": 668,
   "metadata": {},
   "outputs": [
    {
     "name": "stdout",
     "output_type": "stream",
     "text": [
      "Marginal effect of a treatments in period 1 on period 2 outcome: [0.74685576]\n",
      "Marginal effect of a treatments in period 2 on period 2 outcome: [0.13065877]\n"
     ]
    }
   ],
   "source": [
    "# Period treatment effects + interpretation\n",
    "for i, theta in enumerate(est.intercept_.reshape(-1, n_treatments)):\n",
    "    print(f\"Marginal effect of a treatments in period {i+1} on period {n_periods} outcome: {theta}\")"
   ]
  },
  {
   "cell_type": "code",
   "execution_count": 669,
   "metadata": {},
   "outputs": [
    {
     "name": "stdout",
     "output_type": "stream",
     "text": [
      "Coefficient Results:  X is None, please call intercept_inference to learn the constant!\n"
     ]
    },
    {
     "data": {
      "text/html": [
       "<table class=\"simpletable\">\n",
       "<caption>CATE Intercept Results</caption>\n",
       "<tr>\n",
       "             <td></td>             <th>point_estimate</th> <th>stderr</th>  <th>zstat</th> <th>pvalue</th> <th>ci_lower</th> <th>ci_upper</th>\n",
       "</tr>\n",
       "<tr>\n",
       "  <th>cate_intercept|(T0)$_0$</th>      <td>0.747</td>      <td>0.022</td>  <td>34.58</td>   <td>0.0</td>    <td>0.711</td>    <td>0.782</td> \n",
       "</tr>\n",
       "<tr>\n",
       "  <th>cate_intercept|(T0)$_1$</th>      <td>0.131</td>      <td>0.001</td> <td>89.995</td>   <td>0.0</td>    <td>0.128</td>    <td>0.133</td> \n",
       "</tr>\n",
       "</table><br/><br/><sub>A linear parametric conditional average treatment effect (CATE) model was fitted:<br/>$Y = \\Theta(X)\\cdot T + g(X, W) + \\epsilon$<br/>where for every outcome $i$ and treatment $j$ the CATE $\\Theta_{ij}(X)$ has the form:<br/>$\\Theta_{ij}(X) = \\phi(X)' coef_{ij} + cate\\_intercept_{ij}$<br/>where $\\phi(X)$ is the output of the `featurizer` or $X$ if `featurizer`=None. Coefficient Results table portrays the $coef_{ij}$ parameter vector for each outcome $i$ and treatment $j$. Intercept Results table portrays the $cate\\_intercept_{ij}$ parameter.</sub>"
      ],
      "text/plain": [
       "<class 'econml.utilities.Summary'>\n",
       "\"\"\"\n",
       "                            CATE Intercept Results                           \n",
       "=============================================================================\n",
       "                        point_estimate stderr zstat  pvalue ci_lower ci_upper\n",
       "-----------------------------------------------------------------------------\n",
       "cate_intercept|(T0)$_0$          0.747  0.022  34.58    0.0    0.711    0.782\n",
       "cate_intercept|(T0)$_1$          0.131  0.001 89.995    0.0    0.128    0.133\n",
       "-----------------------------------------------------------------------------\n",
       "\n",
       "<sub>A linear parametric conditional average treatment effect (CATE) model was fitted:\n",
       "$Y = \\Theta(X)\\cdot T + g(X, W) + \\epsilon$\n",
       "where for every outcome $i$ and treatment $j$ the CATE $\\Theta_{ij}(X)$ has the form:\n",
       "$\\Theta_{ij}(X) = \\phi(X)' coef_{ij} + cate\\_intercept_{ij}$\n",
       "where $\\phi(X)$ is the output of the `featurizer` or $X$ if `featurizer`=None. Coefficient Results table portrays the $coef_{ij}$ parameter vector for each outcome $i$ and treatment $j$. Intercept Results table portrays the $cate\\_intercept_{ij}$ parameter.</sub>\n",
       "\"\"\""
      ]
     },
     "execution_count": 669,
     "metadata": {},
     "output_type": "execute_result"
    }
   ],
   "source": [
    "# Period treatment effects with confidence intervals\n",
    "est.summary()"
   ]
  },
  {
   "cell_type": "code",
   "execution_count": 670,
   "metadata": {},
   "outputs": [],
   "source": [
    "conf_ints = est.intercept__interval(alpha=0.05)"
   ]
  },
  {
   "cell_type": "markdown",
   "metadata": {},
   "source": [
    "## 1.3 Performance Visualization"
   ]
  },
  {
   "cell_type": "code",
   "execution_count": 671,
   "metadata": {},
   "outputs": [
    {
     "data": {
      "image/png": "[encoded data removed]",
      "text/plain": [
       "<Figure size 1080x360 with 1 Axes>"
      ]
     },
     "metadata": {
      "needs_background": "light"
     },
     "output_type": "display_data"
    }
   ],
   "source": [
    "# Some plotting boilerplate code\n",
    "plt.figure(figsize=(15, 5))\n",
    "plt.errorbar(np.arange(n_periods*n_treatments)-.04, est.intercept_, yerr=(conf_ints[1] - est.intercept_,\n",
    "                                                    est.intercept_ - conf_ints[0]), fmt='o', label='DynamicDML')\n",
    "plt.errorbar(np.arange(n_periods*n_treatments), true_effect.flatten(), fmt='o', alpha=.6, label='Ground truth')\n",
    "for t in np.arange(1, n_periods):\n",
    "    plt.axvline(x=t * n_treatments - .5, linestyle='--', alpha=.4)\n",
    "plt.xticks([t * n_treatments - .5 + n_treatments/2 for t in range(n_periods)],\n",
    "           [\"$\\\\theta_{}$\".format(t) for t in range(n_periods)])\n",
    "plt.gca().set_xlim([-.5, n_periods*n_treatments - .5])\n",
    "plt.ylabel(\"Effect\")\n",
    "plt.legend()\n",
    "plt.show()"
   ]
  },
  {
   "cell_type": "markdown",
   "metadata": {},
   "source": [
    "# 2. Example Usage with Heterogeneous Treatment Effects on Time-Invariant Unit Characteristics\n",
    "\n",
    "We can also estimate treatment effect heterogeneity with respect to the value of some subset of features $X$ in the initial period. Heterogeneity is currently only supported with respect to such initial state features. This for instance can support heterogeneity with respect to time-invariant unit characteristics. In that case you can simply pass as $X$ a repetition of some unit features that stay constant in all periods. You can also pass time-varying features, and their time varying component will be used as a time-varying control. However, heterogeneity will only be estimated with respect to the initial state."
   ]
  },
  {
   "cell_type": "markdown",
   "metadata": {},
   "source": [
    "## 2.1 DGP"
   ]
  },
  {
   "cell_type": "code",
   "execution_count": 672,
   "metadata": {},
   "outputs": [],
   "source": [
    "# Define additional DGP parameters\n",
    "het_strength = .5\n",
    "het_inds = np.arange(n_x - n_treatments, n_x)"
   ]
  },
  {
   "cell_type": "code",
   "execution_count": 674,
   "metadata": {},
   "outputs": [],
   "source": [
    "# Generate data\n",
    "dgp = DynamicPanelDGP(n_periods, n_treatments, n_x).create_instance(\n",
    "            s_x, hetero_strength=het_strength, hetero_inds=het_inds,\n",
    "            autoreg=1.0, random_seed=1566)\n",
    "Y, T, X, W, groups = dgp.observational_data(n_panels, s_t=s_t, random_seed=1)\n",
    "ate_effect = dgp.true_effect\n",
    "het_effect = dgp.true_hetero_effect[:, het_inds + 1]"
   ]
  },
  {
   "cell_type": "markdown",
   "metadata": {},
   "source": [
    "## 2.2 Train Estimator"
   ]
  },
  {
   "cell_type": "code",
   "execution_count": 675,
   "metadata": {},
   "outputs": [],
   "source": [
    "est = DynamicDML(\n",
    "    model_y=LassoCV(cv=3), \n",
    "    model_t=MultiTaskLassoCV(cv=3),\n",
    "    cv=3)"
   ]
  },
  {
   "cell_type": "code",
   "execution_count": 676,
   "metadata": {
    "scrolled": true
   },
   "outputs": [
    {
     "data": {
      "text/plain": [
       "<econml.dynamic.dml._dml.DynamicDML at 0x1663dfc3fd0>"
      ]
     },
     "execution_count": 676,
     "metadata": {},
     "output_type": "execute_result"
    }
   ],
   "source": [
    "est.fit(Y, T, X=X, W=W, groups=groups, inference=\"auto\")"
   ]
  },
  {
   "cell_type": "code",
   "execution_count": 677,
   "metadata": {},
   "outputs": [
    {
     "data": {
      "text/html": [
       "<table class=\"simpletable\">\n",
       "<caption>Coefficient Results</caption>\n",
       "<tr>\n",
       "       <td></td>       <th>point_estimate</th> <th>stderr</th>  <th>zstat</th> <th>pvalue</th> <th>ci_lower</th> <th>ci_upper</th>\n",
       "</tr>\n",
       "<tr>\n",
       "  <th>X0|(T0)$_0$</th>     <td>-0.195</td>      <td>0.024</td> <td>-8.258</td>   <td>0.0</td>   <td>-0.234</td>   <td>-0.156</td> \n",
       "</tr>\n",
       "<tr>\n",
       "  <th>X0|(T0)$_1$</th>      <td>0.17</td>       <td>0.007</td> <td>23.954</td>   <td>0.0</td>    <td>0.158</td>    <td>0.182</td> \n",
       "</tr>\n",
       "</table>\n",
       "<table class=\"simpletable\">\n",
       "<caption>CATE Intercept Results</caption>\n",
       "<tr>\n",
       "             <td></td>             <th>point_estimate</th> <th>stderr</th>  <th>zstat</th>  <th>pvalue</th> <th>ci_lower</th> <th>ci_upper</th>\n",
       "</tr>\n",
       "<tr>\n",
       "  <th>cate_intercept|(T0)$_0$</th>     <td>-0.686</td>      <td>0.019</td> <td>-36.172</td>   <td>0.0</td>   <td>-0.717</td>   <td>-0.655</td> \n",
       "</tr>\n",
       "<tr>\n",
       "  <th>cate_intercept|(T0)$_1$</th>      <td>0.387</td>      <td>0.003</td> <td>123.432</td>   <td>0.0</td>    <td>0.382</td>    <td>0.392</td> \n",
       "</tr>\n",
       "</table><br/><br/><sub>A linear parametric conditional average treatment effect (CATE) model was fitted:<br/>$Y = \\Theta(X)\\cdot T + g(X, W) + \\epsilon$<br/>where for every outcome $i$ and treatment $j$ the CATE $\\Theta_{ij}(X)$ has the form:<br/>$\\Theta_{ij}(X) = \\phi(X)' coef_{ij} + cate\\_intercept_{ij}$<br/>where $\\phi(X)$ is the output of the `featurizer` or $X$ if `featurizer`=None. Coefficient Results table portrays the $coef_{ij}$ parameter vector for each outcome $i$ and treatment $j$. Intercept Results table portrays the $cate\\_intercept_{ij}$ parameter.</sub>"
      ],
      "text/plain": [
       "<class 'econml.utilities.Summary'>\n",
       "\"\"\"\n",
       "                       Coefficient Results                       \n",
       "=================================================================\n",
       "            point_estimate stderr zstat  pvalue ci_lower ci_upper\n",
       "-----------------------------------------------------------------\n",
       "X0|(T0)$_0$         -0.195  0.024 -8.258    0.0   -0.234   -0.156\n",
       "X0|(T0)$_1$           0.17  0.007 23.954    0.0    0.158    0.182\n",
       "                            CATE Intercept Results                            \n",
       "==============================================================================\n",
       "                        point_estimate stderr  zstat  pvalue ci_lower ci_upper\n",
       "------------------------------------------------------------------------------\n",
       "cate_intercept|(T0)$_0$         -0.686  0.019 -36.172    0.0   -0.717   -0.655\n",
       "cate_intercept|(T0)$_1$          0.387  0.003 123.432    0.0    0.382    0.392\n",
       "------------------------------------------------------------------------------\n",
       "\n",
       "<sub>A linear parametric conditional average treatment effect (CATE) model was fitted:\n",
       "$Y = \\Theta(X)\\cdot T + g(X, W) + \\epsilon$\n",
       "where for every outcome $i$ and treatment $j$ the CATE $\\Theta_{ij}(X)$ has the form:\n",
       "$\\Theta_{ij}(X) = \\phi(X)' coef_{ij} + cate\\_intercept_{ij}$\n",
       "where $\\phi(X)$ is the output of the `featurizer` or $X$ if `featurizer`=None. Coefficient Results table portrays the $coef_{ij}$ parameter vector for each outcome $i$ and treatment $j$. Intercept Results table portrays the $cate\\_intercept_{ij}$ parameter.</sub>\n",
       "\"\"\""
      ]
     },
     "execution_count": 677,
     "metadata": {},
     "output_type": "execute_result"
    }
   ],
   "source": [
    "est.summary()"
   ]
  },
  {
   "cell_type": "code",
   "execution_count": 678,
   "metadata": {},
   "outputs": [
    {
     "name": "stdout",
     "output_type": "stream",
     "text": [
      "Average effect of default policy:-0.30\n"
     ]
    }
   ],
   "source": [
    "# Average treatment effect for test points\n",
    "X_test = X[np.arange(0, 25, 3)]\n",
    "print(f\"Average effect of default policy:{est.ate(X=X_test):0.2f}\")"
   ]
  },
  {
   "cell_type": "code",
   "execution_count": 679,
   "metadata": {},
   "outputs": [
    {
     "name": "stdout",
     "output_type": "stream",
     "text": [
      "Effect of target policy over baseline policy for test set:\n",
      " [-0.31313766 -0.28511487 -0.25212365 -0.28079434 -0.31669279 -0.29733827\n",
      " -0.31471126 -0.30720557 -0.31935427]\n"
     ]
    }
   ],
   "source": [
    "# Effect of target policy over baseline policy\n",
    "# Must specify a treatment for each period\n",
    "baseline_policy = np.zeros((1, n_periods * n_treatments))\n",
    "target_policy = np.ones((1, n_periods * n_treatments))\n",
    "eff = est.effect(X=X_test, T0=baseline_policy, T1=target_policy)\n",
    "print(\"Effect of target policy over baseline policy for test set:\\n\", eff)"
   ]
  },
  {
   "cell_type": "code",
   "execution_count": 680,
   "metadata": {},
   "outputs": [
    {
     "data": {
      "text/plain": [
       "(array([-0.68574484,  0.38678986]),\n",
       " array([[-0.19528374],\n",
       "        [ 0.16988612]]))"
      ]
     },
     "execution_count": 680,
     "metadata": {},
     "output_type": "execute_result"
    }
   ],
   "source": [
    "# Coefficients: intercept is of shape n_treatments*n_periods\n",
    "# coef_ is of shape (n_treatments*n_periods, n_hetero_inds).\n",
    "# first n_treatment rows are from first period, next n_treatment\n",
    "# from second period, etc.\n",
    "est.intercept_, est.coef_"
   ]
  },
  {
   "cell_type": "code",
   "execution_count": 681,
   "metadata": {},
   "outputs": [],
   "source": [
    "# Confidence intervals\n",
    "conf_ints_intercept = est.intercept__interval(alpha=0.05)\n",
    "conf_ints_coef = est.coef__interval(alpha=0.05)"
   ]
  },
  {
   "cell_type": "markdown",
   "metadata": {},
   "source": [
    "## 2.3 Performance Visualization"
   ]
  },
  {
   "cell_type": "code",
   "execution_count": 682,
   "metadata": {},
   "outputs": [],
   "source": [
    "# parse true parameters in array of shape (n_treatments*n_periods, 1 + n_hetero_inds)\n",
    "# first column is the intercept\n",
    "true_effect_inds = []\n",
    "for t in range(n_treatments):\n",
    "    true_effect_inds += [t * (1 + n_x)] + (list(t * (1 + n_x) + 1 + het_inds) if len(het_inds)>0 else [])\n",
    "true_effect_params = dgp.true_hetero_effect[:, true_effect_inds]\n",
    "true_effect_params = true_effect_params.reshape((n_treatments*n_periods, 1 + het_inds.shape[0]))"
   ]
  },
  {
   "cell_type": "code",
   "execution_count": 683,
   "metadata": {},
   "outputs": [],
   "source": [
    "# concatenating intercept and coef_\n",
    "param_hat = np.hstack([est.intercept_.reshape(-1, 1), est.coef_])\n",
    "lower = np.hstack([conf_ints_intercept[0].reshape(-1, 1), conf_ints_coef[0]])\n",
    "upper = np.hstack([conf_ints_intercept[1].reshape(-1, 1), conf_ints_coef[1]])"
   ]
  },
  {
   "cell_type": "code",
   "execution_count": 684,
   "metadata": {},
   "outputs": [
    {
     "data": {
      "image/png": "[encoded data removed]",
      "text/plain": [
       "<Figure size 1080x360 with 1 Axes>"
      ]
     },
     "metadata": {
      "needs_background": "light"
     },
     "output_type": "display_data"
    }
   ],
   "source": [
    "plt.figure(figsize=(15, 5))\n",
    "plt.errorbar(np.arange(n_periods * (len(het_inds) + 1) * n_treatments) - .04,\n",
    "             param_hat.flatten(), yerr=((upper - param_hat).flatten(),\n",
    "                                        (param_hat - lower).flatten()), fmt='o', label='DynamicDML')\n",
    "plt.errorbar(np.arange(n_periods * (len(het_inds) + 1) * n_treatments),\n",
    "             true_effect_params.flatten(), fmt='*', label='Ground Truth')\n",
    "add_vlines(n_periods, n_treatments, het_inds)\n",
    "plt.legend()\n",
    "plt.show()"
   ]
  },
  {
   "cell_type": "code",
   "execution_count": 685,
   "metadata": {},
   "outputs": [
    {
     "data": {
      "text/plain": [
       "[[array([[0.62796393,        nan],\n",
       "         [0.02288447, 0.69411009]]),\n",
       "  array([[0.62029796,        nan],\n",
       "         [0.02398661, 0.70367478]]),\n",
       "  array([[0.60836524,        nan],\n",
       "         [0.03213052, 0.67573604]])]]"
      ]
     },
     "execution_count": 685,
     "metadata": {},
     "output_type": "execute_result"
    }
   ],
   "source": [
    "est.nuisance_scores_t"
   ]
  },
  {
   "cell_type": "code",
   "execution_count": 686,
   "metadata": {},
   "outputs": [
    {
     "data": {
      "text/plain": [
       "[[array([0.03746542, 0.95368997]),\n",
       "  array([0.04434471, 0.95549658]),\n",
       "  array([0.0488638 , 0.95356307])]]"
      ]
     },
     "execution_count": 686,
     "metadata": {},
     "output_type": "execute_result"
    }
   ],
   "source": [
    "est.nuisance_scores_y"
   ]
  },
  {
   "cell_type": "markdown",
   "metadata": {},
   "source": [
    "# Job Corps Data"
   ]
  },
  {
   "cell_type": "code",
   "execution_count": 2,
   "metadata": {},
   "outputs": [
    {
     "data": {
      "text/html": [
       "<div>\n",
       "<style scoped>\n",
       "    .dataframe tbody tr th:only-of-type {\n",
       "        vertical-align: middle;\n",
       "    }\n",
       "\n",
       "    .dataframe tbody tr th {\n",
       "        vertical-align: top;\n",
       "    }\n",
       "\n",
       "    .dataframe thead th {\n",
       "        text-align: right;\n",
       "    }\n",
       "</style>\n",
       "<table border=\"1\" class=\"dataframe\">\n",
       "  <thead>\n",
       "    <tr style=\"text-align: right;\">\n",
       "      <th></th>\n",
       "      <th>assignment</th>\n",
       "      <th>female</th>\n",
       "      <th>age</th>\n",
       "      <th>white</th>\n",
       "      <th>black</th>\n",
       "      <th>hispanic</th>\n",
       "      <th>educ</th>\n",
       "      <th>educmis</th>\n",
       "      <th>geddegree</th>\n",
       "      <th>hsdegree</th>\n",
       "      <th>...</th>\n",
       "      <th>trainy1</th>\n",
       "      <th>trainy2</th>\n",
       "      <th>pworky2</th>\n",
       "      <th>pworky3</th>\n",
       "      <th>pworky4</th>\n",
       "      <th>earny2</th>\n",
       "      <th>earny3</th>\n",
       "      <th>earny4</th>\n",
       "      <th>health30</th>\n",
       "      <th>health48</th>\n",
       "    </tr>\n",
       "    <tr>\n",
       "      <th>id</th>\n",
       "      <th></th>\n",
       "      <th></th>\n",
       "      <th></th>\n",
       "      <th></th>\n",
       "      <th></th>\n",
       "      <th></th>\n",
       "      <th></th>\n",
       "      <th></th>\n",
       "      <th></th>\n",
       "      <th></th>\n",
       "      <th></th>\n",
       "      <th></th>\n",
       "      <th></th>\n",
       "      <th></th>\n",
       "      <th></th>\n",
       "      <th></th>\n",
       "      <th></th>\n",
       "      <th></th>\n",
       "      <th></th>\n",
       "      <th></th>\n",
       "      <th></th>\n",
       "    </tr>\n",
       "  </thead>\n",
       "  <tbody>\n",
       "    <tr>\n",
       "      <th>2</th>\n",
       "      <td>0</td>\n",
       "      <td>0</td>\n",
       "      <td>24</td>\n",
       "      <td>0</td>\n",
       "      <td>1</td>\n",
       "      <td>0</td>\n",
       "      <td>12</td>\n",
       "      <td>0</td>\n",
       "      <td>0</td>\n",
       "      <td>1</td>\n",
       "      <td>...</td>\n",
       "      <td>0</td>\n",
       "      <td>0</td>\n",
       "      <td>26.923077</td>\n",
       "      <td>86.538460</td>\n",
       "      <td>65.384613</td>\n",
       "      <td>63.387691</td>\n",
       "      <td>238.996002</td>\n",
       "      <td>265.188324</td>\n",
       "      <td>2</td>\n",
       "      <td>2</td>\n",
       "    </tr>\n",
       "    <tr>\n",
       "      <th>3</th>\n",
       "      <td>1</td>\n",
       "      <td>1</td>\n",
       "      <td>18</td>\n",
       "      <td>1</td>\n",
       "      <td>0</td>\n",
       "      <td>0</td>\n",
       "      <td>8</td>\n",
       "      <td>0</td>\n",
       "      <td>1</td>\n",
       "      <td>0</td>\n",
       "      <td>...</td>\n",
       "      <td>1</td>\n",
       "      <td>0</td>\n",
       "      <td>30.769230</td>\n",
       "      <td>26.923077</td>\n",
       "      <td>71.153847</td>\n",
       "      <td>95.603455</td>\n",
       "      <td>41.870399</td>\n",
       "      <td>216.835815</td>\n",
       "      <td>1</td>\n",
       "      <td>2</td>\n",
       "    </tr>\n",
       "    <tr>\n",
       "      <th>5</th>\n",
       "      <td>0</td>\n",
       "      <td>1</td>\n",
       "      <td>18</td>\n",
       "      <td>0</td>\n",
       "      <td>1</td>\n",
       "      <td>0</td>\n",
       "      <td>10</td>\n",
       "      <td>0</td>\n",
       "      <td>0</td>\n",
       "      <td>0</td>\n",
       "      <td>...</td>\n",
       "      <td>1</td>\n",
       "      <td>0</td>\n",
       "      <td>0.000000</td>\n",
       "      <td>36.538460</td>\n",
       "      <td>11.538462</td>\n",
       "      <td>0.000000</td>\n",
       "      <td>52.758656</td>\n",
       "      <td>11.856046</td>\n",
       "      <td>3</td>\n",
       "      <td>2</td>\n",
       "    </tr>\n",
       "    <tr>\n",
       "      <th>7</th>\n",
       "      <td>1</td>\n",
       "      <td>1</td>\n",
       "      <td>17</td>\n",
       "      <td>1</td>\n",
       "      <td>0</td>\n",
       "      <td>0</td>\n",
       "      <td>10</td>\n",
       "      <td>0</td>\n",
       "      <td>0</td>\n",
       "      <td>0</td>\n",
       "      <td>...</td>\n",
       "      <td>1</td>\n",
       "      <td>1</td>\n",
       "      <td>100.000000</td>\n",
       "      <td>32.692307</td>\n",
       "      <td>15.384615</td>\n",
       "      <td>285.628265</td>\n",
       "      <td>71.364548</td>\n",
       "      <td>18.296368</td>\n",
       "      <td>2</td>\n",
       "      <td>3</td>\n",
       "    </tr>\n",
       "    <tr>\n",
       "      <th>9</th>\n",
       "      <td>1</td>\n",
       "      <td>0</td>\n",
       "      <td>21</td>\n",
       "      <td>0</td>\n",
       "      <td>0</td>\n",
       "      <td>1</td>\n",
       "      <td>12</td>\n",
       "      <td>0</td>\n",
       "      <td>0</td>\n",
       "      <td>1</td>\n",
       "      <td>...</td>\n",
       "      <td>1</td>\n",
       "      <td>0</td>\n",
       "      <td>44.230770</td>\n",
       "      <td>96.153847</td>\n",
       "      <td>100.000000</td>\n",
       "      <td>86.732307</td>\n",
       "      <td>247.794205</td>\n",
       "      <td>221.147690</td>\n",
       "      <td>2</td>\n",
       "      <td>2</td>\n",
       "    </tr>\n",
       "  </tbody>\n",
       "</table>\n",
       "<p>5 rows × 46 columns</p>\n",
       "</div>"
      ],
      "text/plain": [
       "    assignment  female  age  white  black  hispanic  educ  educmis  geddegree  \\\n",
       "id                                                                              \n",
       "2            0       0   24      0      1         0    12        0          0   \n",
       "3            1       1   18      1      0         0     8        0          1   \n",
       "5            0       1   18      0      1         0    10        0          0   \n",
       "7            1       1   17      1      0         0    10        0          0   \n",
       "9            1       0   21      0      0         1    12        0          0   \n",
       "\n",
       "    hsdegree  ...  trainy1  trainy2     pworky2    pworky3     pworky4  \\\n",
       "id            ...                                                        \n",
       "2          1  ...        0        0   26.923077  86.538460   65.384613   \n",
       "3          0  ...        1        0   30.769230  26.923077   71.153847   \n",
       "5          0  ...        1        0    0.000000  36.538460   11.538462   \n",
       "7          0  ...        1        1  100.000000  32.692307   15.384615   \n",
       "9          1  ...        1        0   44.230770  96.153847  100.000000   \n",
       "\n",
       "        earny2      earny3      earny4  health30  health48  \n",
       "id                                                          \n",
       "2    63.387691  238.996002  265.188324         2         2  \n",
       "3    95.603455   41.870399  216.835815         1         2  \n",
       "5     0.000000   52.758656   11.856046         3         2  \n",
       "7   285.628265   71.364548   18.296368         2         3  \n",
       "9    86.732307  247.794205  221.147690         2         2  \n",
       "\n",
       "[5 rows x 46 columns]"
      ]
     },
     "execution_count": 2,
     "metadata": {},
     "output_type": "execute_result"
    }
   ],
   "source": [
    "import pandas as pd\n",
    "import numpy as np\n",
    "from sklearn.linear_model import LassoCV, LogisticRegressionCV\n",
    "\n",
    "\n",
    "df = pd.read_csv('JC.csv')\n",
    "df = df.rename(columns={'Unnamed: 0':'id'}).reset_index().drop('index', axis=1).set_index(['id'])\n",
    "df.head()"
   ]
  },
  {
   "cell_type": "code",
   "execution_count": 3,
   "metadata": {},
   "outputs": [],
   "source": [
    "x0_cols = list(df.columns[1:29])\n",
    "x1_cols = list(df.columns[29:36])\n",
    "t0_cols = df.columns[[36]]\n",
    "t1_cols = df.columns[[37]]\n",
    "y_col = df.columns[43]"
   ]
  },
  {
   "cell_type": "code",
   "execution_count": 40,
   "metadata": {},
   "outputs": [],
   "source": [
    "y = df[y_col]\n",
    "X0 = df[x0_cols]\n",
    "X1 = df[x1_cols]"
   ]
  },
  {
   "cell_type": "code",
   "execution_count": 60,
   "metadata": {},
   "outputs": [],
   "source": [
    "panelX = np.zeros((X0.shape[0], 2, X0.shape[1] + X1.shape[1]))\n",
    "panelX[:, 0, :X0.shape[1]] = X0.values\n",
    "panelX[:, 1, :X0.shape[1]] = X0.values\n",
    "panelX[:, 1, X0.shape[1]:] = X1.values"
   ]
  },
  {
   "cell_type": "code",
   "execution_count": 61,
   "metadata": {},
   "outputs": [],
   "source": [
    "panelT = np.zeros((X0.shape[0], 2, 1))\n",
    "panelT[:, 0, :] = df[t0_cols].values\n",
    "panelT[:, 1, :] = df[t1_cols].values"
   ]
  },
  {
   "cell_type": "code",
   "execution_count": 62,
   "metadata": {},
   "outputs": [],
   "source": [
    "lagpanelT = np.zeros((X0.shape[0], 2, 1))\n",
    "lagpanelT[:, 1, :] = panelT[:, 0, :]"
   ]
  },
  {
   "cell_type": "code",
   "execution_count": 63,
   "metadata": {},
   "outputs": [],
   "source": [
    "panelY = np.zeros((X0.shape[0], 2, 1))\n",
    "panelY[:, 1, 0] = df[y_col].values"
   ]
  },
  {
   "cell_type": "code",
   "execution_count": 64,
   "metadata": {},
   "outputs": [],
   "source": [
    "panelG = np.zeros((X0.shape[0], 2, 1), 'int')\n",
    "panelG[:, 0, 0] = np.arange(X0.shape[0])\n",
    "panelG[:, 1, 0] = np.arange(X0.shape[0])"
   ]
  },
  {
   "cell_type": "code",
   "execution_count": 65,
   "metadata": {},
   "outputs": [],
   "source": [
    "def long(X):\n",
    "    return X.reshape((-1, X.shape[-1]))"
   ]
  },
  {
   "cell_type": "code",
   "execution_count": 66,
   "metadata": {},
   "outputs": [],
   "source": [
    "from econml.dynamic.dml import DynamicDML\n",
    "est = DynamicDML(\n",
    "    model_y=LassoCV(cv=3, max_iter=1000), \n",
    "    model_t=LogisticRegressionCV(cv=3, max_iter=2000),\n",
    "    discrete_treatment=True,\n",
    "    cv=3)"
   ]
  },
  {
   "cell_type": "code",
   "execution_count": 67,
   "metadata": {},
   "outputs": [
    {
     "data": {
      "text/plain": [
       "<econml.dynamic.dml._dml.DynamicDML at 0x148ea91b8e0>"
      ]
     },
     "execution_count": 67,
     "metadata": {},
     "output_type": "execute_result"
    }
   ],
   "source": [
    "est.fit(long(panelY).flatten(), long(panelT).flatten(),\n",
    "        W=np.hstack([long(panelX), long(lagpanelT)]),\n",
    "        groups=long(panelG).flatten())"
   ]
  },
  {
   "cell_type": "code",
   "execution_count": 68,
   "metadata": {},
   "outputs": [
    {
     "name": "stdout",
     "output_type": "stream",
     "text": [
      "Coefficient Results:  X is None, please call intercept_inference to learn the constant!\n"
     ]
    },
    {
     "data": {
      "text/html": [
       "<table class=\"simpletable\">\n",
       "<caption>CATE Intercept Results</caption>\n",
       "<tr>\n",
       "               <td></td>               <th>point_estimate</th> <th>stderr</th> <th>zstat</th> <th>pvalue</th> <th>ci_lower</th> <th>ci_upper</th>\n",
       "</tr>\n",
       "<tr>\n",
       "  <th>cate_intercept|(T0_1.0)$_0$</th>      <td>18.43</td>      <td>4.51</td>  <td>4.087</td>   <td>0.0</td>   <td>11.012</td>   <td>25.849</td> \n",
       "</tr>\n",
       "<tr>\n",
       "  <th>cate_intercept|(T0_1.0)$_1$</th>     <td>22.059</td>      <td>4.224</td> <td>5.222</td>   <td>0.0</td>   <td>15.111</td>   <td>29.008</td> \n",
       "</tr>\n",
       "</table><br/><br/><sub>A linear parametric conditional average treatment effect (CATE) model was fitted:<br/>$Y = \\Theta(X)\\cdot T + g(X, W) + \\epsilon$<br/>where for every outcome $i$ and treatment $j$ the CATE $\\Theta_{ij}(X)$ has the form:<br/>$\\Theta_{ij}(X) = \\phi(X)' coef_{ij} + cate\\_intercept_{ij}$<br/>where $\\phi(X)$ is the output of the `featurizer` or $X$ if `featurizer`=None. Coefficient Results table portrays the $coef_{ij}$ parameter vector for each outcome $i$ and treatment $j$. Intercept Results table portrays the $cate\\_intercept_{ij}$ parameter.</sub>"
      ],
      "text/plain": [
       "<class 'econml.utilities.Summary'>\n",
       "\"\"\"\n",
       "                             CATE Intercept Results                             \n",
       "================================================================================\n",
       "                            point_estimate stderr zstat pvalue ci_lower ci_upper\n",
       "--------------------------------------------------------------------------------\n",
       "cate_intercept|(T0_1.0)$_0$          18.43   4.51 4.087    0.0   11.012   25.849\n",
       "cate_intercept|(T0_1.0)$_1$         22.059  4.224 5.222    0.0   15.111   29.008\n",
       "--------------------------------------------------------------------------------\n",
       "\n",
       "<sub>A linear parametric conditional average treatment effect (CATE) model was fitted:\n",
       "$Y = \\Theta(X)\\cdot T + g(X, W) + \\epsilon$\n",
       "where for every outcome $i$ and treatment $j$ the CATE $\\Theta_{ij}(X)$ has the form:\n",
       "$\\Theta_{ij}(X) = \\phi(X)' coef_{ij} + cate\\_intercept_{ij}$\n",
       "where $\\phi(X)$ is the output of the `featurizer` or $X$ if `featurizer`=None. Coefficient Results table portrays the $coef_{ij}$ parameter vector for each outcome $i$ and treatment $j$. Intercept Results table portrays the $cate\\_intercept_{ij}$ parameter.</sub>\n",
       "\"\"\""
      ]
     },
     "execution_count": 68,
     "metadata": {},
     "output_type": "execute_result"
    }
   ],
   "source": [
    "est.summary()"
   ]
  },
  {
   "cell_type": "code",
   "execution_count": 70,
   "metadata": {},
   "outputs": [
    {
     "data": {
      "text/html": [
       "<div>\n",
       "<style scoped>\n",
       "    .dataframe tbody tr th:only-of-type {\n",
       "        vertical-align: middle;\n",
       "    }\n",
       "\n",
       "    .dataframe tbody tr th {\n",
       "        vertical-align: top;\n",
       "    }\n",
       "\n",
       "    .dataframe thead th {\n",
       "        text-align: right;\n",
       "    }\n",
       "</style>\n",
       "<table border=\"1\" class=\"dataframe\">\n",
       "  <thead>\n",
       "    <tr style=\"text-align: right;\">\n",
       "      <th></th>\n",
       "      <th>point_estimate</th>\n",
       "      <th>stderr</th>\n",
       "      <th>zstat</th>\n",
       "      <th>pvalue</th>\n",
       "      <th>ci_lower</th>\n",
       "      <th>ci_upper</th>\n",
       "    </tr>\n",
       "    <tr>\n",
       "      <th>X</th>\n",
       "      <th></th>\n",
       "      <th></th>\n",
       "      <th></th>\n",
       "      <th></th>\n",
       "      <th></th>\n",
       "      <th></th>\n",
       "    </tr>\n",
       "  </thead>\n",
       "  <tbody>\n",
       "    <tr>\n",
       "      <th>0</th>\n",
       "      <td>40.49</td>\n",
       "      <td>4.988</td>\n",
       "      <td>8.117</td>\n",
       "      <td>0.0</td>\n",
       "      <td>32.285</td>\n",
       "      <td>48.695</td>\n",
       "    </tr>\n",
       "  </tbody>\n",
       "</table>\n",
       "</div>"
      ],
      "text/plain": [
       "   point_estimate  stderr  zstat  pvalue  ci_lower  ci_upper\n",
       "X                                                           \n",
       "0           40.49   4.988  8.117     0.0    32.285    48.695"
      ]
     },
     "execution_count": 70,
     "metadata": {},
     "output_type": "execute_result"
    }
   ],
   "source": [
    "est.effect_inference().summary_frame()"
   ]
  },
  {
   "cell_type": "markdown",
   "metadata": {},
   "source": [
    "# SNMM Algorithm"
   ]
  },
  {
   "cell_type": "code",
   "execution_count": 1,
   "metadata": {},
   "outputs": [],
   "source": [
    "%load_ext autoreload\n",
    "%autoreload 2"
   ]
  },
  {
   "cell_type": "code",
   "execution_count": 2,
   "metadata": {},
   "outputs": [],
   "source": [
    "# Helper imports\n",
    "import numpy as np\n",
    "from sklearn.linear_model import Lasso, LassoCV, LogisticRegression, LogisticRegressionCV, MultiTaskLassoCV\n",
    "import matplotlib.pyplot as plt\n",
    "import pandas as pd\n",
    "import numpy as np\n",
    "from sklearn.linear_model import LassoCV, LogisticRegressionCV\n",
    "\n",
    "import warnings\n",
    "warnings.simplefilter('ignore')\n",
    "\n",
    "%matplotlib inline"
   ]
  },
  {
   "cell_type": "markdown",
   "metadata": {},
   "source": [
    "### Real data"
   ]
  },
  {
   "cell_type": "code",
   "execution_count": 3,
   "metadata": {},
   "outputs": [
    {
     "data": {
      "text/html": [
       "<div>\n",
       "<style scoped>\n",
       "    .dataframe tbody tr th:only-of-type {\n",
       "        vertical-align: middle;\n",
       "    }\n",
       "\n",
       "    .dataframe tbody tr th {\n",
       "        vertical-align: top;\n",
       "    }\n",
       "\n",
       "    .dataframe thead th {\n",
       "        text-align: right;\n",
       "    }\n",
       "</style>\n",
       "<table border=\"1\" class=\"dataframe\">\n",
       "  <thead>\n",
       "    <tr style=\"text-align: right;\">\n",
       "      <th></th>\n",
       "      <th>assignment</th>\n",
       "      <th>female</th>\n",
       "      <th>age</th>\n",
       "      <th>white</th>\n",
       "      <th>black</th>\n",
       "      <th>hispanic</th>\n",
       "      <th>educ</th>\n",
       "      <th>educmis</th>\n",
       "      <th>geddegree</th>\n",
       "      <th>hsdegree</th>\n",
       "      <th>...</th>\n",
       "      <th>trainy1</th>\n",
       "      <th>trainy2</th>\n",
       "      <th>pworky2</th>\n",
       "      <th>pworky3</th>\n",
       "      <th>pworky4</th>\n",
       "      <th>earny2</th>\n",
       "      <th>earny3</th>\n",
       "      <th>earny4</th>\n",
       "      <th>health30</th>\n",
       "      <th>health48</th>\n",
       "    </tr>\n",
       "    <tr>\n",
       "      <th>id</th>\n",
       "      <th></th>\n",
       "      <th></th>\n",
       "      <th></th>\n",
       "      <th></th>\n",
       "      <th></th>\n",
       "      <th></th>\n",
       "      <th></th>\n",
       "      <th></th>\n",
       "      <th></th>\n",
       "      <th></th>\n",
       "      <th></th>\n",
       "      <th></th>\n",
       "      <th></th>\n",
       "      <th></th>\n",
       "      <th></th>\n",
       "      <th></th>\n",
       "      <th></th>\n",
       "      <th></th>\n",
       "      <th></th>\n",
       "      <th></th>\n",
       "      <th></th>\n",
       "    </tr>\n",
       "  </thead>\n",
       "  <tbody>\n",
       "    <tr>\n",
       "      <th>2</th>\n",
       "      <td>0</td>\n",
       "      <td>0</td>\n",
       "      <td>24</td>\n",
       "      <td>0</td>\n",
       "      <td>1</td>\n",
       "      <td>0</td>\n",
       "      <td>12</td>\n",
       "      <td>0</td>\n",
       "      <td>0</td>\n",
       "      <td>1</td>\n",
       "      <td>...</td>\n",
       "      <td>0</td>\n",
       "      <td>0</td>\n",
       "      <td>26.923077</td>\n",
       "      <td>86.538460</td>\n",
       "      <td>65.384613</td>\n",
       "      <td>63.387691</td>\n",
       "      <td>238.996002</td>\n",
       "      <td>265.188324</td>\n",
       "      <td>2</td>\n",
       "      <td>2</td>\n",
       "    </tr>\n",
       "    <tr>\n",
       "      <th>3</th>\n",
       "      <td>1</td>\n",
       "      <td>1</td>\n",
       "      <td>18</td>\n",
       "      <td>1</td>\n",
       "      <td>0</td>\n",
       "      <td>0</td>\n",
       "      <td>8</td>\n",
       "      <td>0</td>\n",
       "      <td>1</td>\n",
       "      <td>0</td>\n",
       "      <td>...</td>\n",
       "      <td>1</td>\n",
       "      <td>0</td>\n",
       "      <td>30.769230</td>\n",
       "      <td>26.923077</td>\n",
       "      <td>71.153847</td>\n",
       "      <td>95.603455</td>\n",
       "      <td>41.870399</td>\n",
       "      <td>216.835815</td>\n",
       "      <td>1</td>\n",
       "      <td>2</td>\n",
       "    </tr>\n",
       "    <tr>\n",
       "      <th>5</th>\n",
       "      <td>0</td>\n",
       "      <td>1</td>\n",
       "      <td>18</td>\n",
       "      <td>0</td>\n",
       "      <td>1</td>\n",
       "      <td>0</td>\n",
       "      <td>10</td>\n",
       "      <td>0</td>\n",
       "      <td>0</td>\n",
       "      <td>0</td>\n",
       "      <td>...</td>\n",
       "      <td>1</td>\n",
       "      <td>0</td>\n",
       "      <td>0.000000</td>\n",
       "      <td>36.538460</td>\n",
       "      <td>11.538462</td>\n",
       "      <td>0.000000</td>\n",
       "      <td>52.758656</td>\n",
       "      <td>11.856046</td>\n",
       "      <td>3</td>\n",
       "      <td>2</td>\n",
       "    </tr>\n",
       "    <tr>\n",
       "      <th>7</th>\n",
       "      <td>1</td>\n",
       "      <td>1</td>\n",
       "      <td>17</td>\n",
       "      <td>1</td>\n",
       "      <td>0</td>\n",
       "      <td>0</td>\n",
       "      <td>10</td>\n",
       "      <td>0</td>\n",
       "      <td>0</td>\n",
       "      <td>0</td>\n",
       "      <td>...</td>\n",
       "      <td>1</td>\n",
       "      <td>1</td>\n",
       "      <td>100.000000</td>\n",
       "      <td>32.692307</td>\n",
       "      <td>15.384615</td>\n",
       "      <td>285.628265</td>\n",
       "      <td>71.364548</td>\n",
       "      <td>18.296368</td>\n",
       "      <td>2</td>\n",
       "      <td>3</td>\n",
       "    </tr>\n",
       "    <tr>\n",
       "      <th>9</th>\n",
       "      <td>1</td>\n",
       "      <td>0</td>\n",
       "      <td>21</td>\n",
       "      <td>0</td>\n",
       "      <td>0</td>\n",
       "      <td>1</td>\n",
       "      <td>12</td>\n",
       "      <td>0</td>\n",
       "      <td>0</td>\n",
       "      <td>1</td>\n",
       "      <td>...</td>\n",
       "      <td>1</td>\n",
       "      <td>0</td>\n",
       "      <td>44.230770</td>\n",
       "      <td>96.153847</td>\n",
       "      <td>100.000000</td>\n",
       "      <td>86.732307</td>\n",
       "      <td>247.794205</td>\n",
       "      <td>221.147690</td>\n",
       "      <td>2</td>\n",
       "      <td>2</td>\n",
       "    </tr>\n",
       "  </tbody>\n",
       "</table>\n",
       "<p>5 rows × 46 columns</p>\n",
       "</div>"
      ],
      "text/plain": [
       "    assignment  female  age  white  black  hispanic  educ  educmis  geddegree  \\\n",
       "id                                                                              \n",
       "2            0       0   24      0      1         0    12        0          0   \n",
       "3            1       1   18      1      0         0     8        0          1   \n",
       "5            0       1   18      0      1         0    10        0          0   \n",
       "7            1       1   17      1      0         0    10        0          0   \n",
       "9            1       0   21      0      0         1    12        0          0   \n",
       "\n",
       "    hsdegree  ...  trainy1  trainy2     pworky2    pworky3     pworky4  \\\n",
       "id            ...                                                        \n",
       "2          1  ...        0        0   26.923077  86.538460   65.384613   \n",
       "3          0  ...        1        0   30.769230  26.923077   71.153847   \n",
       "5          0  ...        1        0    0.000000  36.538460   11.538462   \n",
       "7          0  ...        1        1  100.000000  32.692307   15.384615   \n",
       "9          1  ...        1        0   44.230770  96.153847  100.000000   \n",
       "\n",
       "        earny2      earny3      earny4  health30  health48  \n",
       "id                                                          \n",
       "2    63.387691  238.996002  265.188324         2         2  \n",
       "3    95.603455   41.870399  216.835815         1         2  \n",
       "5     0.000000   52.758656   11.856046         3         2  \n",
       "7   285.628265   71.364548   18.296368         2         3  \n",
       "9    86.732307  247.794205  221.147690         2         2  \n",
       "\n",
       "[5 rows x 46 columns]"
      ]
     },
     "execution_count": 3,
     "metadata": {},
     "output_type": "execute_result"
    }
   ],
   "source": [
    "df = pd.read_csv('JC.csv')\n",
    "df = df.rename(columns={'Unnamed: 0':'id'}).reset_index().drop('index', axis=1).set_index(['id'])\n",
    "df.head()"
   ]
  },
  {
   "cell_type": "code",
   "execution_count": 4,
   "metadata": {},
   "outputs": [],
   "source": [
    "x0_cols = list(df.columns[1:29])\n",
    "x1_cols = list(df.columns[29:36])\n",
    "t0_cols = df.columns[[36]]\n",
    "t1_cols = df.columns[[37]]\n",
    "y_col = df.columns[43]"
   ]
  },
  {
   "cell_type": "code",
   "execution_count": 5,
   "metadata": {},
   "outputs": [
    {
     "data": {
      "image/png": "[encoded data removed]",
      "text/plain": [
       "<Figure size 432x288 with 1 Axes>"
      ]
     },
     "metadata": {
      "needs_background": "light"
     },
     "output_type": "display_data"
    }
   ],
   "source": [
    "plt.hist(df['educmum'])\n",
    "plt.show()"
   ]
  },
  {
   "cell_type": "code",
   "execution_count": 6,
   "metadata": {},
   "outputs": [],
   "source": [
    "y = df[y_col].values\n",
    "X = {0: df[x0_cols], 1: df[x1_cols], 'het': df[x0_cols]}\n",
    "T = {0: df[t0_cols].values, 1: df[t1_cols].values}\n",
    "m = 2"
   ]
  },
  {
   "cell_type": "code",
   "execution_count": 7,
   "metadata": {},
   "outputs": [],
   "source": [
    "cat = ['age', 'educ', 'educmum', 'educdad']\n",
    "X[0] = pd.get_dummies(X[0], columns=cat)\n",
    "X[0] = pd.concat([X[0], df[cat]], axis=1)\n",
    "x0_cols = list(X[0].columns)"
   ]
  },
  {
   "cell_type": "code",
   "execution_count": 16,
   "metadata": {},
   "outputs": [],
   "source": [
    "true_effect_params = np.zeros((m, T[0].shape[1]))"
   ]
  },
  {
   "cell_type": "markdown",
   "metadata": {},
   "source": [
    "### Simulated Data"
   ]
  },
  {
   "cell_type": "code",
   "execution_count": 4,
   "metadata": {},
   "outputs": [],
   "source": [
    "from snmm import gen_data\n",
    "m = 2\n",
    "y, X, T, true_effect_params = gen_data(n_periods=m, n_units=10000, n_treatments=1,\n",
    "                                       n_x=10, s_x=1, s_t=1,\n",
    "                                       hetero_strenth=.0, n_hetero_vars=0, autoreg=1.0,\n",
    "                                       instance_seed=13, sample_seed=1)"
   ]
  },
  {
   "cell_type": "code",
   "execution_count": 5,
   "metadata": {},
   "outputs": [],
   "source": [
    "X['het'] = X[0]"
   ]
  },
  {
   "cell_type": "code",
   "execution_count": 6,
   "metadata": {},
   "outputs": [
    {
     "data": {
      "text/plain": [
       "array([[[1.18717626]],\n",
       "\n",
       "       [[0.22369918]]])"
      ]
     },
     "execution_count": 6,
     "metadata": {},
     "output_type": "execute_result"
    }
   ],
   "source": [
    "true_effect_params"
   ]
  },
  {
   "cell_type": "markdown",
   "metadata": {},
   "source": [
    "### Simulated data with heterogeneity"
   ]
  },
  {
   "cell_type": "code",
   "execution_count": 6,
   "metadata": {},
   "outputs": [],
   "source": [
    "from snmm import gen_data\n",
    "m = 2\n",
    "y, X, T, true_effect_params = gen_data(n_periods=m, n_units=10000, n_treatments=1,\n",
    "                                       n_x=10, s_x=1, s_t=1,\n",
    "                                       hetero_strenth=.5, n_hetero_vars=1, autoreg=1.0,\n",
    "                                       instance_seed=123, sample_seed=1)"
   ]
  },
  {
   "cell_type": "code",
   "execution_count": 10,
   "metadata": {},
   "outputs": [
    {
     "data": {
      "text/plain": [
       "array([[[0.88288977, 0.45027826]],\n",
       "\n",
       "       [[0.81068315, 0.32122891]]])"
      ]
     },
     "execution_count": 10,
     "metadata": {},
     "output_type": "execute_result"
    }
   ],
   "source": [
    "true_effect_params"
   ]
  },
  {
   "cell_type": "markdown",
   "metadata": {},
   "source": [
    "# Analysis"
   ]
  },
  {
   "cell_type": "code",
   "execution_count": 7,
   "metadata": {},
   "outputs": [],
   "source": [
    "from snmm import get_linear_model_reg, get_linear_multimodel_reg\n",
    "from snmm import get_model_reg, get_multimodel_reg\n",
    "from snmm import get_poly_model_reg, get_poly_multimodel_reg\n",
    "from econml.utilities import cross_product"
   ]
  },
  {
   "cell_type": "markdown",
   "metadata": {},
   "source": [
    "### Define Model Parameters"
   ]
  },
  {
   "cell_type": "code",
   "execution_count": 8,
   "metadata": {},
   "outputs": [],
   "source": [
    "# model_reg_fn = lambda X, y: get_model_reg(X, y, degrees=[1])\n",
    "# multimodel_reg_fn = lambda X, y: get_multimodel_reg(X, y, degrees=[1])\n",
    "# model_reg_fn = get_linear_model_reg\n",
    "# multimodel_reg_fn = get_linear_multimodel_reg\n",
    "model_reg_fn = lambda X, y: get_poly_model_reg(X, y, degree=1, interaction_only=True)\n",
    "multimodel_reg_fn = lambda X, y: get_poly_multimodel_reg(X, y, degree=1, interaction_only=True)"
   ]
  },
  {
   "cell_type": "code",
   "execution_count": 9,
   "metadata": {},
   "outputs": [],
   "source": [
    "het_cols11 = list(X[1].columns)\n",
    "het_cols10 = list(X[0].columns)\n",
    "het_cols0 = list(X[0].columns)\n",
    "def phi(t, X, T, Tt):\n",
    "    if t == 1:\n",
    "        return np.hstack([Tt,\n",
    "                          cross_product(Tt, T[t-1]),\n",
    "                          cross_product(Tt, X[t][het_cols11].values),\n",
    "                          cross_product(Tt, X[t-1][het_cols10].values),\n",
    "                          cross_product(Tt, T[t-1], X[t][het_cols11].values),\n",
    "                          cross_product(Tt, T[t-1], X[t-1][het_cols10].values)\n",
    "                         ])\n",
    "    elif t==0:\n",
    "        return np.hstack([Tt, cross_product(Tt, X[t][het_cols0].values)])\n",
    "    raise AttributeError(\"Not valid\")\n",
    "\n",
    "def phi_names(t):\n",
    "    if t == 1:\n",
    "        return ([f't2[{x}]' for x in range(T[1].shape[1])] +\n",
    "                [f't2[{x}]*t1[{y}]' for y in range(T[0].shape[1]) for x in range(T[1].shape[1])] +\n",
    "                [f't2[{x}]*x2[{y}]' for y in het_cols11 for x in range(T[1].shape[1])] + \n",
    "                [f't2[{x}]*x1[{y}]' for y in het_cols10 for x in range(T[1].shape[1])] +\n",
    "                [f't2[{x}]*t1[{y}]*{z}' for z in het_cols11 for y in range(T[0].shape[1])\n",
    "                                        for x in range(T[1].shape[1])] + \n",
    "                [f't2[{x}]*t1[{y}]*{z}' for z in het_cols10 for y in range(T[0].shape[1])\n",
    "                                        for x in range(T[1].shape[1])]\n",
    "               )\n",
    "    elif t == 0:\n",
    "        return ([f't1[{x}]' for x in range(T[1].shape[1])] + \n",
    "                [f't1[{x}]*{y}' for y in het_cols0 for x in range(T[1].shape[1])])\n",
    "    raise AttributeError(\"Not valid\")\n",
    "\n",
    "def pi(t, X, T):\n",
    "    return np.ones(T[t].shape)"
   ]
  },
  {
   "cell_type": "markdown",
   "metadata": {},
   "source": [
    "### Estimate High-Dimensional Linear Blip Model"
   ]
  },
  {
   "cell_type": "code",
   "execution_count": 10,
   "metadata": {},
   "outputs": [],
   "source": [
    "from snmm import SNMMDynamicDML\n",
    "\n",
    "est = SNMMDynamicDML(m=m, phi=phi, phi_names_fn=phi_names,\n",
    "                     model_reg_fn=model_reg_fn,\n",
    "                     model_final_fn=lambda: LassoCV())"
   ]
  },
  {
   "cell_type": "code",
   "execution_count": 11,
   "metadata": {
    "scrolled": true
   },
   "outputs": [
    {
     "name": "stdout",
     "output_type": "stream",
     "text": [
      "Info set: 0\n",
      "r2score_y 0.535686323385953\n",
      "Treatment: 0\n",
      "r2score_Qjt[0] 0.9399206853521058\n",
      "r2score_Qjt[1] -0.0002888349713918714\n",
      "r2score_Qjt[2] -0.0006568518419245439\n",
      "r2score_Qjt[3] 0.0001671085804217931\n",
      "r2score_Qjt[4] 0.0011237064450433376\n",
      "r2score_Qjt[5] 0.0013886270163980807\n",
      "r2score_Qjt[6] -0.0002423764287122765\n",
      "r2score_Qjt[7] -4.4572033741197004e-05\n",
      "r2score_Qjt[8] -0.00024387787327806443\n",
      "r2score_Qjt[9] -0.0007789819254953034\n",
      "r2score_Qjt[10] -0.0008079664825964006\n",
      "Treatment: 1\n",
      "r2score_Qjt[0] 0.5236848975272814\n",
      "r2score_Qjt[1] 0.016439448777584187\n",
      "r2score_Qjt[2] 0.00437316421501277\n",
      "r2score_Qjt[3] 0.008449349292482644\n",
      "r2score_Qjt[4] 0.013546010490174676\n",
      "r2score_Qjt[5] 0.009677099372915277\n",
      "r2score_Qjt[6] 0.010205641737204951\n",
      "r2score_Qjt[7] 0.015469155403806223\n",
      "r2score_Qjt[8] 0.008948750185188814\n",
      "r2score_Qjt[9] 0.011902337609243863\n",
      "r2score_Qjt[10] 0.01267499196415689\n",
      "r2score_Qjt[11] 0.012234090313216872\n",
      "r2score_Qjt[12] 0.016857948763571273\n",
      "r2score_Qjt[13] 0.021835065227732264\n",
      "r2score_Qjt[14] 0.029150712940461454\n",
      "r2score_Qjt[15] 0.02390099997371542\n",
      "r2score_Qjt[16] 0.03712875740601074\n",
      "r2score_Qjt[17] 0.025461018588749496\n",
      "r2score_Qjt[18] 0.027312305090701927\n",
      "r2score_Qjt[19] 0.02918955632456932\n",
      "r2score_Qjt[20] 0.029150645667310182\n",
      "r2score_Qjt[21] 0.020046546023686496\n",
      "r2score_Qjt[22] 0.4293269429638509\n",
      "r2score_Qjt[23] 0.3708625568745052\n",
      "r2score_Qjt[24] 0.3468864941930023\n",
      "r2score_Qjt[25] 0.43096002325180616\n",
      "r2score_Qjt[26] 0.4035319599274413\n",
      "r2score_Qjt[27] 0.42937162036651544\n",
      "r2score_Qjt[28] 0.38252979845391044\n",
      "r2score_Qjt[29] 0.41549441151546174\n",
      "r2score_Qjt[30] 0.34505807929405596\n",
      "r2score_Qjt[31] 0.42392238971595875\n",
      "r2score_Qjt[32] 0.4825462900113059\n",
      "r2score_Qjt[33] 0.25730976924630056\n",
      "r2score_Qjt[34] 0.25247711300616393\n",
      "r2score_Qjt[35] 0.26306022056147194\n",
      "r2score_Qjt[36] 0.2507693167007996\n",
      "r2score_Qjt[37] 0.25589568581917166\n",
      "r2score_Qjt[38] 0.24536203461624273\n",
      "r2score_Qjt[39] 0.24938843966875723\n",
      "r2score_Qjt[40] 0.253930975074938\n",
      "r2score_Qjt[41] 0.24309235914092842\n",
      "Info set: 1\n",
      "r2score_y 0.9994481873931452\n",
      "Treatment: 1\n",
      "r2score_Qjt[0] 0.9730285401638148\n",
      "r2score_Qjt[1] -0.0003841048867923025\n",
      "r2score_Qjt[2] -0.0006504762631627248\n",
      "r2score_Qjt[3] -0.00011781566246504838\n",
      "r2score_Qjt[4] -0.0004325441852175427\n",
      "r2score_Qjt[5] -0.00039142892414467667\n",
      "r2score_Qjt[6] -0.0009591402293080975\n",
      "r2score_Qjt[7] -0.0004131496778618793\n",
      "r2score_Qjt[8] -0.00029144963307370375\n",
      "r2score_Qjt[9] -0.0006870030233858682\n",
      "r2score_Qjt[10] -0.00026831814870686976\n",
      "r2score_Qjt[11] -0.00027855797104003877\n",
      "r2score_Qjt[12] -0.0003606370189335184\n",
      "r2score_Qjt[13] -0.0005246581678204354\n",
      "r2score_Qjt[14] -0.0001441096483485449\n",
      "r2score_Qjt[15] -0.00015287876205771767\n",
      "r2score_Qjt[16] 0.0024638453836176577\n",
      "r2score_Qjt[17] -0.0002064492114122185\n",
      "r2score_Qjt[18] -0.00018000807521034723\n",
      "r2score_Qjt[19] -0.0003720744481774396\n",
      "r2score_Qjt[20] -0.0006050219966644566\n",
      "r2score_Qjt[21] -0.0013366692480738518\n",
      "r2score_Qjt[22] 0.5423308788819052\n",
      "r2score_Qjt[23] 0.4683783811621173\n",
      "r2score_Qjt[24] 0.44965047124229063\n",
      "r2score_Qjt[25] 0.5113059538478533\n",
      "r2score_Qjt[26] 0.4902310552544793\n",
      "r2score_Qjt[27] 0.5088006393610122\n",
      "r2score_Qjt[28] 0.482452146344863\n",
      "r2score_Qjt[29] 0.5068858947291953\n",
      "r2score_Qjt[30] 0.4510812098924004\n",
      "r2score_Qjt[31] 0.5030748654223298\n",
      "r2score_Qjt[32] 0.5350821466214173\n",
      "r2score_Qjt[33] 0.26072423517655663\n",
      "r2score_Qjt[34] 0.2566364081527065\n",
      "r2score_Qjt[35] 0.26741989454241766\n",
      "r2score_Qjt[36] 0.25439402085796514\n",
      "r2score_Qjt[37] 0.259845702005014\n",
      "r2score_Qjt[38] 0.2485529444843264\n",
      "r2score_Qjt[39] 0.2541026182608951\n",
      "r2score_Qjt[40] 0.2558145341632637\n",
      "r2score_Qjt[41] 0.24867974485576383\n"
     ]
    },
    {
     "data": {
      "text/plain": [
       "<snmm.SNMMDynamicDML at 0x22c0c7bca90>"
      ]
     },
     "execution_count": 11,
     "metadata": {},
     "output_type": "execute_result"
    }
   ],
   "source": [
    "est.fit(X, T, y, pi)"
   ]
  },
  {
   "cell_type": "code",
   "execution_count": 12,
   "metadata": {},
   "outputs": [
    {
     "name": "stdout",
     "output_type": "stream",
     "text": [
      "(1.1921341981011262, 0.09769111255742031)\n"
     ]
    }
   ],
   "source": [
    "print(est.policy_value_)"
   ]
  },
  {
   "cell_type": "code",
   "execution_count": 13,
   "metadata": {},
   "outputs": [
    {
     "name": "stdout",
     "output_type": "stream",
     "text": [
      "Period 0 effects [[1.18717626]]\n"
     ]
    },
    {
     "data": {
      "text/html": [
       "<div>\n",
       "<style scoped>\n",
       "    .dataframe tbody tr th:only-of-type {\n",
       "        vertical-align: middle;\n",
       "    }\n",
       "\n",
       "    .dataframe tbody tr th {\n",
       "        vertical-align: top;\n",
       "    }\n",
       "\n",
       "    .dataframe thead th {\n",
       "        text-align: right;\n",
       "    }\n",
       "</style>\n",
       "<table border=\"1\" class=\"dataframe\">\n",
       "  <thead>\n",
       "    <tr style=\"text-align: right;\">\n",
       "      <th></th>\n",
       "      <th>point_estimate</th>\n",
       "      <th>stderr</th>\n",
       "      <th>zstat</th>\n",
       "      <th>pvalue</th>\n",
       "      <th>ci_lower</th>\n",
       "      <th>ci_upper</th>\n",
       "    </tr>\n",
       "    <tr>\n",
       "      <th>X</th>\n",
       "      <th></th>\n",
       "      <th></th>\n",
       "      <th></th>\n",
       "      <th></th>\n",
       "      <th></th>\n",
       "      <th></th>\n",
       "    </tr>\n",
       "  </thead>\n",
       "  <tbody>\n",
       "    <tr>\n",
       "      <th>t1[0]</th>\n",
       "      <td>1.127</td>\n",
       "      <td>0.061</td>\n",
       "      <td>18.596</td>\n",
       "      <td>0.000</td>\n",
       "      <td>1.028</td>\n",
       "      <td>1.227</td>\n",
       "    </tr>\n",
       "    <tr>\n",
       "      <th>t1[0]*w0</th>\n",
       "      <td>0.032</td>\n",
       "      <td>0.013</td>\n",
       "      <td>2.441</td>\n",
       "      <td>0.015</td>\n",
       "      <td>0.010</td>\n",
       "      <td>0.054</td>\n",
       "    </tr>\n",
       "    <tr>\n",
       "      <th>t1[0]*w1</th>\n",
       "      <td>0.013</td>\n",
       "      <td>0.018</td>\n",
       "      <td>0.706</td>\n",
       "      <td>0.480</td>\n",
       "      <td>-0.017</td>\n",
       "      <td>0.043</td>\n",
       "    </tr>\n",
       "    <tr>\n",
       "      <th>t1[0]*w8</th>\n",
       "      <td>-0.011</td>\n",
       "      <td>0.018</td>\n",
       "      <td>-0.623</td>\n",
       "      <td>0.534</td>\n",
       "      <td>-0.041</td>\n",
       "      <td>0.018</td>\n",
       "    </tr>\n",
       "  </tbody>\n",
       "</table>\n",
       "</div>"
      ],
      "text/plain": [
       "          point_estimate  stderr   zstat  pvalue  ci_lower  ci_upper\n",
       "X                                                                   \n",
       "t1[0]              1.127   0.061  18.596   0.000     1.028     1.227\n",
       "t1[0]*w0           0.032   0.013   2.441   0.015     0.010     0.054\n",
       "t1[0]*w1           0.013   0.018   0.706   0.480    -0.017     0.043\n",
       "t1[0]*w8          -0.011   0.018  -0.623   0.534    -0.041     0.018"
      ]
     },
     "metadata": {},
     "output_type": "display_data"
    },
    {
     "name": "stdout",
     "output_type": "stream",
     "text": [
      "Period 1 effects [[0.22369918]]\n"
     ]
    },
    {
     "data": {
      "text/html": [
       "<div>\n",
       "<style scoped>\n",
       "    .dataframe tbody tr th:only-of-type {\n",
       "        vertical-align: middle;\n",
       "    }\n",
       "\n",
       "    .dataframe tbody tr th {\n",
       "        vertical-align: top;\n",
       "    }\n",
       "\n",
       "    .dataframe thead th {\n",
       "        text-align: right;\n",
       "    }\n",
       "</style>\n",
       "<table border=\"1\" class=\"dataframe\">\n",
       "  <thead>\n",
       "    <tr style=\"text-align: right;\">\n",
       "      <th></th>\n",
       "      <th>point_estimate</th>\n",
       "      <th>stderr</th>\n",
       "      <th>zstat</th>\n",
       "      <th>pvalue</th>\n",
       "      <th>ci_lower</th>\n",
       "      <th>ci_upper</th>\n",
       "    </tr>\n",
       "    <tr>\n",
       "      <th>X</th>\n",
       "      <th></th>\n",
       "      <th></th>\n",
       "      <th></th>\n",
       "      <th></th>\n",
       "      <th></th>\n",
       "      <th></th>\n",
       "    </tr>\n",
       "  </thead>\n",
       "  <tbody>\n",
       "    <tr>\n",
       "      <th>t2[0]</th>\n",
       "      <td>0.221</td>\n",
       "      <td>0.001</td>\n",
       "      <td>219.999</td>\n",
       "      <td>0.0</td>\n",
       "      <td>0.219</td>\n",
       "      <td>0.223</td>\n",
       "    </tr>\n",
       "  </tbody>\n",
       "</table>\n",
       "</div>"
      ],
      "text/plain": [
       "       point_estimate  stderr    zstat  pvalue  ci_lower  ci_upper\n",
       "X                                                                 \n",
       "t2[0]           0.221   0.001  219.999     0.0     0.219     0.223"
      ]
     },
     "metadata": {},
     "output_type": "display_data"
    }
   ],
   "source": [
    "sig = {}\n",
    "for t in range(m):\n",
    "    print(f'Period {t} effects {true_effect_params[t]}')\n",
    "    with pd.option_context(\"precision\", 3):\n",
    "        sig[t] = np.abs(est.psi_[t]) > 0.01\n",
    "        display(est.param_summary(t, coef_thr=0.01).summary_frame())"
   ]
  },
  {
   "cell_type": "markdown",
   "metadata": {},
   "source": [
    "### Post Selection Inference (not unbiased): Low Dimensional Blip Model"
   ]
  },
  {
   "cell_type": "code",
   "execution_count": 14,
   "metadata": {},
   "outputs": [],
   "source": [
    "def phi_sub(t, X, T, Tt):\n",
    "    return phi(t, X, T, Tt)[:, sig[t]]\n",
    "\n",
    "def phi_names_sub(t):\n",
    "    return np.array(phi_names(t))[sig[t]]"
   ]
  },
  {
   "cell_type": "code",
   "execution_count": 15,
   "metadata": {},
   "outputs": [],
   "source": [
    "from sklearn.linear_model import LinearRegression\n",
    "\n",
    "est_sub = SNMMDynamicDML(m=m, phi=phi_sub, phi_names_fn=phi_names_sub,\n",
    "                         model_reg_fn=lambda X, y: get_model_reg(X, y, degrees=[1]),\n",
    "                         model_final_fn=lambda: LinearRegression())"
   ]
  },
  {
   "cell_type": "code",
   "execution_count": 16,
   "metadata": {
    "scrolled": true
   },
   "outputs": [
    {
     "name": "stdout",
     "output_type": "stream",
     "text": [
      "Info set: 0\n",
      "r2score_y 0.5356728423401395\n",
      "Treatment: 0\n",
      "r2score_Qjt[0] 0.9399255877738901\n",
      "r2score_Qjt[1] 0.9550029747176256\n",
      "r2score_Qjt[2] 0.9063575637400441\n",
      "r2score_Qjt[3] 0.906721914820634\n",
      "Treatment: 1\n",
      "r2score_Qjt[0] 0.5236853546244455\n",
      "Info set: 1\n",
      "r2score_y 0.9994490332152348\n",
      "Treatment: 1\n",
      "r2score_Qjt[0] 0.9730269387908964\n"
     ]
    },
    {
     "data": {
      "text/plain": [
       "<snmm.SNMMDynamicDML at 0x22c0d6403d0>"
      ]
     },
     "execution_count": 16,
     "metadata": {},
     "output_type": "execute_result"
    }
   ],
   "source": [
    "est_sub.fit(X, T, y, pi)"
   ]
  },
  {
   "cell_type": "code",
   "execution_count": 17,
   "metadata": {},
   "outputs": [
    {
     "name": "stdout",
     "output_type": "stream",
     "text": [
      "(1.347163857615673, 0.20882629432909142)\n"
     ]
    }
   ],
   "source": [
    "print(est_sub.policy_value_)"
   ]
  },
  {
   "cell_type": "code",
   "execution_count": 18,
   "metadata": {},
   "outputs": [
    {
     "name": "stdout",
     "output_type": "stream",
     "text": [
      "Period 0 effects [[1.18717626]]\n"
     ]
    },
    {
     "data": {
      "text/html": [
       "<div>\n",
       "<style scoped>\n",
       "    .dataframe tbody tr th:only-of-type {\n",
       "        vertical-align: middle;\n",
       "    }\n",
       "\n",
       "    .dataframe tbody tr th {\n",
       "        vertical-align: top;\n",
       "    }\n",
       "\n",
       "    .dataframe thead th {\n",
       "        text-align: right;\n",
       "    }\n",
       "</style>\n",
       "<table border=\"1\" class=\"dataframe\">\n",
       "  <thead>\n",
       "    <tr style=\"text-align: right;\">\n",
       "      <th></th>\n",
       "      <th>point_estimate</th>\n",
       "      <th>stderr</th>\n",
       "      <th>zstat</th>\n",
       "      <th>pvalue</th>\n",
       "      <th>ci_lower</th>\n",
       "      <th>ci_upper</th>\n",
       "    </tr>\n",
       "    <tr>\n",
       "      <th>X</th>\n",
       "      <th></th>\n",
       "      <th></th>\n",
       "      <th></th>\n",
       "      <th></th>\n",
       "      <th></th>\n",
       "      <th></th>\n",
       "    </tr>\n",
       "  </thead>\n",
       "  <tbody>\n",
       "    <tr>\n",
       "      <th>t1[0]</th>\n",
       "      <td>1.240</td>\n",
       "      <td>0.061</td>\n",
       "      <td>20.473</td>\n",
       "      <td>0.000</td>\n",
       "      <td>1.140</td>\n",
       "      <td>1.339</td>\n",
       "    </tr>\n",
       "    <tr>\n",
       "      <th>t1[0]*w0</th>\n",
       "      <td>0.018</td>\n",
       "      <td>0.059</td>\n",
       "      <td>0.310</td>\n",
       "      <td>0.756</td>\n",
       "      <td>-0.079</td>\n",
       "      <td>0.116</td>\n",
       "    </tr>\n",
       "    <tr>\n",
       "      <th>t1[0]*w1</th>\n",
       "      <td>-0.004</td>\n",
       "      <td>0.059</td>\n",
       "      <td>-0.063</td>\n",
       "      <td>0.950</td>\n",
       "      <td>-0.100</td>\n",
       "      <td>0.093</td>\n",
       "    </tr>\n",
       "    <tr>\n",
       "      <th>t1[0]*w8</th>\n",
       "      <td>-0.003</td>\n",
       "      <td>0.062</td>\n",
       "      <td>-0.047</td>\n",
       "      <td>0.963</td>\n",
       "      <td>-0.105</td>\n",
       "      <td>0.099</td>\n",
       "    </tr>\n",
       "  </tbody>\n",
       "</table>\n",
       "</div>"
      ],
      "text/plain": [
       "          point_estimate  stderr   zstat  pvalue  ci_lower  ci_upper\n",
       "X                                                                   \n",
       "t1[0]              1.240   0.061  20.473   0.000     1.140     1.339\n",
       "t1[0]*w0           0.018   0.059   0.310   0.756    -0.079     0.116\n",
       "t1[0]*w1          -0.004   0.059  -0.063   0.950    -0.100     0.093\n",
       "t1[0]*w8          -0.003   0.062  -0.047   0.963    -0.105     0.099"
      ]
     },
     "metadata": {},
     "output_type": "display_data"
    },
    {
     "name": "stdout",
     "output_type": "stream",
     "text": [
      "Period 1 effects [[0.22369918]]\n"
     ]
    },
    {
     "data": {
      "text/html": [
       "<div>\n",
       "<style scoped>\n",
       "    .dataframe tbody tr th:only-of-type {\n",
       "        vertical-align: middle;\n",
       "    }\n",
       "\n",
       "    .dataframe tbody tr th {\n",
       "        vertical-align: top;\n",
       "    }\n",
       "\n",
       "    .dataframe thead th {\n",
       "        text-align: right;\n",
       "    }\n",
       "</style>\n",
       "<table border=\"1\" class=\"dataframe\">\n",
       "  <thead>\n",
       "    <tr style=\"text-align: right;\">\n",
       "      <th></th>\n",
       "      <th>point_estimate</th>\n",
       "      <th>stderr</th>\n",
       "      <th>zstat</th>\n",
       "      <th>pvalue</th>\n",
       "      <th>ci_lower</th>\n",
       "      <th>ci_upper</th>\n",
       "    </tr>\n",
       "    <tr>\n",
       "      <th>X</th>\n",
       "      <th></th>\n",
       "      <th></th>\n",
       "      <th></th>\n",
       "      <th></th>\n",
       "      <th></th>\n",
       "      <th></th>\n",
       "    </tr>\n",
       "  </thead>\n",
       "  <tbody>\n",
       "    <tr>\n",
       "      <th>t2[0]</th>\n",
       "      <td>0.224</td>\n",
       "      <td>0.001</td>\n",
       "      <td>224.822</td>\n",
       "      <td>0.0</td>\n",
       "      <td>0.222</td>\n",
       "      <td>0.225</td>\n",
       "    </tr>\n",
       "  </tbody>\n",
       "</table>\n",
       "</div>"
      ],
      "text/plain": [
       "       point_estimate  stderr    zstat  pvalue  ci_lower  ci_upper\n",
       "X                                                                 \n",
       "t2[0]           0.224   0.001  224.822     0.0     0.222     0.225"
      ]
     },
     "metadata": {},
     "output_type": "display_data"
    }
   ],
   "source": [
    "for t in range(m):\n",
    "    print(f'Period {t} effects {true_effect_params[t]}')\n",
    "    with pd.option_context(\"precision\", 3):\n",
    "        display(est_sub.param_summary(t).summary_frame())"
   ]
  },
  {
   "cell_type": "markdown",
   "metadata": {},
   "source": [
    "### Policy Delta compared to all zero\n",
    "\n",
    "For simple phi, where the structural parameters don't change dependent on the target, we can do sth very simple"
   ]
  },
  {
   "cell_type": "code",
   "execution_count": 19,
   "metadata": {},
   "outputs": [
    {
     "name": "stdout",
     "output_type": "stream",
     "text": [
      "(1.4632915119891245, 0.060497995123099134)\n"
     ]
    }
   ],
   "source": [
    "print(est_sub.policy_delta_simple_)"
   ]
  },
  {
   "cell_type": "markdown",
   "metadata": {},
   "source": [
    "### For complex phi we need to re-run the estimation for base"
   ]
  },
  {
   "cell_type": "code",
   "execution_count": 20,
   "metadata": {},
   "outputs": [
    {
     "name": "stdout",
     "output_type": "stream",
     "text": [
      "Info set: 0\n",
      "r2score_y 0.5356728423401395\n",
      "Treatment: 0\n",
      "r2score_Qjt[0] 0.9399255877738901\n",
      "r2score_Qjt[1] 0.9550029747176256\n",
      "r2score_Qjt[2] 0.9063575637400441\n",
      "r2score_Qjt[3] 0.906721914820634\n",
      "Treatment: 1\n",
      "r2score_Qjt[0] 0.5236853546244455\n",
      "Info set: 1\n",
      "r2score_y 0.9994490332152348\n",
      "Treatment: 1\n",
      "r2score_Qjt[0] 0.9730269387908964\n"
     ]
    },
    {
     "data": {
      "text/plain": [
       "<snmm.SNMMDynamicDML at 0x22c0d6403d0>"
      ]
     },
     "execution_count": 20,
     "metadata": {},
     "output_type": "execute_result"
    }
   ],
   "source": [
    "est_sub.fit_base()"
   ]
  },
  {
   "cell_type": "code",
   "execution_count": 21,
   "metadata": {},
   "outputs": [],
   "source": [
    "deltapi, deltapierr = est_sub.policy_delta_complex()"
   ]
  },
  {
   "cell_type": "code",
   "execution_count": 22,
   "metadata": {},
   "outputs": [
    {
     "name": "stdout",
     "output_type": "stream",
     "text": [
      "1.4632915119891245 0.060497995123099134\n"
     ]
    }
   ],
   "source": [
    "print(deltapi, deltapierr)"
   ]
  },
  {
   "cell_type": "markdown",
   "metadata": {},
   "source": [
    "### Optimal Dynamic Policy"
   ]
  },
  {
   "cell_type": "code",
   "execution_count": 23,
   "metadata": {},
   "outputs": [
    {
     "name": "stdout",
     "output_type": "stream",
     "text": [
      "Info set: 1\n",
      "r2score_y 0.9994490332152348\n",
      "Treatment: 1\n",
      "r2score_Qjt[0] 0.9730269387908964\n",
      "Info set: 0\n",
      "r2score_y 0.5356728423401395\n",
      "Treatment: 0\n",
      "r2score_Qjt[0] 0.9399255877738901\n",
      "r2score_Qjt[1] 0.9550029747176256\n",
      "r2score_Qjt[2] 0.9063575637400441\n",
      "r2score_Qjt[3] 0.906721914820634\n",
      "Treatment: 1\n",
      "r2score_Qjt[0] 0.5236853546244455\n"
     ]
    },
    {
     "data": {
      "text/plain": [
       "<snmm.SNMMDynamicDML at 0x22c0d6403d0>"
      ]
     },
     "execution_count": 23,
     "metadata": {},
     "output_type": "execute_result"
    }
   ],
   "source": [
    "est_sub.fit_opt(X, T, y)"
   ]
  },
  {
   "cell_type": "code",
   "execution_count": 24,
   "metadata": {},
   "outputs": [
    {
     "name": "stdout",
     "output_type": "stream",
     "text": [
      "(1.4632915119891245, 0.060497995123099134)\n"
     ]
    }
   ],
   "source": [
    "print(est_sub.opt_policy_delta_simple_)"
   ]
  },
  {
   "cell_type": "code",
   "execution_count": 25,
   "metadata": {},
   "outputs": [
    {
     "name": "stdout",
     "output_type": "stream",
     "text": [
      "(1.4632915119891245, 0.060497995123099134)\n"
     ]
    }
   ],
   "source": [
    "print(est_sub.opt_policy_delta_complex())"
   ]
  },
  {
   "cell_type": "code",
   "execution_count": 26,
   "metadata": {},
   "outputs": [
    {
     "name": "stdout",
     "output_type": "stream",
     "text": [
      "Period 0 effects [[1.18717626]]\n"
     ]
    },
    {
     "data": {
      "text/html": [
       "<div>\n",
       "<style scoped>\n",
       "    .dataframe tbody tr th:only-of-type {\n",
       "        vertical-align: middle;\n",
       "    }\n",
       "\n",
       "    .dataframe tbody tr th {\n",
       "        vertical-align: top;\n",
       "    }\n",
       "\n",
       "    .dataframe thead th {\n",
       "        text-align: right;\n",
       "    }\n",
       "</style>\n",
       "<table border=\"1\" class=\"dataframe\">\n",
       "  <thead>\n",
       "    <tr style=\"text-align: right;\">\n",
       "      <th></th>\n",
       "      <th>point_estimate</th>\n",
       "      <th>stderr</th>\n",
       "      <th>zstat</th>\n",
       "      <th>pvalue</th>\n",
       "      <th>ci_lower</th>\n",
       "      <th>ci_upper</th>\n",
       "    </tr>\n",
       "    <tr>\n",
       "      <th>X</th>\n",
       "      <th></th>\n",
       "      <th></th>\n",
       "      <th></th>\n",
       "      <th></th>\n",
       "      <th></th>\n",
       "      <th></th>\n",
       "    </tr>\n",
       "  </thead>\n",
       "  <tbody>\n",
       "    <tr>\n",
       "      <th>t1[0]</th>\n",
       "      <td>1.240</td>\n",
       "      <td>0.061</td>\n",
       "      <td>20.473</td>\n",
       "      <td>0.000</td>\n",
       "      <td>1.140</td>\n",
       "      <td>1.339</td>\n",
       "    </tr>\n",
       "    <tr>\n",
       "      <th>t1[0]*w0</th>\n",
       "      <td>0.018</td>\n",
       "      <td>0.059</td>\n",
       "      <td>0.310</td>\n",
       "      <td>0.756</td>\n",
       "      <td>-0.079</td>\n",
       "      <td>0.116</td>\n",
       "    </tr>\n",
       "    <tr>\n",
       "      <th>t1[0]*w1</th>\n",
       "      <td>-0.004</td>\n",
       "      <td>0.059</td>\n",
       "      <td>-0.063</td>\n",
       "      <td>0.950</td>\n",
       "      <td>-0.100</td>\n",
       "      <td>0.093</td>\n",
       "    </tr>\n",
       "    <tr>\n",
       "      <th>t1[0]*w8</th>\n",
       "      <td>-0.003</td>\n",
       "      <td>0.062</td>\n",
       "      <td>-0.047</td>\n",
       "      <td>0.963</td>\n",
       "      <td>-0.105</td>\n",
       "      <td>0.099</td>\n",
       "    </tr>\n",
       "  </tbody>\n",
       "</table>\n",
       "</div>"
      ],
      "text/plain": [
       "          point_estimate  stderr   zstat  pvalue  ci_lower  ci_upper\n",
       "X                                                                   \n",
       "t1[0]              1.240   0.061  20.473   0.000     1.140     1.339\n",
       "t1[0]*w0           0.018   0.059   0.310   0.756    -0.079     0.116\n",
       "t1[0]*w1          -0.004   0.059  -0.063   0.950    -0.100     0.093\n",
       "t1[0]*w8          -0.003   0.062  -0.047   0.963    -0.105     0.099"
      ]
     },
     "metadata": {},
     "output_type": "display_data"
    },
    {
     "name": "stdout",
     "output_type": "stream",
     "text": [
      "Period 1 effects [[0.22369918]]\n"
     ]
    },
    {
     "data": {
      "text/html": [
       "<div>\n",
       "<style scoped>\n",
       "    .dataframe tbody tr th:only-of-type {\n",
       "        vertical-align: middle;\n",
       "    }\n",
       "\n",
       "    .dataframe tbody tr th {\n",
       "        vertical-align: top;\n",
       "    }\n",
       "\n",
       "    .dataframe thead th {\n",
       "        text-align: right;\n",
       "    }\n",
       "</style>\n",
       "<table border=\"1\" class=\"dataframe\">\n",
       "  <thead>\n",
       "    <tr style=\"text-align: right;\">\n",
       "      <th></th>\n",
       "      <th>point_estimate</th>\n",
       "      <th>stderr</th>\n",
       "      <th>zstat</th>\n",
       "      <th>pvalue</th>\n",
       "      <th>ci_lower</th>\n",
       "      <th>ci_upper</th>\n",
       "    </tr>\n",
       "    <tr>\n",
       "      <th>X</th>\n",
       "      <th></th>\n",
       "      <th></th>\n",
       "      <th></th>\n",
       "      <th></th>\n",
       "      <th></th>\n",
       "      <th></th>\n",
       "    </tr>\n",
       "  </thead>\n",
       "  <tbody>\n",
       "    <tr>\n",
       "      <th>t2[0]</th>\n",
       "      <td>0.224</td>\n",
       "      <td>0.001</td>\n",
       "      <td>224.822</td>\n",
       "      <td>0.0</td>\n",
       "      <td>0.222</td>\n",
       "      <td>0.225</td>\n",
       "    </tr>\n",
       "  </tbody>\n",
       "</table>\n",
       "</div>"
      ],
      "text/plain": [
       "       point_estimate  stderr    zstat  pvalue  ci_lower  ci_upper\n",
       "X                                                                 \n",
       "t2[0]           0.224   0.001  224.822     0.0     0.222     0.225"
      ]
     },
     "metadata": {},
     "output_type": "display_data"
    }
   ],
   "source": [
    "for t in range(m):\n",
    "    print(f'Period {t} effects {true_effect_params[t]}')\n",
    "    with pd.option_context(\"precision\", 3):\n",
    "        display(est_sub.opt_param_summary(t).summary_frame())"
   ]
  },
  {
   "cell_type": "markdown",
   "metadata": {},
   "source": [
    "# Non-Parametric Heterogeneity"
   ]
  },
  {
   "cell_type": "code",
   "execution_count": 27,
   "metadata": {},
   "outputs": [],
   "source": [
    "# model_reg_fn = lambda X, y: get_model_reg(X, y, degrees=[1])\n",
    "# multimodel_reg_fn = lambda X, y: get_multimodel_reg(X, y, degrees=[1])\n",
    "# model_reg_fn = get_linear_model_reg\n",
    "# multimodel_reg_fn = get_linear_multimodel_reg\n",
    "model_reg_fn = lambda X, y: get_poly_model_reg(X, y, degree=1, interaction_only=False)\n",
    "multimodel_reg_fn = lambda X, y: get_poly_multimodel_reg(X, y, degree=1, interaction_only=True)"
   ]
  },
  {
   "cell_type": "code",
   "execution_count": 28,
   "metadata": {},
   "outputs": [],
   "source": [
    "def phi(t, X, T, Tt):\n",
    "    if t == 1:\n",
    "        return np.hstack([Tt, cross_product(Tt, T[t-1])])\n",
    "    elif t==0:\n",
    "        return np.hstack([Tt])\n",
    "    raise AttributeError(\"Not valid\")\n",
    "\n",
    "def phi_names(t):\n",
    "    if t == 1:\n",
    "        return ([f't2[{x}]' for x in range(T[1].shape[1])] +\n",
    "                [f't2[{x}]*t1[{y}]' for y in range(T[0].shape[1]) for x in range(T[1].shape[1])])\n",
    "    elif t == 0:\n",
    "        return [f't1[{x}]' for x in range(T[1].shape[1])]\n",
    "    raise AttributeError(\"Not valid\")\n",
    "\n",
    "def pi(t, X, T):\n",
    "    return np.ones(T[t].shape)"
   ]
  },
  {
   "cell_type": "code",
   "execution_count": 29,
   "metadata": {},
   "outputs": [],
   "source": [
    "from snmm import fit_heterogeneous_final, LinearModelFinal\n",
    "from econml.grf import CausalForest\n",
    "from sklearn.linear_model import LinearRegression\n",
    "from econml.sklearn_extensions.linear_model import StatsModelsLinearRegression\n",
    "\n",
    "cf_gen = lambda: CausalForest(n_estimators=1000,\n",
    "                              max_depth=3,\n",
    "                              min_samples_leaf=50,\n",
    "                              min_var_fraction_leaf=0.1,\n",
    "                              min_var_leaf_on_val=True)"
   ]
  },
  {
   "cell_type": "code",
   "execution_count": 30,
   "metadata": {},
   "outputs": [],
   "source": [
    "from snmm import HeteroSNMMDynamicDML\n",
    "\n",
    "het_est = HeteroSNMMDynamicDML(m=m, phi=phi, phi_names_fn=phi_names,\n",
    "                               model_reg_fn=lambda X, y: get_model_reg(X, y, degrees=[1]),\n",
    "                               model_final_fn=cf_gen)"
   ]
  },
  {
   "cell_type": "code",
   "execution_count": 31,
   "metadata": {},
   "outputs": [
    {
     "name": "stdout",
     "output_type": "stream",
     "text": [
      "Info set: 0\n",
      "r2score_y 0.5356728423401395\n",
      "Treatment: 0\n",
      "r2score_Qjt[0] 0.9399255877738901\n",
      "Treatment: 1\n",
      "r2score_Qjt[0] 0.5236853546244455\n",
      "r2score_Qjt[1] 0.6393850073680643\n",
      "Info set: 1\n",
      "r2score_y 0.9994490332152348\n",
      "Treatment: 1\n",
      "r2score_Qjt[0] 0.9730269387908964\n",
      "r2score_Qjt[1] 0.9672943715303215\n"
     ]
    },
    {
     "data": {
      "text/plain": [
       "<snmm.HeteroSNMMDynamicDML at 0x22c0d707100>"
      ]
     },
     "execution_count": 31,
     "metadata": {},
     "output_type": "execute_result"
    }
   ],
   "source": [
    "het_est.fit(X, T, y, pi)"
   ]
  },
  {
   "cell_type": "code",
   "execution_count": 32,
   "metadata": {},
   "outputs": [
    {
     "name": "stdout",
     "output_type": "stream",
     "text": [
      "(1.377484887801243, 0.09895380966546174)\n"
     ]
    }
   ],
   "source": [
    "print(het_est.policy_value_)"
   ]
  },
  {
   "cell_type": "code",
   "execution_count": 33,
   "metadata": {},
   "outputs": [
    {
     "name": "stdout",
     "output_type": "stream",
     "text": [
      "(1.4634102724235554, 0.07709832544640473)\n"
     ]
    }
   ],
   "source": [
    "print(het_est.policy_delta_simple_)"
   ]
  },
  {
   "cell_type": "code",
   "execution_count": 34,
   "metadata": {
    "scrolled": false
   },
   "outputs": [
    {
     "data": {
      "image/png": "[encoded data removed]",
      "text/plain": [
       "<Figure size 360x360 with 1 Axes>"
      ]
     },
     "metadata": {
      "needs_background": "light"
     },
     "output_type": "display_data"
    },
    {
     "data": {
      "image/png": "[encoded data removed]",
      "text/plain": [
       "<Figure size 360x360 with 1 Axes>"
      ]
     },
     "metadata": {
      "needs_background": "light"
     },
     "output_type": "display_data"
    }
   ],
   "source": [
    "import seaborn as sns\n",
    "if hasattr(het_est.models_[0], 'feature_importances_'):\n",
    "    for t in range(m):\n",
    "        impdf = het_est.feature_importances_(t)\n",
    "        plt.figure(figsize=(5, 5))\n",
    "        sns.barplot(y=impdf['name'], x=impdf['importance'])\n",
    "        plt.show()"
   ]
  },
  {
   "cell_type": "code",
   "execution_count": 35,
   "metadata": {},
   "outputs": [
    {
     "data": {
      "image/png": "[encoded data removed]",
      "text/plain": [
       "<Figure size 576x396 with 2 Axes>"
      ]
     },
     "metadata": {
      "needs_background": "light"
     },
     "output_type": "display_data"
    },
    {
     "data": {
      "image/png": "[encoded data removed]",
      "text/plain": [
       "<Figure size 576x396 with 1 Axes>"
      ]
     },
     "metadata": {
      "needs_background": "light"
     },
     "output_type": "display_data"
    }
   ],
   "source": [
    "import shap\n",
    "if hasattr(het_est.models_[0], 'feature_importances_'):\n",
    "    for t in range(m):\n",
    "        exp = shap.Explainer(het_est.models_[t])\n",
    "        shap_values = exp.shap_values(X['het'])\n",
    "        shap.summary_plot(shap_values, X['het'])"
   ]
  },
  {
   "cell_type": "markdown",
   "metadata": {},
   "source": [
    "### Fit value of baseline policy, for delta estimation"
   ]
  },
  {
   "cell_type": "code",
   "execution_count": null,
   "metadata": {},
   "outputs": [],
   "source": [
    "het_est.fit_base()"
   ]
  },
  {
   "cell_type": "code",
   "execution_count": null,
   "metadata": {},
   "outputs": [],
   "source": [
    "print(het_est.policy_delta_complex())"
   ]
  },
  {
   "cell_type": "markdown",
   "metadata": {},
   "source": [
    "### Optimal Dynamic Policy"
   ]
  },
  {
   "cell_type": "code",
   "execution_count": null,
   "metadata": {},
   "outputs": [],
   "source": [
    "het_est.fit_opt(X, T, y)"
   ]
  },
  {
   "cell_type": "code",
   "execution_count": null,
   "metadata": {},
   "outputs": [],
   "source": [
    "het_est.pi_star(1, X, T)[:10]"
   ]
  },
  {
   "cell_type": "code",
   "execution_count": null,
   "metadata": {},
   "outputs": [],
   "source": [
    "if hasattr(het_est.models_[0], 'linear_model'):\n",
    "    for t in range(m):\n",
    "        print(f'Period {t} effects {true_effect_params[t]}')\n",
    "        display(het_est.opt_param_summary(t).summary_frame())"
   ]
  },
  {
   "cell_type": "code",
   "execution_count": null,
   "metadata": {},
   "outputs": [],
   "source": [
    "import seaborn as sns\n",
    "if hasattr(het_est.opt_models_[0], 'feature_importances_'):\n",
    "    for t in range(m):\n",
    "        impdf = het_est.opt_feature_importances_(t)\n",
    "        plt.figure(figsize=(5, 5))\n",
    "        sns.barplot(y=impdf['name'], x=impdf['importance'])\n",
    "        plt.show()"
   ]
  },
  {
   "cell_type": "code",
   "execution_count": null,
   "metadata": {},
   "outputs": [],
   "source": [
    "import shap\n",
    "if hasattr(het_est.opt_models_[0], 'feature_importances_'):\n",
    "    for t in range(m):\n",
    "        exp = shap.Explainer(het_est.opt_models_[t])\n",
    "        shap_values = exp.shap_values(X['het'])\n",
    "        shap.summary_plot(shap_values, X['het'])"
   ]
  },
  {
   "cell_type": "code",
   "execution_count": null,
   "metadata": {},
   "outputs": [],
   "source": [
    "print(het_est.opt_policy_value_)"
   ]
  },
  {
   "cell_type": "code",
   "execution_count": null,
   "metadata": {},
   "outputs": [],
   "source": [
    "print(het_est.opt_policy_delta_simple_)"
   ]
  },
  {
   "cell_type": "code",
   "execution_count": null,
   "metadata": {},
   "outputs": [],
   "source": [
    "print(het_est.opt_policy_delta_complex())"
   ]
  },
  {
   "cell_type": "markdown",
   "metadata": {},
   "source": [
    "### Linear model of heterogeneity"
   ]
  },
  {
   "cell_type": "code",
   "execution_count": null,
   "metadata": {},
   "outputs": [],
   "source": [
    "# linear_gen = lambda: LinearModelFinal(StatsModelsLinearRegression(fit_intercept=False),\n",
    "#                                       lambda x: x)\n",
    "linear_gen = lambda: LinearModelFinal(LassoCV(fit_intercept=False),\n",
    "                                  lambda x: x)\n",
    "het_est.model_final_fn = linear_gen"
   ]
  },
  {
   "cell_type": "code",
   "execution_count": null,
   "metadata": {},
   "outputs": [],
   "source": [
    "het_est.fit_final()"
   ]
  },
  {
   "cell_type": "code",
   "execution_count": null,
   "metadata": {
    "scrolled": false
   },
   "outputs": [],
   "source": [
    "if hasattr(het_est.models_[0], 'linear_model'):\n",
    "    for t in range(m):\n",
    "        print(f'Period {t} effects {true_effect_params[t]}')\n",
    "        display(het_est.param_summary(t).summary_frame())"
   ]
  },
  {
   "cell_type": "code",
   "execution_count": null,
   "metadata": {},
   "outputs": [],
   "source": []
  }
 ],
 "metadata": {
  "kernelspec": {
   "display_name": "Python 3",
   "language": "python",
   "name": "python3"
  },
  "language_info": {
   "codemirror_mode": {
    "name": "ipython",
    "version": 3
   },
   "file_extension": ".py",
   "mimetype": "text/x-python",
   "name": "python",
   "nbconvert_exporter": "python",
   "pygments_lexer": "ipython3",
   "version": "3.8.5"
  }
 },
 "nbformat": 4,
 "nbformat_minor": 4
}
