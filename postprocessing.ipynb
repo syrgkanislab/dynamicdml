{
 "cells": [
  {
   "cell_type": "markdown",
   "metadata": {},
   "source": [
    "# Post-processing many experiments"
   ]
  },
  {
   "cell_type": "code",
   "execution_count": null,
   "metadata": {},
   "outputs": [],
   "source": [
    "%load_ext autoreload\n",
    "%autoreload 2"
   ]
  },
  {
   "cell_type": "markdown",
   "metadata": {},
   "source": [
    "#### High-dim blip"
   ]
  },
  {
   "cell_type": "code",
   "execution_count": null,
   "metadata": {},
   "outputs": [],
   "source": [
    "import postprocess\n",
    "import os\n",
    "\n",
    "n_x_list = [20, 50]\n",
    "n_unit_list = [1000, 5000]\n",
    "param_list = ['t[0]', 't[0]*x0[x0]']\n",
    "tables = postprocess.print_tables(os.path.join('..', 'amlt'), 'logical-quetzal', n_unit_list, n_x_list, param_list, 2)"
   ]
  },
  {
   "cell_type": "markdown",
   "metadata": {},
   "source": [
    "#### Low dim blip with heterogeneity"
   ]
  },
  {
   "cell_type": "code",
   "execution_count": null,
   "metadata": {},
   "outputs": [],
   "source": [
    "import postprocess\n",
    "import os\n",
    "\n",
    "n_x_list = [100, 500]\n",
    "n_unit_list = [100, 500, 1000]\n",
    "param_list = ['t[0]', 't[0]*x0[x0]']\n",
    "tables = postprocess.print_tables(os.path.join('..', 'amlt'), 'master-monarch', n_unit_list, n_x_list, param_list, 2)"
   ]
  },
  {
   "cell_type": "markdown",
   "metadata": {},
   "source": [
    "#### Low dim blip no heterogeneity"
   ]
  },
  {
   "cell_type": "code",
   "execution_count": null,
   "metadata": {},
   "outputs": [],
   "source": [
    "import postprocess\n",
    "import os\n",
    "\n",
    "n_x_list = [100, 500, 1000]\n",
    "n_unit_list = [100, 500, 1000]\n",
    "param_list = ['t[0]']\n",
    "tables = postprocess.print_tables(os.path.join('..', 'amlt'), 'glorious-boar', n_unit_list, n_x_list, param_list, 0)"
   ]
  },
  {
   "cell_type": "code",
   "execution_count": null,
   "metadata": {},
   "outputs": [],
   "source": [
    "import postprocess\n",
    "import os\n",
    "\n",
    "n_x_list = [100, 1000]\n",
    "n_unit_list = [100, 1000]\n",
    "param_list = ['t[0]']\n",
    "tables = postprocess.print_tables(os.path.join('..', 'amlt'), 'glorious-boar', n_unit_list, n_x_list, param_list, 0)"
   ]
  },
  {
   "cell_type": "markdown",
   "metadata": {},
   "source": [
    "#### Non-parametric heterogeneity"
   ]
  },
  {
   "cell_type": "code",
   "execution_count": null,
   "metadata": {},
   "outputs": [],
   "source": [
    "import postprocess_hetero\n",
    "import os\n",
    "\n",
    "n_x_list = [10]\n",
    "n_unit_list = [5000, 10000]\n",
    "nonlin_fn_list = ['abs', 'linear', 'square']\n",
    "tables = postprocess_hetero.print_tables(os.path.join('..', 'amlt'), 'poetic-quetzal',\n",
    "                                         n_unit_list, n_x_list, nonlin_fn_list, 1)"
   ]
  },
  {
   "cell_type": "code",
   "execution_count": null,
   "metadata": {},
   "outputs": [],
   "source": [
    "import postprocess_hetero\n",
    "import os\n",
    "\n",
    "n_x_list = [10]\n",
    "n_unit_list = [5000, 10000]\n",
    "nonlin_fn_list = ['step', 'steplinear', '3dpoly']\n",
    "tables = postprocess_hetero.print_tables(os.path.join('..', 'amlt'), 'poetic-quetzal',\n",
    "                                         n_unit_list, n_x_list, nonlin_fn_list, 1)"
   ]
  },
  {
   "cell_type": "code",
   "execution_count": null,
   "metadata": {},
   "outputs": [],
   "source": []
  }
 ],
 "metadata": {
  "kernelspec": {
   "display_name": "Python 3",
   "language": "python",
   "name": "python3"
  },
  "language_info": {
   "codemirror_mode": {
    "name": "ipython",
    "version": 3
   },
   "file_extension": ".py",
   "mimetype": "text/x-python",
   "name": "python",
   "nbconvert_exporter": "python",
   "pygments_lexer": "ipython3",
   "version": "3.8.5"
  }
 },
 "nbformat": 4,
 "nbformat_minor": 4
}
