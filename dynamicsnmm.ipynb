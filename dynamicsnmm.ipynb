{
 "cells": [
  {
   "cell_type": "markdown",
   "metadata": {},
   "source": [
    "<table border=\"0\">\n",
    "    <tr>\n",
    "        <td>\n",
    "            <img src=\"https://ictd2016.files.wordpress.com/2016/04/microsoft-research-logo-copy.jpg\" style=\"width 30px;\" />\n",
    "             </td>\n",
    "        <td>\n",
    "            <img src=\"https://www.microsoft.com/en-us/research/wp-content/uploads/2016/12/MSR-ALICE-HeaderGraphic-1920x720_1-800x550.jpg\" style=\"width 100px;\"/></td>\n",
    "        </tr>\n",
    "</table>"
   ]
  },
  {
   "cell_type": "markdown",
   "metadata": {},
   "source": [
    "# Dynamic Double Machine Learning: Use Cases and Examples\n",
    "\n",
    "Dynamic DoubleML is an extension of the Double ML approach for treatments assigned sequentially over time periods. This estimator will account for treatments that can have causal effects on future outcomes. For more details, see [this paper](https://arxiv.org/abs/2002.07285) or the [EconML docummentation](https://econml.azurewebsites.net/).\n",
    "\n",
    "For example, the Dynamic DoubleML could be useful in estimating the following causal effects:\n",
    "* the effect of investments on revenue at companies that receive investments at regular intervals ([see more](https://arxiv.org/abs/2103.08390))\n",
    "* the effect of prices on demand in stores where prices of goods change over time\n",
    "* the effect of income on health outcomes in people who receive yearly income\n",
    "\n",
    "The preferred data format is balanced panel data. Each panel corresponds to one entity (e.g. company, store or person) and the different rows in a panel correspond to different time points. Example:\n",
    "\n",
    "||Company|Year|Features|Investment|Revenue|\n",
    "|---|---|---|---|---|---|\n",
    "|1|A|2018|...|\\$1,000|\\$10,000|\n",
    "|2|A|2019|...|\\$2,000|\\$12,000|\n",
    "|3|A|2020|...|\\$3,000|\\$15,000|\n",
    "|4|B|2018|...|\\$0|\\$5,000|\n",
    "|5|B|2019|...|\\$100|\\$10,000|\n",
    "|6|B|2020|...|\\$1,200|\\$7,000|\n",
    "|7|C|2018|...|\\$1,000|\\$20,000|\n",
    "|8|C|2019|...|\\$1,500|\\$25,000|\n",
    "|9|C|2020|...|\\$500|\\$15,000|\n",
    "\n",
    "(Note: when passing the data to the DynamicDML estimator, the \"Company\" column above corresponds to the `groups` argument at fit time. The \"Year\" column above should not be passed in as it will be inferred from the \"Company\" column)\n",
    "\n",
    "If group memebers do not appear together, it is assumed that the first instance of a group in the dataset corresponds to the first period of that group, the second instance of the group corresponds to the second period, etc. Example:\n",
    "\n",
    "||Company|Features|Investment|Revenue|\n",
    "|---|---|---|---|---|\n",
    "|1|A|...|\\$1,000|\\$10,000|\n",
    "|2|B|...|\\$0|\\$5,000\n",
    "|3|C|...|\\$1,000|\\$20,000|\n",
    "|4|A|...|\\$2,000|\\$12,000|\n",
    "|5|B|...|\\$100|\\$10,000|\n",
    "|6|C|...|\\$1,500|\\$25,000|\n",
    "|7|A|...|\\$3,000|\\$15,000|\n",
    "|8|B|...|\\$1,200|\\$7,000|\n",
    "|9|C|...|\\$500|\\$15,000|\n",
    "\n",
    "In this dataset, 1<sup>st</sup> row corresponds to the first period of group `A`, 4<sup>th</sup> row corresponds to the second period of group `A`, etc.\n",
    "\n",
    "In this notebook, we show the performance of the DynamicDML on synthetic and observational data. \n",
    "\n",
    "## Notebook Contents\n",
    "\n",
    "1. [Example Usage with Average Treatment Effects](#1.-Example-Usage-with-Average-Treatment-Effects)\n",
    "2. [Example Usage with Heterogeneous Treatment Effects](#2.-Example-Usage-with-Heterogeneous-Treatment-Effects)"
   ]
  },
  {
   "cell_type": "code",
   "execution_count": 1,
   "metadata": {},
   "outputs": [],
   "source": [
    "%load_ext autoreload\n",
    "%autoreload 2"
   ]
  },
  {
   "cell_type": "code",
   "execution_count": 2,
   "metadata": {},
   "outputs": [],
   "source": [
    "import econml"
   ]
  },
  {
   "cell_type": "code",
   "execution_count": 3,
   "metadata": {},
   "outputs": [],
   "source": [
    "# Main imports\n",
    "from econml.dynamic.dml import DynamicDML\n",
    "from econml.tests.dgp import DynamicPanelDGP, add_vlines\n",
    "\n",
    "# Helper imports\n",
    "import numpy as np\n",
    "from sklearn.linear_model import Lasso, LassoCV, LogisticRegression, LogisticRegressionCV, MultiTaskLassoCV\n",
    "import matplotlib.pyplot as plt\n",
    "\n",
    "%matplotlib inline"
   ]
  },
  {
   "cell_type": "markdown",
   "metadata": {},
   "source": [
    "# 1. Example Usage with Average Treatment Effects"
   ]
  },
  {
   "cell_type": "markdown",
   "metadata": {},
   "source": [
    "## 1.1 DGP\n",
    "\n",
    "We consider a data generating process from a markovian treatment model. \n",
    "\n",
    "In the example bellow, $T_t\\rightarrow$ treatment(s) at time $t$, $Y_t\\rightarrow$outcome at time $t$, $X_t\\rightarrow$ features and controls at time $t$ (the coefficients $e, f$ will pick the features and the controls).\n",
    "\\begin{align}\n",
    "    X_t =& (\\pi'X_{t-1} + 1) \\cdot A\\, T_{t-1} + B X_{t-1} + \\epsilon_t\\\\\n",
    "    T_t =& \\gamma\\, T_{t-1} + (1-\\gamma) \\cdot D X_t + \\zeta_t\\\\\n",
    "    Y_t =& (\\sigma' X_{t} + 1) \\cdot e\\, T_{t} + f X_t + \\eta_t\n",
    "\\end{align}\n",
    "\n",
    "with $X_0, T_0 = 0$ and $\\epsilon_t, \\zeta_t, \\eta_t \\sim N(0, \\sigma^2)$. Moreover, $X_t \\in R^{n_x}$, $B[:, 0:s_x] \\neq 0$ and $B[:, s_x:-1] = 0$, $\\gamma\\in [0, 1]$, $D[:, 0:s_x] \\neq 0$, $D[:, s_x:-1]=0$, $f[0:s_x]\\neq 0$, $f[s_x:-1]=0$. We draw a single time series of samples of length $n\\_panels \\cdot n\\_periods$."
   ]
  },
  {
   "cell_type": "code",
   "execution_count": 662,
   "metadata": {},
   "outputs": [],
   "source": [
    "# Define DGP parameters\n",
    "np.random.seed(123)\n",
    "n_panels = 5000 # number of panels\n",
    "n_periods = 2 # number of time periods in each panel\n",
    "n_treatments = 1 # number of treatments in each period\n",
    "n_x = 100 # number of features + controls\n",
    "s_x = 10 # number of controls (endogeneous variables)\n",
    "s_t = 10 # treatment support size"
   ]
  },
  {
   "cell_type": "code",
   "execution_count": 663,
   "metadata": {},
   "outputs": [],
   "source": [
    "# Generate data\n",
    "dgp = DynamicPanelDGP(n_periods, n_treatments, n_x).create_instance(\n",
    "            s_x, random_seed=12345, autoreg=1.0)\n",
    "Y, T, X, W, groups = dgp.observational_data(n_panels, s_t=s_t, random_seed=12345)\n",
    "true_effect = dgp.true_effect"
   ]
  },
  {
   "cell_type": "markdown",
   "metadata": {},
   "source": [
    "## 1.2 Train Estimator"
   ]
  },
  {
   "cell_type": "code",
   "execution_count": 664,
   "metadata": {},
   "outputs": [],
   "source": [
    "est = DynamicDML(\n",
    "    model_y=LassoCV(cv=3, max_iter=1000), \n",
    "    model_t=MultiTaskLassoCV(cv=3, max_iter=1000), \n",
    "    cv=3)"
   ]
  },
  {
   "cell_type": "code",
   "execution_count": 665,
   "metadata": {
    "scrolled": true
   },
   "outputs": [
    {
     "data": {
      "text/plain": [
       "<econml.dynamic.dml._dml.DynamicDML at 0x1663e022820>"
      ]
     },
     "execution_count": 665,
     "metadata": {},
     "output_type": "execute_result"
    }
   ],
   "source": [
    "est.fit(Y, T, X=None, W=W, groups=groups)"
   ]
  },
  {
   "cell_type": "code",
   "execution_count": 666,
   "metadata": {},
   "outputs": [
    {
     "name": "stdout",
     "output_type": "stream",
     "text": [
      "Average effect of default policy: 0.88\n"
     ]
    }
   ],
   "source": [
    "# Average treatment effect of all periods on last period for unit treatments\n",
    "print(f\"Average effect of default policy: {est.ate():0.2f}\")"
   ]
  },
  {
   "cell_type": "code",
   "execution_count": 667,
   "metadata": {},
   "outputs": [
    {
     "name": "stdout",
     "output_type": "stream",
     "text": [
      "Effect of target policy over baseline policy: 0.88\n"
     ]
    }
   ],
   "source": [
    "# Effect of target policy over baseline policy\n",
    "# Must specify a treatment for each period\n",
    "baseline_policy = np.zeros((1, n_periods * n_treatments))\n",
    "target_policy = np.ones((1, n_periods * n_treatments))\n",
    "eff = est.effect(T0=baseline_policy, T1=target_policy)\n",
    "print(f\"Effect of target policy over baseline policy: {eff[0]:0.2f}\")"
   ]
  },
  {
   "cell_type": "code",
   "execution_count": 668,
   "metadata": {},
   "outputs": [
    {
     "name": "stdout",
     "output_type": "stream",
     "text": [
      "Marginal effect of a treatments in period 1 on period 2 outcome: [0.74685576]\n",
      "Marginal effect of a treatments in period 2 on period 2 outcome: [0.13065877]\n"
     ]
    }
   ],
   "source": [
    "# Period treatment effects + interpretation\n",
    "for i, theta in enumerate(est.intercept_.reshape(-1, n_treatments)):\n",
    "    print(f\"Marginal effect of a treatments in period {i+1} on period {n_periods} outcome: {theta}\")"
   ]
  },
  {
   "cell_type": "code",
   "execution_count": 669,
   "metadata": {},
   "outputs": [
    {
     "name": "stdout",
     "output_type": "stream",
     "text": [
      "Coefficient Results:  X is None, please call intercept_inference to learn the constant!\n"
     ]
    },
    {
     "data": {
      "text/html": [
       "<table class=\"simpletable\">\n",
       "<caption>CATE Intercept Results</caption>\n",
       "<tr>\n",
       "             <td></td>             <th>point_estimate</th> <th>stderr</th>  <th>zstat</th> <th>pvalue</th> <th>ci_lower</th> <th>ci_upper</th>\n",
       "</tr>\n",
       "<tr>\n",
       "  <th>cate_intercept|(T0)$_0$</th>      <td>0.747</td>      <td>0.022</td>  <td>34.58</td>   <td>0.0</td>    <td>0.711</td>    <td>0.782</td> \n",
       "</tr>\n",
       "<tr>\n",
       "  <th>cate_intercept|(T0)$_1$</th>      <td>0.131</td>      <td>0.001</td> <td>89.995</td>   <td>0.0</td>    <td>0.128</td>    <td>0.133</td> \n",
       "</tr>\n",
       "</table><br/><br/><sub>A linear parametric conditional average treatment effect (CATE) model was fitted:<br/>$Y = \\Theta(X)\\cdot T + g(X, W) + \\epsilon$<br/>where for every outcome $i$ and treatment $j$ the CATE $\\Theta_{ij}(X)$ has the form:<br/>$\\Theta_{ij}(X) = \\phi(X)' coef_{ij} + cate\\_intercept_{ij}$<br/>where $\\phi(X)$ is the output of the `featurizer` or $X$ if `featurizer`=None. Coefficient Results table portrays the $coef_{ij}$ parameter vector for each outcome $i$ and treatment $j$. Intercept Results table portrays the $cate\\_intercept_{ij}$ parameter.</sub>"
      ],
      "text/plain": [
       "<class 'econml.utilities.Summary'>\n",
       "\"\"\"\n",
       "                            CATE Intercept Results                           \n",
       "=============================================================================\n",
       "                        point_estimate stderr zstat  pvalue ci_lower ci_upper\n",
       "-----------------------------------------------------------------------------\n",
       "cate_intercept|(T0)$_0$          0.747  0.022  34.58    0.0    0.711    0.782\n",
       "cate_intercept|(T0)$_1$          0.131  0.001 89.995    0.0    0.128    0.133\n",
       "-----------------------------------------------------------------------------\n",
       "\n",
       "<sub>A linear parametric conditional average treatment effect (CATE) model was fitted:\n",
       "$Y = \\Theta(X)\\cdot T + g(X, W) + \\epsilon$\n",
       "where for every outcome $i$ and treatment $j$ the CATE $\\Theta_{ij}(X)$ has the form:\n",
       "$\\Theta_{ij}(X) = \\phi(X)' coef_{ij} + cate\\_intercept_{ij}$\n",
       "where $\\phi(X)$ is the output of the `featurizer` or $X$ if `featurizer`=None. Coefficient Results table portrays the $coef_{ij}$ parameter vector for each outcome $i$ and treatment $j$. Intercept Results table portrays the $cate\\_intercept_{ij}$ parameter.</sub>\n",
       "\"\"\""
      ]
     },
     "execution_count": 669,
     "metadata": {},
     "output_type": "execute_result"
    }
   ],
   "source": [
    "# Period treatment effects with confidence intervals\n",
    "est.summary()"
   ]
  },
  {
   "cell_type": "code",
   "execution_count": 670,
   "metadata": {},
   "outputs": [],
   "source": [
    "conf_ints = est.intercept__interval(alpha=0.05)"
   ]
  },
  {
   "cell_type": "markdown",
   "metadata": {},
   "source": [
    "## 1.3 Performance Visualization"
   ]
  },
  {
   "cell_type": "code",
   "execution_count": 671,
   "metadata": {},
   "outputs": [
    {
     "data": {
      "image/png": "[encoded data removed]",
      "text/plain": [
       "<Figure size 1080x360 with 1 Axes>"
      ]
     },
     "metadata": {
      "needs_background": "light"
     },
     "output_type": "display_data"
    }
   ],
   "source": [
    "# Some plotting boilerplate code\n",
    "plt.figure(figsize=(15, 5))\n",
    "plt.errorbar(np.arange(n_periods*n_treatments)-.04, est.intercept_, yerr=(conf_ints[1] - est.intercept_,\n",
    "                                                    est.intercept_ - conf_ints[0]), fmt='o', label='DynamicDML')\n",
    "plt.errorbar(np.arange(n_periods*n_treatments), true_effect.flatten(), fmt='o', alpha=.6, label='Ground truth')\n",
    "for t in np.arange(1, n_periods):\n",
    "    plt.axvline(x=t * n_treatments - .5, linestyle='--', alpha=.4)\n",
    "plt.xticks([t * n_treatments - .5 + n_treatments/2 for t in range(n_periods)],\n",
    "           [\"$\\\\theta_{}$\".format(t) for t in range(n_periods)])\n",
    "plt.gca().set_xlim([-.5, n_periods*n_treatments - .5])\n",
    "plt.ylabel(\"Effect\")\n",
    "plt.legend()\n",
    "plt.show()"
   ]
  },
  {
   "cell_type": "markdown",
   "metadata": {},
   "source": [
    "# 2. Example Usage with Heterogeneous Treatment Effects on Time-Invariant Unit Characteristics\n",
    "\n",
    "We can also estimate treatment effect heterogeneity with respect to the value of some subset of features $X$ in the initial period. Heterogeneity is currently only supported with respect to such initial state features. This for instance can support heterogeneity with respect to time-invariant unit characteristics. In that case you can simply pass as $X$ a repetition of some unit features that stay constant in all periods. You can also pass time-varying features, and their time varying component will be used as a time-varying control. However, heterogeneity will only be estimated with respect to the initial state."
   ]
  },
  {
   "cell_type": "markdown",
   "metadata": {},
   "source": [
    "## 2.1 DGP"
   ]
  },
  {
   "cell_type": "code",
   "execution_count": 672,
   "metadata": {},
   "outputs": [],
   "source": [
    "# Define additional DGP parameters\n",
    "het_strength = .5\n",
    "het_inds = np.arange(n_x - n_treatments, n_x)"
   ]
  },
  {
   "cell_type": "code",
   "execution_count": 674,
   "metadata": {},
   "outputs": [],
   "source": [
    "# Generate data\n",
    "dgp = DynamicPanelDGP(n_periods, n_treatments, n_x).create_instance(\n",
    "            s_x, hetero_strength=het_strength, hetero_inds=het_inds,\n",
    "            autoreg=1.0, random_seed=1566)\n",
    "Y, T, X, W, groups = dgp.observational_data(n_panels, s_t=s_t, random_seed=1)\n",
    "ate_effect = dgp.true_effect\n",
    "het_effect = dgp.true_hetero_effect[:, het_inds + 1]"
   ]
  },
  {
   "cell_type": "markdown",
   "metadata": {},
   "source": [
    "## 2.2 Train Estimator"
   ]
  },
  {
   "cell_type": "code",
   "execution_count": 675,
   "metadata": {},
   "outputs": [],
   "source": [
    "est = DynamicDML(\n",
    "    model_y=LassoCV(cv=3), \n",
    "    model_t=MultiTaskLassoCV(cv=3),\n",
    "    cv=3)"
   ]
  },
  {
   "cell_type": "code",
   "execution_count": 676,
   "metadata": {
    "scrolled": true
   },
   "outputs": [
    {
     "data": {
      "text/plain": [
       "<econml.dynamic.dml._dml.DynamicDML at 0x1663dfc3fd0>"
      ]
     },
     "execution_count": 676,
     "metadata": {},
     "output_type": "execute_result"
    }
   ],
   "source": [
    "est.fit(Y, T, X=X, W=W, groups=groups, inference=\"auto\")"
   ]
  },
  {
   "cell_type": "code",
   "execution_count": 677,
   "metadata": {},
   "outputs": [
    {
     "data": {
      "text/html": [
       "<table class=\"simpletable\">\n",
       "<caption>Coefficient Results</caption>\n",
       "<tr>\n",
       "       <td></td>       <th>point_estimate</th> <th>stderr</th>  <th>zstat</th> <th>pvalue</th> <th>ci_lower</th> <th>ci_upper</th>\n",
       "</tr>\n",
       "<tr>\n",
       "  <th>X0|(T0)$_0$</th>     <td>-0.195</td>      <td>0.024</td> <td>-8.258</td>   <td>0.0</td>   <td>-0.234</td>   <td>-0.156</td> \n",
       "</tr>\n",
       "<tr>\n",
       "  <th>X0|(T0)$_1$</th>      <td>0.17</td>       <td>0.007</td> <td>23.954</td>   <td>0.0</td>    <td>0.158</td>    <td>0.182</td> \n",
       "</tr>\n",
       "</table>\n",
       "<table class=\"simpletable\">\n",
       "<caption>CATE Intercept Results</caption>\n",
       "<tr>\n",
       "             <td></td>             <th>point_estimate</th> <th>stderr</th>  <th>zstat</th>  <th>pvalue</th> <th>ci_lower</th> <th>ci_upper</th>\n",
       "</tr>\n",
       "<tr>\n",
       "  <th>cate_intercept|(T0)$_0$</th>     <td>-0.686</td>      <td>0.019</td> <td>-36.172</td>   <td>0.0</td>   <td>-0.717</td>   <td>-0.655</td> \n",
       "</tr>\n",
       "<tr>\n",
       "  <th>cate_intercept|(T0)$_1$</th>      <td>0.387</td>      <td>0.003</td> <td>123.432</td>   <td>0.0</td>    <td>0.382</td>    <td>0.392</td> \n",
       "</tr>\n",
       "</table><br/><br/><sub>A linear parametric conditional average treatment effect (CATE) model was fitted:<br/>$Y = \\Theta(X)\\cdot T + g(X, W) + \\epsilon$<br/>where for every outcome $i$ and treatment $j$ the CATE $\\Theta_{ij}(X)$ has the form:<br/>$\\Theta_{ij}(X) = \\phi(X)' coef_{ij} + cate\\_intercept_{ij}$<br/>where $\\phi(X)$ is the output of the `featurizer` or $X$ if `featurizer`=None. Coefficient Results table portrays the $coef_{ij}$ parameter vector for each outcome $i$ and treatment $j$. Intercept Results table portrays the $cate\\_intercept_{ij}$ parameter.</sub>"
      ],
      "text/plain": [
       "<class 'econml.utilities.Summary'>\n",
       "\"\"\"\n",
       "                       Coefficient Results                       \n",
       "=================================================================\n",
       "            point_estimate stderr zstat  pvalue ci_lower ci_upper\n",
       "-----------------------------------------------------------------\n",
       "X0|(T0)$_0$         -0.195  0.024 -8.258    0.0   -0.234   -0.156\n",
       "X0|(T0)$_1$           0.17  0.007 23.954    0.0    0.158    0.182\n",
       "                            CATE Intercept Results                            \n",
       "==============================================================================\n",
       "                        point_estimate stderr  zstat  pvalue ci_lower ci_upper\n",
       "------------------------------------------------------------------------------\n",
       "cate_intercept|(T0)$_0$         -0.686  0.019 -36.172    0.0   -0.717   -0.655\n",
       "cate_intercept|(T0)$_1$          0.387  0.003 123.432    0.0    0.382    0.392\n",
       "------------------------------------------------------------------------------\n",
       "\n",
       "<sub>A linear parametric conditional average treatment effect (CATE) model was fitted:\n",
       "$Y = \\Theta(X)\\cdot T + g(X, W) + \\epsilon$\n",
       "where for every outcome $i$ and treatment $j$ the CATE $\\Theta_{ij}(X)$ has the form:\n",
       "$\\Theta_{ij}(X) = \\phi(X)' coef_{ij} + cate\\_intercept_{ij}$\n",
       "where $\\phi(X)$ is the output of the `featurizer` or $X$ if `featurizer`=None. Coefficient Results table portrays the $coef_{ij}$ parameter vector for each outcome $i$ and treatment $j$. Intercept Results table portrays the $cate\\_intercept_{ij}$ parameter.</sub>\n",
       "\"\"\""
      ]
     },
     "execution_count": 677,
     "metadata": {},
     "output_type": "execute_result"
    }
   ],
   "source": [
    "est.summary()"
   ]
  },
  {
   "cell_type": "code",
   "execution_count": 678,
   "metadata": {},
   "outputs": [
    {
     "name": "stdout",
     "output_type": "stream",
     "text": [
      "Average effect of default policy:-0.30\n"
     ]
    }
   ],
   "source": [
    "# Average treatment effect for test points\n",
    "X_test = X[np.arange(0, 25, 3)]\n",
    "print(f\"Average effect of default policy:{est.ate(X=X_test):0.2f}\")"
   ]
  },
  {
   "cell_type": "code",
   "execution_count": 679,
   "metadata": {},
   "outputs": [
    {
     "name": "stdout",
     "output_type": "stream",
     "text": [
      "Effect of target policy over baseline policy for test set:\n",
      " [-0.31313766 -0.28511487 -0.25212365 -0.28079434 -0.31669279 -0.29733827\n",
      " -0.31471126 -0.30720557 -0.31935427]\n"
     ]
    }
   ],
   "source": [
    "# Effect of target policy over baseline policy\n",
    "# Must specify a treatment for each period\n",
    "baseline_policy = np.zeros((1, n_periods * n_treatments))\n",
    "target_policy = np.ones((1, n_periods * n_treatments))\n",
    "eff = est.effect(X=X_test, T0=baseline_policy, T1=target_policy)\n",
    "print(\"Effect of target policy over baseline policy for test set:\\n\", eff)"
   ]
  },
  {
   "cell_type": "code",
   "execution_count": 680,
   "metadata": {},
   "outputs": [
    {
     "data": {
      "text/plain": [
       "(array([-0.68574484,  0.38678986]),\n",
       " array([[-0.19528374],\n",
       "        [ 0.16988612]]))"
      ]
     },
     "execution_count": 680,
     "metadata": {},
     "output_type": "execute_result"
    }
   ],
   "source": [
    "# Coefficients: intercept is of shape n_treatments*n_periods\n",
    "# coef_ is of shape (n_treatments*n_periods, n_hetero_inds).\n",
    "# first n_treatment rows are from first period, next n_treatment\n",
    "# from second period, etc.\n",
    "est.intercept_, est.coef_"
   ]
  },
  {
   "cell_type": "code",
   "execution_count": 681,
   "metadata": {},
   "outputs": [],
   "source": [
    "# Confidence intervals\n",
    "conf_ints_intercept = est.intercept__interval(alpha=0.05)\n",
    "conf_ints_coef = est.coef__interval(alpha=0.05)"
   ]
  },
  {
   "cell_type": "markdown",
   "metadata": {},
   "source": [
    "## 2.3 Performance Visualization"
   ]
  },
  {
   "cell_type": "code",
   "execution_count": 682,
   "metadata": {},
   "outputs": [],
   "source": [
    "# parse true parameters in array of shape (n_treatments*n_periods, 1 + n_hetero_inds)\n",
    "# first column is the intercept\n",
    "true_effect_inds = []\n",
    "for t in range(n_treatments):\n",
    "    true_effect_inds += [t * (1 + n_x)] + (list(t * (1 + n_x) + 1 + het_inds) if len(het_inds)>0 else [])\n",
    "true_effect_params = dgp.true_hetero_effect[:, true_effect_inds]\n",
    "true_effect_params = true_effect_params.reshape((n_treatments*n_periods, 1 + het_inds.shape[0]))"
   ]
  },
  {
   "cell_type": "code",
   "execution_count": 683,
   "metadata": {},
   "outputs": [],
   "source": [
    "# concatenating intercept and coef_\n",
    "param_hat = np.hstack([est.intercept_.reshape(-1, 1), est.coef_])\n",
    "lower = np.hstack([conf_ints_intercept[0].reshape(-1, 1), conf_ints_coef[0]])\n",
    "upper = np.hstack([conf_ints_intercept[1].reshape(-1, 1), conf_ints_coef[1]])"
   ]
  },
  {
   "cell_type": "code",
   "execution_count": 684,
   "metadata": {},
   "outputs": [
    {
     "data": {
      "image/png": "[encoded data removed]",
      "text/plain": [
       "<Figure size 1080x360 with 1 Axes>"
      ]
     },
     "metadata": {
      "needs_background": "light"
     },
     "output_type": "display_data"
    }
   ],
   "source": [
    "plt.figure(figsize=(15, 5))\n",
    "plt.errorbar(np.arange(n_periods * (len(het_inds) + 1) * n_treatments) - .04,\n",
    "             param_hat.flatten(), yerr=((upper - param_hat).flatten(),\n",
    "                                        (param_hat - lower).flatten()), fmt='o', label='DynamicDML')\n",
    "plt.errorbar(np.arange(n_periods * (len(het_inds) + 1) * n_treatments),\n",
    "             true_effect_params.flatten(), fmt='*', label='Ground Truth')\n",
    "add_vlines(n_periods, n_treatments, het_inds)\n",
    "plt.legend()\n",
    "plt.show()"
   ]
  },
  {
   "cell_type": "code",
   "execution_count": 685,
   "metadata": {},
   "outputs": [
    {
     "data": {
      "text/plain": [
       "[[array([[0.62796393,        nan],\n",
       "         [0.02288447, 0.69411009]]),\n",
       "  array([[0.62029796,        nan],\n",
       "         [0.02398661, 0.70367478]]),\n",
       "  array([[0.60836524,        nan],\n",
       "         [0.03213052, 0.67573604]])]]"
      ]
     },
     "execution_count": 685,
     "metadata": {},
     "output_type": "execute_result"
    }
   ],
   "source": [
    "est.nuisance_scores_t"
   ]
  },
  {
   "cell_type": "code",
   "execution_count": 686,
   "metadata": {},
   "outputs": [
    {
     "data": {
      "text/plain": [
       "[[array([0.03746542, 0.95368997]),\n",
       "  array([0.04434471, 0.95549658]),\n",
       "  array([0.0488638 , 0.95356307])]]"
      ]
     },
     "execution_count": 686,
     "metadata": {},
     "output_type": "execute_result"
    }
   ],
   "source": [
    "est.nuisance_scores_y"
   ]
  },
  {
   "cell_type": "markdown",
   "metadata": {},
   "source": [
    "# Job Corps Data"
   ]
  },
  {
   "cell_type": "code",
   "execution_count": 2,
   "metadata": {},
   "outputs": [
    {
     "data": {
      "text/html": [
       "<div>\n",
       "<style scoped>\n",
       "    .dataframe tbody tr th:only-of-type {\n",
       "        vertical-align: middle;\n",
       "    }\n",
       "\n",
       "    .dataframe tbody tr th {\n",
       "        vertical-align: top;\n",
       "    }\n",
       "\n",
       "    .dataframe thead th {\n",
       "        text-align: right;\n",
       "    }\n",
       "</style>\n",
       "<table border=\"1\" class=\"dataframe\">\n",
       "  <thead>\n",
       "    <tr style=\"text-align: right;\">\n",
       "      <th></th>\n",
       "      <th>assignment</th>\n",
       "      <th>female</th>\n",
       "      <th>age</th>\n",
       "      <th>white</th>\n",
       "      <th>black</th>\n",
       "      <th>hispanic</th>\n",
       "      <th>educ</th>\n",
       "      <th>educmis</th>\n",
       "      <th>geddegree</th>\n",
       "      <th>hsdegree</th>\n",
       "      <th>...</th>\n",
       "      <th>trainy1</th>\n",
       "      <th>trainy2</th>\n",
       "      <th>pworky2</th>\n",
       "      <th>pworky3</th>\n",
       "      <th>pworky4</th>\n",
       "      <th>earny2</th>\n",
       "      <th>earny3</th>\n",
       "      <th>earny4</th>\n",
       "      <th>health30</th>\n",
       "      <th>health48</th>\n",
       "    </tr>\n",
       "    <tr>\n",
       "      <th>id</th>\n",
       "      <th></th>\n",
       "      <th></th>\n",
       "      <th></th>\n",
       "      <th></th>\n",
       "      <th></th>\n",
       "      <th></th>\n",
       "      <th></th>\n",
       "      <th></th>\n",
       "      <th></th>\n",
       "      <th></th>\n",
       "      <th></th>\n",
       "      <th></th>\n",
       "      <th></th>\n",
       "      <th></th>\n",
       "      <th></th>\n",
       "      <th></th>\n",
       "      <th></th>\n",
       "      <th></th>\n",
       "      <th></th>\n",
       "      <th></th>\n",
       "      <th></th>\n",
       "    </tr>\n",
       "  </thead>\n",
       "  <tbody>\n",
       "    <tr>\n",
       "      <th>2</th>\n",
       "      <td>0</td>\n",
       "      <td>0</td>\n",
       "      <td>24</td>\n",
       "      <td>0</td>\n",
       "      <td>1</td>\n",
       "      <td>0</td>\n",
       "      <td>12</td>\n",
       "      <td>0</td>\n",
       "      <td>0</td>\n",
       "      <td>1</td>\n",
       "      <td>...</td>\n",
       "      <td>0</td>\n",
       "      <td>0</td>\n",
       "      <td>26.923077</td>\n",
       "      <td>86.538460</td>\n",
       "      <td>65.384613</td>\n",
       "      <td>63.387691</td>\n",
       "      <td>238.996002</td>\n",
       "      <td>265.188324</td>\n",
       "      <td>2</td>\n",
       "      <td>2</td>\n",
       "    </tr>\n",
       "    <tr>\n",
       "      <th>3</th>\n",
       "      <td>1</td>\n",
       "      <td>1</td>\n",
       "      <td>18</td>\n",
       "      <td>1</td>\n",
       "      <td>0</td>\n",
       "      <td>0</td>\n",
       "      <td>8</td>\n",
       "      <td>0</td>\n",
       "      <td>1</td>\n",
       "      <td>0</td>\n",
       "      <td>...</td>\n",
       "      <td>1</td>\n",
       "      <td>0</td>\n",
       "      <td>30.769230</td>\n",
       "      <td>26.923077</td>\n",
       "      <td>71.153847</td>\n",
       "      <td>95.603455</td>\n",
       "      <td>41.870399</td>\n",
       "      <td>216.835815</td>\n",
       "      <td>1</td>\n",
       "      <td>2</td>\n",
       "    </tr>\n",
       "    <tr>\n",
       "      <th>5</th>\n",
       "      <td>0</td>\n",
       "      <td>1</td>\n",
       "      <td>18</td>\n",
       "      <td>0</td>\n",
       "      <td>1</td>\n",
       "      <td>0</td>\n",
       "      <td>10</td>\n",
       "      <td>0</td>\n",
       "      <td>0</td>\n",
       "      <td>0</td>\n",
       "      <td>...</td>\n",
       "      <td>1</td>\n",
       "      <td>0</td>\n",
       "      <td>0.000000</td>\n",
       "      <td>36.538460</td>\n",
       "      <td>11.538462</td>\n",
       "      <td>0.000000</td>\n",
       "      <td>52.758656</td>\n",
       "      <td>11.856046</td>\n",
       "      <td>3</td>\n",
       "      <td>2</td>\n",
       "    </tr>\n",
       "    <tr>\n",
       "      <th>7</th>\n",
       "      <td>1</td>\n",
       "      <td>1</td>\n",
       "      <td>17</td>\n",
       "      <td>1</td>\n",
       "      <td>0</td>\n",
       "      <td>0</td>\n",
       "      <td>10</td>\n",
       "      <td>0</td>\n",
       "      <td>0</td>\n",
       "      <td>0</td>\n",
       "      <td>...</td>\n",
       "      <td>1</td>\n",
       "      <td>1</td>\n",
       "      <td>100.000000</td>\n",
       "      <td>32.692307</td>\n",
       "      <td>15.384615</td>\n",
       "      <td>285.628265</td>\n",
       "      <td>71.364548</td>\n",
       "      <td>18.296368</td>\n",
       "      <td>2</td>\n",
       "      <td>3</td>\n",
       "    </tr>\n",
       "    <tr>\n",
       "      <th>9</th>\n",
       "      <td>1</td>\n",
       "      <td>0</td>\n",
       "      <td>21</td>\n",
       "      <td>0</td>\n",
       "      <td>0</td>\n",
       "      <td>1</td>\n",
       "      <td>12</td>\n",
       "      <td>0</td>\n",
       "      <td>0</td>\n",
       "      <td>1</td>\n",
       "      <td>...</td>\n",
       "      <td>1</td>\n",
       "      <td>0</td>\n",
       "      <td>44.230770</td>\n",
       "      <td>96.153847</td>\n",
       "      <td>100.000000</td>\n",
       "      <td>86.732307</td>\n",
       "      <td>247.794205</td>\n",
       "      <td>221.147690</td>\n",
       "      <td>2</td>\n",
       "      <td>2</td>\n",
       "    </tr>\n",
       "  </tbody>\n",
       "</table>\n",
       "<p>5 rows × 46 columns</p>\n",
       "</div>"
      ],
      "text/plain": [
       "    assignment  female  age  white  black  hispanic  educ  educmis  geddegree  \\\n",
       "id                                                                              \n",
       "2            0       0   24      0      1         0    12        0          0   \n",
       "3            1       1   18      1      0         0     8        0          1   \n",
       "5            0       1   18      0      1         0    10        0          0   \n",
       "7            1       1   17      1      0         0    10        0          0   \n",
       "9            1       0   21      0      0         1    12        0          0   \n",
       "\n",
       "    hsdegree  ...  trainy1  trainy2     pworky2    pworky3     pworky4  \\\n",
       "id            ...                                                        \n",
       "2          1  ...        0        0   26.923077  86.538460   65.384613   \n",
       "3          0  ...        1        0   30.769230  26.923077   71.153847   \n",
       "5          0  ...        1        0    0.000000  36.538460   11.538462   \n",
       "7          0  ...        1        1  100.000000  32.692307   15.384615   \n",
       "9          1  ...        1        0   44.230770  96.153847  100.000000   \n",
       "\n",
       "        earny2      earny3      earny4  health30  health48  \n",
       "id                                                          \n",
       "2    63.387691  238.996002  265.188324         2         2  \n",
       "3    95.603455   41.870399  216.835815         1         2  \n",
       "5     0.000000   52.758656   11.856046         3         2  \n",
       "7   285.628265   71.364548   18.296368         2         3  \n",
       "9    86.732307  247.794205  221.147690         2         2  \n",
       "\n",
       "[5 rows x 46 columns]"
      ]
     },
     "execution_count": 2,
     "metadata": {},
     "output_type": "execute_result"
    }
   ],
   "source": [
    "import pandas as pd\n",
    "import numpy as np\n",
    "from sklearn.linear_model import LassoCV, LogisticRegressionCV\n",
    "\n",
    "\n",
    "df = pd.read_csv('JC.csv')\n",
    "df = df.rename(columns={'Unnamed: 0':'id'}).reset_index().drop('index', axis=1).set_index(['id'])\n",
    "df.head()"
   ]
  },
  {
   "cell_type": "code",
   "execution_count": 3,
   "metadata": {},
   "outputs": [],
   "source": [
    "x0_cols = list(df.columns[1:29])\n",
    "x1_cols = list(df.columns[29:36])\n",
    "t0_cols = df.columns[[36]]\n",
    "t1_cols = df.columns[[37]]\n",
    "y_col = df.columns[43]"
   ]
  },
  {
   "cell_type": "code",
   "execution_count": 40,
   "metadata": {},
   "outputs": [],
   "source": [
    "y = df[y_col]\n",
    "X0 = df[x0_cols]\n",
    "X1 = df[x1_cols]"
   ]
  },
  {
   "cell_type": "code",
   "execution_count": 60,
   "metadata": {},
   "outputs": [],
   "source": [
    "panelX = np.zeros((X0.shape[0], 2, X0.shape[1] + X1.shape[1]))\n",
    "panelX[:, 0, :X0.shape[1]] = X0.values\n",
    "panelX[:, 1, :X0.shape[1]] = X0.values\n",
    "panelX[:, 1, X0.shape[1]:] = X1.values"
   ]
  },
  {
   "cell_type": "code",
   "execution_count": 61,
   "metadata": {},
   "outputs": [],
   "source": [
    "panelT = np.zeros((X0.shape[0], 2, 1))\n",
    "panelT[:, 0, :] = df[t0_cols].values\n",
    "panelT[:, 1, :] = df[t1_cols].values"
   ]
  },
  {
   "cell_type": "code",
   "execution_count": 62,
   "metadata": {},
   "outputs": [],
   "source": [
    "lagpanelT = np.zeros((X0.shape[0], 2, 1))\n",
    "lagpanelT[:, 1, :] = panelT[:, 0, :]"
   ]
  },
  {
   "cell_type": "code",
   "execution_count": 63,
   "metadata": {},
   "outputs": [],
   "source": [
    "panelY = np.zeros((X0.shape[0], 2, 1))\n",
    "panelY[:, 1, 0] = df[y_col].values"
   ]
  },
  {
   "cell_type": "code",
   "execution_count": 64,
   "metadata": {},
   "outputs": [],
   "source": [
    "panelG = np.zeros((X0.shape[0], 2, 1), 'int')\n",
    "panelG[:, 0, 0] = np.arange(X0.shape[0])\n",
    "panelG[:, 1, 0] = np.arange(X0.shape[0])"
   ]
  },
  {
   "cell_type": "code",
   "execution_count": 65,
   "metadata": {},
   "outputs": [],
   "source": [
    "def long(X):\n",
    "    return X.reshape((-1, X.shape[-1]))"
   ]
  },
  {
   "cell_type": "code",
   "execution_count": 66,
   "metadata": {},
   "outputs": [],
   "source": [
    "from econml.dynamic.dml import DynamicDML\n",
    "est = DynamicDML(\n",
    "    model_y=LassoCV(cv=3, max_iter=1000), \n",
    "    model_t=LogisticRegressionCV(cv=3, max_iter=2000),\n",
    "    discrete_treatment=True,\n",
    "    cv=3)"
   ]
  },
  {
   "cell_type": "code",
   "execution_count": 67,
   "metadata": {},
   "outputs": [
    {
     "data": {
      "text/plain": [
       "<econml.dynamic.dml._dml.DynamicDML at 0x148ea91b8e0>"
      ]
     },
     "execution_count": 67,
     "metadata": {},
     "output_type": "execute_result"
    }
   ],
   "source": [
    "est.fit(long(panelY).flatten(), long(panelT).flatten(),\n",
    "        W=np.hstack([long(panelX), long(lagpanelT)]),\n",
    "        groups=long(panelG).flatten())"
   ]
  },
  {
   "cell_type": "code",
   "execution_count": 68,
   "metadata": {},
   "outputs": [
    {
     "name": "stdout",
     "output_type": "stream",
     "text": [
      "Coefficient Results:  X is None, please call intercept_inference to learn the constant!\n"
     ]
    },
    {
     "data": {
      "text/html": [
       "<table class=\"simpletable\">\n",
       "<caption>CATE Intercept Results</caption>\n",
       "<tr>\n",
       "               <td></td>               <th>point_estimate</th> <th>stderr</th> <th>zstat</th> <th>pvalue</th> <th>ci_lower</th> <th>ci_upper</th>\n",
       "</tr>\n",
       "<tr>\n",
       "  <th>cate_intercept|(T0_1.0)$_0$</th>      <td>18.43</td>      <td>4.51</td>  <td>4.087</td>   <td>0.0</td>   <td>11.012</td>   <td>25.849</td> \n",
       "</tr>\n",
       "<tr>\n",
       "  <th>cate_intercept|(T0_1.0)$_1$</th>     <td>22.059</td>      <td>4.224</td> <td>5.222</td>   <td>0.0</td>   <td>15.111</td>   <td>29.008</td> \n",
       "</tr>\n",
       "</table><br/><br/><sub>A linear parametric conditional average treatment effect (CATE) model was fitted:<br/>$Y = \\Theta(X)\\cdot T + g(X, W) + \\epsilon$<br/>where for every outcome $i$ and treatment $j$ the CATE $\\Theta_{ij}(X)$ has the form:<br/>$\\Theta_{ij}(X) = \\phi(X)' coef_{ij} + cate\\_intercept_{ij}$<br/>where $\\phi(X)$ is the output of the `featurizer` or $X$ if `featurizer`=None. Coefficient Results table portrays the $coef_{ij}$ parameter vector for each outcome $i$ and treatment $j$. Intercept Results table portrays the $cate\\_intercept_{ij}$ parameter.</sub>"
      ],
      "text/plain": [
       "<class 'econml.utilities.Summary'>\n",
       "\"\"\"\n",
       "                             CATE Intercept Results                             \n",
       "================================================================================\n",
       "                            point_estimate stderr zstat pvalue ci_lower ci_upper\n",
       "--------------------------------------------------------------------------------\n",
       "cate_intercept|(T0_1.0)$_0$          18.43   4.51 4.087    0.0   11.012   25.849\n",
       "cate_intercept|(T0_1.0)$_1$         22.059  4.224 5.222    0.0   15.111   29.008\n",
       "--------------------------------------------------------------------------------\n",
       "\n",
       "<sub>A linear parametric conditional average treatment effect (CATE) model was fitted:\n",
       "$Y = \\Theta(X)\\cdot T + g(X, W) + \\epsilon$\n",
       "where for every outcome $i$ and treatment $j$ the CATE $\\Theta_{ij}(X)$ has the form:\n",
       "$\\Theta_{ij}(X) = \\phi(X)' coef_{ij} + cate\\_intercept_{ij}$\n",
       "where $\\phi(X)$ is the output of the `featurizer` or $X$ if `featurizer`=None. Coefficient Results table portrays the $coef_{ij}$ parameter vector for each outcome $i$ and treatment $j$. Intercept Results table portrays the $cate\\_intercept_{ij}$ parameter.</sub>\n",
       "\"\"\""
      ]
     },
     "execution_count": 68,
     "metadata": {},
     "output_type": "execute_result"
    }
   ],
   "source": [
    "est.summary()"
   ]
  },
  {
   "cell_type": "code",
   "execution_count": 70,
   "metadata": {},
   "outputs": [
    {
     "data": {
      "text/html": [
       "<div>\n",
       "<style scoped>\n",
       "    .dataframe tbody tr th:only-of-type {\n",
       "        vertical-align: middle;\n",
       "    }\n",
       "\n",
       "    .dataframe tbody tr th {\n",
       "        vertical-align: top;\n",
       "    }\n",
       "\n",
       "    .dataframe thead th {\n",
       "        text-align: right;\n",
       "    }\n",
       "</style>\n",
       "<table border=\"1\" class=\"dataframe\">\n",
       "  <thead>\n",
       "    <tr style=\"text-align: right;\">\n",
       "      <th></th>\n",
       "      <th>point_estimate</th>\n",
       "      <th>stderr</th>\n",
       "      <th>zstat</th>\n",
       "      <th>pvalue</th>\n",
       "      <th>ci_lower</th>\n",
       "      <th>ci_upper</th>\n",
       "    </tr>\n",
       "    <tr>\n",
       "      <th>X</th>\n",
       "      <th></th>\n",
       "      <th></th>\n",
       "      <th></th>\n",
       "      <th></th>\n",
       "      <th></th>\n",
       "      <th></th>\n",
       "    </tr>\n",
       "  </thead>\n",
       "  <tbody>\n",
       "    <tr>\n",
       "      <th>0</th>\n",
       "      <td>40.49</td>\n",
       "      <td>4.988</td>\n",
       "      <td>8.117</td>\n",
       "      <td>0.0</td>\n",
       "      <td>32.285</td>\n",
       "      <td>48.695</td>\n",
       "    </tr>\n",
       "  </tbody>\n",
       "</table>\n",
       "</div>"
      ],
      "text/plain": [
       "   point_estimate  stderr  zstat  pvalue  ci_lower  ci_upper\n",
       "X                                                           \n",
       "0           40.49   4.988  8.117     0.0    32.285    48.695"
      ]
     },
     "execution_count": 70,
     "metadata": {},
     "output_type": "execute_result"
    }
   ],
   "source": [
    "est.effect_inference().summary_frame()"
   ]
  },
  {
   "cell_type": "markdown",
   "metadata": {},
   "source": [
    "# SNMM Algorithm"
   ]
  },
  {
   "cell_type": "code",
   "execution_count": 1,
   "metadata": {},
   "outputs": [],
   "source": [
    "%load_ext autoreload\n",
    "%autoreload 2"
   ]
  },
  {
   "cell_type": "code",
   "execution_count": 2,
   "metadata": {},
   "outputs": [],
   "source": [
    "# Main imports\n",
    "from econml.dynamic.dml import DynamicDML\n",
    "from econml.tests.dgp import DynamicPanelDGP, add_vlines\n",
    "\n",
    "# Helper imports\n",
    "import numpy as np\n",
    "from sklearn.linear_model import Lasso, LassoCV, LogisticRegression, LogisticRegressionCV, MultiTaskLassoCV\n",
    "import matplotlib.pyplot as plt\n",
    "import pandas as pd\n",
    "import numpy as np\n",
    "from sklearn.linear_model import LassoCV, LogisticRegressionCV\n",
    "\n",
    "import warnings\n",
    "warnings.simplefilter('ignore')\n",
    "\n",
    "%matplotlib inline"
   ]
  },
  {
   "cell_type": "markdown",
   "metadata": {},
   "source": [
    "### Real data"
   ]
  },
  {
   "cell_type": "code",
   "execution_count": 3,
   "metadata": {},
   "outputs": [
    {
     "data": {
      "text/html": [
       "<div>\n",
       "<style scoped>\n",
       "    .dataframe tbody tr th:only-of-type {\n",
       "        vertical-align: middle;\n",
       "    }\n",
       "\n",
       "    .dataframe tbody tr th {\n",
       "        vertical-align: top;\n",
       "    }\n",
       "\n",
       "    .dataframe thead th {\n",
       "        text-align: right;\n",
       "    }\n",
       "</style>\n",
       "<table border=\"1\" class=\"dataframe\">\n",
       "  <thead>\n",
       "    <tr style=\"text-align: right;\">\n",
       "      <th></th>\n",
       "      <th>assignment</th>\n",
       "      <th>female</th>\n",
       "      <th>age</th>\n",
       "      <th>white</th>\n",
       "      <th>black</th>\n",
       "      <th>hispanic</th>\n",
       "      <th>educ</th>\n",
       "      <th>educmis</th>\n",
       "      <th>geddegree</th>\n",
       "      <th>hsdegree</th>\n",
       "      <th>...</th>\n",
       "      <th>trainy1</th>\n",
       "      <th>trainy2</th>\n",
       "      <th>pworky2</th>\n",
       "      <th>pworky3</th>\n",
       "      <th>pworky4</th>\n",
       "      <th>earny2</th>\n",
       "      <th>earny3</th>\n",
       "      <th>earny4</th>\n",
       "      <th>health30</th>\n",
       "      <th>health48</th>\n",
       "    </tr>\n",
       "    <tr>\n",
       "      <th>id</th>\n",
       "      <th></th>\n",
       "      <th></th>\n",
       "      <th></th>\n",
       "      <th></th>\n",
       "      <th></th>\n",
       "      <th></th>\n",
       "      <th></th>\n",
       "      <th></th>\n",
       "      <th></th>\n",
       "      <th></th>\n",
       "      <th></th>\n",
       "      <th></th>\n",
       "      <th></th>\n",
       "      <th></th>\n",
       "      <th></th>\n",
       "      <th></th>\n",
       "      <th></th>\n",
       "      <th></th>\n",
       "      <th></th>\n",
       "      <th></th>\n",
       "      <th></th>\n",
       "    </tr>\n",
       "  </thead>\n",
       "  <tbody>\n",
       "    <tr>\n",
       "      <th>2</th>\n",
       "      <td>0</td>\n",
       "      <td>0</td>\n",
       "      <td>24</td>\n",
       "      <td>0</td>\n",
       "      <td>1</td>\n",
       "      <td>0</td>\n",
       "      <td>12</td>\n",
       "      <td>0</td>\n",
       "      <td>0</td>\n",
       "      <td>1</td>\n",
       "      <td>...</td>\n",
       "      <td>0</td>\n",
       "      <td>0</td>\n",
       "      <td>26.923077</td>\n",
       "      <td>86.538460</td>\n",
       "      <td>65.384613</td>\n",
       "      <td>63.387691</td>\n",
       "      <td>238.996002</td>\n",
       "      <td>265.188324</td>\n",
       "      <td>2</td>\n",
       "      <td>2</td>\n",
       "    </tr>\n",
       "    <tr>\n",
       "      <th>3</th>\n",
       "      <td>1</td>\n",
       "      <td>1</td>\n",
       "      <td>18</td>\n",
       "      <td>1</td>\n",
       "      <td>0</td>\n",
       "      <td>0</td>\n",
       "      <td>8</td>\n",
       "      <td>0</td>\n",
       "      <td>1</td>\n",
       "      <td>0</td>\n",
       "      <td>...</td>\n",
       "      <td>1</td>\n",
       "      <td>0</td>\n",
       "      <td>30.769230</td>\n",
       "      <td>26.923077</td>\n",
       "      <td>71.153847</td>\n",
       "      <td>95.603455</td>\n",
       "      <td>41.870399</td>\n",
       "      <td>216.835815</td>\n",
       "      <td>1</td>\n",
       "      <td>2</td>\n",
       "    </tr>\n",
       "    <tr>\n",
       "      <th>5</th>\n",
       "      <td>0</td>\n",
       "      <td>1</td>\n",
       "      <td>18</td>\n",
       "      <td>0</td>\n",
       "      <td>1</td>\n",
       "      <td>0</td>\n",
       "      <td>10</td>\n",
       "      <td>0</td>\n",
       "      <td>0</td>\n",
       "      <td>0</td>\n",
       "      <td>...</td>\n",
       "      <td>1</td>\n",
       "      <td>0</td>\n",
       "      <td>0.000000</td>\n",
       "      <td>36.538460</td>\n",
       "      <td>11.538462</td>\n",
       "      <td>0.000000</td>\n",
       "      <td>52.758656</td>\n",
       "      <td>11.856046</td>\n",
       "      <td>3</td>\n",
       "      <td>2</td>\n",
       "    </tr>\n",
       "    <tr>\n",
       "      <th>7</th>\n",
       "      <td>1</td>\n",
       "      <td>1</td>\n",
       "      <td>17</td>\n",
       "      <td>1</td>\n",
       "      <td>0</td>\n",
       "      <td>0</td>\n",
       "      <td>10</td>\n",
       "      <td>0</td>\n",
       "      <td>0</td>\n",
       "      <td>0</td>\n",
       "      <td>...</td>\n",
       "      <td>1</td>\n",
       "      <td>1</td>\n",
       "      <td>100.000000</td>\n",
       "      <td>32.692307</td>\n",
       "      <td>15.384615</td>\n",
       "      <td>285.628265</td>\n",
       "      <td>71.364548</td>\n",
       "      <td>18.296368</td>\n",
       "      <td>2</td>\n",
       "      <td>3</td>\n",
       "    </tr>\n",
       "    <tr>\n",
       "      <th>9</th>\n",
       "      <td>1</td>\n",
       "      <td>0</td>\n",
       "      <td>21</td>\n",
       "      <td>0</td>\n",
       "      <td>0</td>\n",
       "      <td>1</td>\n",
       "      <td>12</td>\n",
       "      <td>0</td>\n",
       "      <td>0</td>\n",
       "      <td>1</td>\n",
       "      <td>...</td>\n",
       "      <td>1</td>\n",
       "      <td>0</td>\n",
       "      <td>44.230770</td>\n",
       "      <td>96.153847</td>\n",
       "      <td>100.000000</td>\n",
       "      <td>86.732307</td>\n",
       "      <td>247.794205</td>\n",
       "      <td>221.147690</td>\n",
       "      <td>2</td>\n",
       "      <td>2</td>\n",
       "    </tr>\n",
       "  </tbody>\n",
       "</table>\n",
       "<p>5 rows × 46 columns</p>\n",
       "</div>"
      ],
      "text/plain": [
       "    assignment  female  age  white  black  hispanic  educ  educmis  geddegree  \\\n",
       "id                                                                              \n",
       "2            0       0   24      0      1         0    12        0          0   \n",
       "3            1       1   18      1      0         0     8        0          1   \n",
       "5            0       1   18      0      1         0    10        0          0   \n",
       "7            1       1   17      1      0         0    10        0          0   \n",
       "9            1       0   21      0      0         1    12        0          0   \n",
       "\n",
       "    hsdegree  ...  trainy1  trainy2     pworky2    pworky3     pworky4  \\\n",
       "id            ...                                                        \n",
       "2          1  ...        0        0   26.923077  86.538460   65.384613   \n",
       "3          0  ...        1        0   30.769230  26.923077   71.153847   \n",
       "5          0  ...        1        0    0.000000  36.538460   11.538462   \n",
       "7          0  ...        1        1  100.000000  32.692307   15.384615   \n",
       "9          1  ...        1        0   44.230770  96.153847  100.000000   \n",
       "\n",
       "        earny2      earny3      earny4  health30  health48  \n",
       "id                                                          \n",
       "2    63.387691  238.996002  265.188324         2         2  \n",
       "3    95.603455   41.870399  216.835815         1         2  \n",
       "5     0.000000   52.758656   11.856046         3         2  \n",
       "7   285.628265   71.364548   18.296368         2         3  \n",
       "9    86.732307  247.794205  221.147690         2         2  \n",
       "\n",
       "[5 rows x 46 columns]"
      ]
     },
     "execution_count": 3,
     "metadata": {},
     "output_type": "execute_result"
    }
   ],
   "source": [
    "df = pd.read_csv('JC.csv')\n",
    "df = df.rename(columns={'Unnamed: 0':'id'}).reset_index().drop('index', axis=1).set_index(['id'])\n",
    "df.head()"
   ]
  },
  {
   "cell_type": "code",
   "execution_count": 4,
   "metadata": {},
   "outputs": [],
   "source": [
    "x0_cols = list(df.columns[1:29])\n",
    "x1_cols = list(df.columns[29:36])\n",
    "t0_cols = df.columns[[36]]\n",
    "t1_cols = df.columns[[37]]\n",
    "y_col = df.columns[43]"
   ]
  },
  {
   "cell_type": "code",
   "execution_count": 5,
   "metadata": {},
   "outputs": [
    {
     "data": {
      "image/png": "[encoded data removed]",
      "text/plain": [
       "<Figure size 432x288 with 1 Axes>"
      ]
     },
     "metadata": {
      "needs_background": "light"
     },
     "output_type": "display_data"
    }
   ],
   "source": [
    "plt.hist(df['educmum'])\n",
    "plt.show()"
   ]
  },
  {
   "cell_type": "code",
   "execution_count": 6,
   "metadata": {},
   "outputs": [],
   "source": [
    "y = df[y_col].values\n",
    "X = {0: df[x0_cols], 1: df[x1_cols], 'het': df[x0_cols]}\n",
    "T = {0: df[t0_cols].values, 1: df[t1_cols].values}\n",
    "m = 2"
   ]
  },
  {
   "cell_type": "code",
   "execution_count": 7,
   "metadata": {},
   "outputs": [],
   "source": [
    "cat = ['age', 'educ', 'educmum', 'educdad']\n",
    "X[0] = pd.get_dummies(X[0], columns=cat)\n",
    "X[0] = pd.concat([X[0], df[cat]], axis=1)\n",
    "x0_cols = list(X[0].columns)"
   ]
  },
  {
   "cell_type": "code",
   "execution_count": 16,
   "metadata": {},
   "outputs": [],
   "source": [
    "true_effect_params = np.zeros((m, T[0].shape[1]))"
   ]
  },
  {
   "cell_type": "markdown",
   "metadata": {},
   "source": [
    "### Simulated Data"
   ]
  },
  {
   "cell_type": "code",
   "execution_count": 8,
   "metadata": {},
   "outputs": [],
   "source": [
    "from snmm import gen_data\n",
    "m = 2\n",
    "y, X, T, true_effect_params = gen_data(n_periods=m, n_units=10000, n_treatments=1,\n",
    "                                       n_x=10, s_x=1, s_t=1,\n",
    "                                       hetero_strenth=.0, n_hetero_vars=0, autoreg=1.0,\n",
    "                                       instance_seed=13, sample_seed=1)"
   ]
  },
  {
   "cell_type": "code",
   "execution_count": 9,
   "metadata": {},
   "outputs": [],
   "source": [
    "X['het'] = X[0]"
   ]
  },
  {
   "cell_type": "code",
   "execution_count": 61,
   "metadata": {},
   "outputs": [
    {
     "data": {
      "text/plain": [
       "array([[[1.18717626]],\n",
       "\n",
       "       [[0.22369918]]])"
      ]
     },
     "execution_count": 61,
     "metadata": {},
     "output_type": "execute_result"
    }
   ],
   "source": [
    "true_effect_params"
   ]
  },
  {
   "cell_type": "markdown",
   "metadata": {},
   "source": [
    "### Simulated data with heterogeneity"
   ]
  },
  {
   "cell_type": "code",
   "execution_count": 6,
   "metadata": {},
   "outputs": [],
   "source": [
    "from snmm import gen_data\n",
    "m = 2\n",
    "y, X, T, true_effect_params = gen_data(n_periods=m, n_units=10000, n_treatments=1,\n",
    "                                       n_x=10, s_x=1, s_t=1,\n",
    "                                       hetero_strenth=.5, n_hetero_vars=1, autoreg=1.0,\n",
    "                                       instance_seed=123, sample_seed=1)"
   ]
  },
  {
   "cell_type": "code",
   "execution_count": 10,
   "metadata": {},
   "outputs": [
    {
     "data": {
      "text/plain": [
       "array([[[0.88288977, 0.45027826]],\n",
       "\n",
       "       [[0.81068315, 0.32122891]]])"
      ]
     },
     "execution_count": 10,
     "metadata": {},
     "output_type": "execute_result"
    }
   ],
   "source": [
    "true_effect_params"
   ]
  },
  {
   "cell_type": "markdown",
   "metadata": {},
   "source": [
    "# Analysis"
   ]
  },
  {
   "cell_type": "code",
   "execution_count": 8,
   "metadata": {},
   "outputs": [],
   "source": [
    "from snmm import get_linear_model_reg, get_linear_multimodel_reg\n",
    "from snmm import get_model_reg, get_multimodel_reg\n",
    "from snmm import get_poly_model_reg, get_poly_multimodel_reg\n",
    "from econml.utilities import cross_product"
   ]
  },
  {
   "cell_type": "markdown",
   "metadata": {},
   "source": [
    "### Define Model Parameters"
   ]
  },
  {
   "cell_type": "code",
   "execution_count": 57,
   "metadata": {},
   "outputs": [],
   "source": [
    "# model_reg_fn = lambda X, y: get_model_reg(X, y, degrees=[1])\n",
    "# multimodel_reg_fn = lambda X, y: get_multimodel_reg(X, y, degrees=[1])\n",
    "# model_reg_fn = get_linear_model_reg\n",
    "# multimodel_reg_fn = get_linear_multimodel_reg\n",
    "model_reg_fn = lambda X, y: get_poly_model_reg(X, y, degree=1, interaction_only=True)\n",
    "multimodel_reg_fn = lambda X, y: get_poly_multimodel_reg(X, y, degree=1, interaction_only=True)"
   ]
  },
  {
   "cell_type": "code",
   "execution_count": 58,
   "metadata": {},
   "outputs": [],
   "source": [
    "het_cols11 = list(X[1].columns)\n",
    "het_cols10 = list(X[0].columns)\n",
    "het_cols0 = list(X[0].columns)\n",
    "def phi(t, X, T, Tt):\n",
    "    if t == 1:\n",
    "        return np.hstack([Tt,\n",
    "                          cross_product(Tt, T[t-1]),\n",
    "                          cross_product(Tt, X[t][het_cols11].values),\n",
    "                          cross_product(Tt, X[t-1][het_cols10].values),\n",
    "                          cross_product(Tt, T[t-1], X[t][het_cols11].values),\n",
    "                          cross_product(Tt, T[t-1], X[t-1][het_cols10].values)\n",
    "                         ])\n",
    "    elif t==0:\n",
    "        return np.hstack([Tt, cross_product(Tt, X[t][het_cols0].values)])\n",
    "    raise AttributeError(\"Not valid\")\n",
    "\n",
    "def phi_names(t):\n",
    "    if t == 1:\n",
    "        return ([f't2[{x}]' for x in range(T[1].shape[1])] +\n",
    "                [f't2[{x}]*t1[{y}]' for y in range(T[0].shape[1]) for x in range(T[1].shape[1])] +\n",
    "                [f't2[{x}]*x2[{y}]' for y in het_cols11 for x in range(T[1].shape[1])] + \n",
    "                [f't2[{x}]*x1[{y}]' for y in het_cols10 for x in range(T[1].shape[1])] +\n",
    "                [f't2[{x}]*t1[{y}]*{z}' for z in het_cols11 for y in range(T[0].shape[1])\n",
    "                                        for x in range(T[1].shape[1])] + \n",
    "                [f't2[{x}]*t1[{y}]*{z}' for z in het_cols10 for y in range(T[0].shape[1])\n",
    "                                        for x in range(T[1].shape[1])]\n",
    "               )\n",
    "    elif t == 0:\n",
    "        return ([f't1[{x}]' for x in range(T[1].shape[1])] + \n",
    "                [f't1[{x}]*{y}' for y in het_cols0 for x in range(T[1].shape[1])])\n",
    "    raise AttributeError(\"Not valid\")\n",
    "\n",
    "def pi(t, X, T):\n",
    "    return np.ones(T[t].shape)"
   ]
  },
  {
   "cell_type": "markdown",
   "metadata": {},
   "source": [
    "### Estimate High-Dimensional Linear Blip Model"
   ]
  },
  {
   "cell_type": "code",
   "execution_count": 59,
   "metadata": {},
   "outputs": [],
   "source": [
    "from snmm import SNMMDynamicDML\n",
    "\n",
    "est = SNMMDynamicDML(m=m, phi=phi, phi_names_fn=phi_names,\n",
    "                     model_reg_fn=model_reg_fn,\n",
    "                     model_final_fn=lambda: LassoCV())"
   ]
  },
  {
   "cell_type": "code",
   "execution_count": 60,
   "metadata": {
    "scrolled": true
   },
   "outputs": [
    {
     "name": "stdout",
     "output_type": "stream",
     "text": [
      "Info set: 0\n",
      "r2score_y 0.08334933610641171\n",
      "Treatment: 0\n",
      "r2score_Qjt[0] 0.04802599600821311\n",
      "r2score_Qjt[1] 0.6027151607948683\n",
      "r2score_Qjt[2] 0.6052099896332823\n",
      "r2score_Qjt[3] 0.5815053230717475\n",
      "r2score_Qjt[4] 0.6837854359299849\n",
      "r2score_Qjt[5] 0.5279091454968388\n",
      "r2score_Qjt[6] 0.5888321018821192\n",
      "r2score_Qjt[7] 0.5764625902661078\n",
      "r2score_Qjt[8] 0.29686818939522275\n",
      "r2score_Qjt[9] 0.5974391026118071\n",
      "r2score_Qjt[10] 0.5974671207679\n",
      "r2score_Qjt[11] 0.707532384937431\n",
      "r2score_Qjt[12] 0.6494087097360998\n",
      "r2score_Qjt[13] 0.43186991799590535\n",
      "r2score_Qjt[14] 0.5295812840912042\n",
      "r2score_Qjt[15] 0.6385142452780457\n",
      "r2score_Qjt[16] 0.5976138477109296\n",
      "r2score_Qjt[17] 0.4524834754206949\n",
      "r2score_Qjt[18] 0.6689439923630682\n",
      "r2score_Qjt[19] 0.29934230565885644\n",
      "r2score_Qjt[20] 0.5207209612600865\n",
      "r2score_Qjt[21] 0.6323315109545582\n",
      "r2score_Qjt[22] 0.5850560183626328\n",
      "r2score_Qjt[23] 0.5569520763172588\n",
      "r2score_Qjt[24] 0.6099272872628245\n",
      "r2score_Qjt[25] 0.8008872271340539\n",
      "r2score_Qjt[26] 0.736430961516146\n",
      "r2score_Qjt[27] 0.6515409015211163\n",
      "r2score_Qjt[28] 0.5968951137017459\n",
      "r2score_Qjt[29] 0.5751176654592327\n",
      "r2score_Qjt[30] 0.5936246980669415\n",
      "r2score_Qjt[31] 0.6044486912361099\n",
      "r2score_Qjt[32] 0.6554288936999431\n",
      "r2score_Qjt[33] 0.6260781049278703\n",
      "r2score_Qjt[34] 0.5249413678810556\n",
      "r2score_Qjt[35] 0.8353904006021483\n",
      "r2score_Qjt[36] 0.4584466327040595\n",
      "r2score_Qjt[37] -0.00010823693040662441\n",
      "r2score_Qjt[38] -0.0002164972937979126\n",
      "r2score_Qjt[39] 0.6701049039214595\n",
      "r2score_Qjt[40] 0.7682187071137692\n",
      "r2score_Qjt[41] 0.7336941523944915\n",
      "r2score_Qjt[42] 0.7255692999234931\n",
      "r2score_Qjt[43] 0.6689296167980149\n",
      "r2score_Qjt[44] 0.6637665426456548\n",
      "r2score_Qjt[45] 0.5766913909111966\n",
      "r2score_Qjt[46] 0.6792319483427488\n",
      "r2score_Qjt[47] 0.7201377538750047\n",
      "r2score_Qjt[48] 0.8120438165693578\n",
      "r2score_Qjt[49] -0.0002164972937979126\n",
      "r2score_Qjt[50] -0.00010823693040662441\n",
      "r2score_Qjt[51] 0.6385804168025602\n",
      "r2score_Qjt[52] 0.36890107097355074\n",
      "r2score_Qjt[53] 0.6350425410653433\n",
      "r2score_Qjt[54] 0.620058514734453\n",
      "r2score_Qjt[55] 0.7849596343680963\n",
      "r2score_Qjt[56] 0.7307066413623671\n",
      "r2score_Qjt[57] 0.6686513581727277\n",
      "r2score_Qjt[58] 0.6485177906267635\n",
      "r2score_Qjt[59] 0.723702149066254\n",
      "r2score_Qjt[60] 0.6952963465535691\n",
      "r2score_Qjt[61] 0.6913967653917394\n",
      "r2score_Qjt[62] 0.6749535641777591\n",
      "r2score_Qjt[63] 0.6092040136254513\n",
      "r2score_Qjt[64] 0.7297893557403383\n",
      "r2score_Qjt[65] 0.7706439709024365\n",
      "r2score_Qjt[66] 0.8357177375145546\n",
      "r2score_Qjt[67] 0.726853061402817\n",
      "r2score_Qjt[68] 0.8575847768048602\n",
      "r2score_Qjt[69] 0.6912100217725128\n",
      "r2score_Qjt[70] 0.9999987333332601\n",
      "r2score_Qjt[71] 0.688314843840806\n",
      "r2score_Qjt[72] 0.596286236309259\n",
      "r2score_Qjt[73] 0.7452110037709017\n",
      "r2score_Qjt[74] 0.7634840862161305\n",
      "r2score_Qjt[75] 0.5324658531043207\n",
      "r2score_Qjt[76] 0.5967951242638196\n",
      "r2score_Qjt[77] 0.7152246240799891\n",
      "r2score_Qjt[78] 0.6582126942282609\n",
      "r2score_Qjt[79] 0.6067455703133502\n",
      "r2score_Qjt[80] 0.6917595113340527\n",
      "r2score_Qjt[81] 0.7566876780346466\n",
      "r2score_Qjt[82] 0.6706551671133694\n",
      "r2score_Qjt[83] 0.6822241225468039\n",
      "r2score_Qjt[84] 0.6364753569790773\n",
      "r2score_Qjt[85] 0.7081392483959235\n",
      "r2score_Qjt[86] 0.7195013044586807\n",
      "r2score_Qjt[87] 0.7626779239452953\n",
      "r2score_Qjt[88] 0.7721551028236552\n",
      "r2score_Qjt[89] 0.6902924480725768\n",
      "r2score_Qjt[90] 0.9081402609936565\n",
      "r2score_Qjt[91] 0.7897465903426695\n",
      "r2score_Qjt[92] 0.6820607974054893\n",
      "r2score_Qjt[93] 0.020438401392151362\n",
      "r2score_Qjt[94] 0.09141830512364657\n",
      "r2score_Qjt[95] 0.40512679666011775\n",
      "r2score_Qjt[96] 0.5467695064394436\n",
      "Treatment: 1\n",
      "r2score_Qjt[0] 0.03490225947708092\n",
      "r2score_Qjt[1] 0.003167465955565607\n",
      "r2score_Qjt[2] 0.053534744725270866\n",
      "r2score_Qjt[3] 0.06486835915154932\n",
      "r2score_Qjt[4] nan\n",
      "r2score_Qjt[5] 0.0709764303605922\n",
      "r2score_Qjt[6] nan\n",
      "r2score_Qjt[7] 0.035200775719627764\n",
      "r2score_Qjt[8] nan\n",
      "r2score_Qjt[9] 0.3472536642769146\n",
      "r2score_Qjt[10] 0.5088206242213148\n",
      "r2score_Qjt[11] 0.3490519226411044\n",
      "r2score_Qjt[12] 0.444969895171354\n",
      "r2score_Qjt[13] 0.5768333991266164\n",
      "r2score_Qjt[14] 0.581085909198578\n",
      "r2score_Qjt[15] 0.5012699383309703\n",
      "r2score_Qjt[16] 0.17039270666078332\n",
      "r2score_Qjt[17] 0.5470757686993986\n",
      "r2score_Qjt[18] 0.49341970429732274\n",
      "r2score_Qjt[19] 0.45370249613451263\n",
      "r2score_Qjt[20] 0.4893310714574328\n",
      "r2score_Qjt[21] 0.22265442971030291\n",
      "r2score_Qjt[22] 0.578606238263367\n",
      "r2score_Qjt[23] 0.48136718330532413\n",
      "r2score_Qjt[24] 0.39902578386170107\n",
      "r2score_Qjt[25] 0.2543527432946615\n",
      "r2score_Qjt[26] 0.4867289240596311\n",
      "r2score_Qjt[27] 0.1643248812204524\n",
      "r2score_Qjt[28] 0.5572711693810706\n",
      "r2score_Qjt[29] 0.40110697710022625\n",
      "r2score_Qjt[30] 0.3373871354129022\n",
      "r2score_Qjt[31] 0.37355804050785213\n",
      "r2score_Qjt[32] 0.3663060465584035\n",
      "r2score_Qjt[33] 0.33149279469998616\n",
      "r2score_Qjt[34] 0.45479713449364423\n",
      "r2score_Qjt[35] 0.5037959670005105\n",
      "r2score_Qjt[36] 0.5337694148696965\n",
      "r2score_Qjt[37] 0.5630954365909933\n",
      "r2score_Qjt[38] 0.5650781184095408\n",
      "r2score_Qjt[39] 0.5326377600622276\n",
      "r2score_Qjt[40] 0.5805492816886605\n",
      "r2score_Qjt[41] 0.5712058701556424\n",
      "r2score_Qjt[42] 0.5768333991266164\n",
      "r2score_Qjt[43] 0.5910161853956942\n",
      "r2score_Qjt[44] -0.01842370476040478\n",
      "r2score_Qjt[45] nan\n",
      "r2score_Qjt[46] nan\n",
      "r2score_Qjt[47] 0.5357368146042256\n",
      "r2score_Qjt[48] 0.4415353653088371\n",
      "r2score_Qjt[49] 0.4427034931592967\n",
      "r2score_Qjt[50] 0.4306808049322065\n",
      "r2score_Qjt[51] 0.46907163150353837\n",
      "r2score_Qjt[52] 0.48249199249536157\n",
      "r2score_Qjt[53] 0.5111417231948984\n",
      "r2score_Qjt[54] 0.44768599381442753\n",
      "r2score_Qjt[55] 0.44280716658100183\n",
      "r2score_Qjt[56] 0.08723938055497382\n",
      "r2score_Qjt[57] nan\n",
      "r2score_Qjt[58] nan\n",
      "r2score_Qjt[59] 0.47693851047123437\n",
      "r2score_Qjt[60] 0.7146557958414168\n",
      "r2score_Qjt[61] 0.20019899277545883\n",
      "r2score_Qjt[62] 0.3828970247732272\n",
      "r2score_Qjt[63] 0.2991851933787716\n",
      "r2score_Qjt[64] 0.3766171670733359\n",
      "r2score_Qjt[65] 0.42822364461226536\n",
      "r2score_Qjt[66] 0.4792712963645007\n",
      "r2score_Qjt[67] 0.5180167913841534\n",
      "r2score_Qjt[68] 0.5083867898615908\n",
      "r2score_Qjt[69] 0.5447860641749515\n",
      "r2score_Qjt[70] 0.49672797865970186\n",
      "r2score_Qjt[71] 0.4076841430335636\n",
      "r2score_Qjt[72] 0.4869716267609264\n",
      "r2score_Qjt[73] 0.4732501752314928\n",
      "r2score_Qjt[74] 0.4079843331056504\n",
      "r2score_Qjt[75] 0.46218668406970487\n",
      "r2score_Qjt[76] 0.49173966441778205\n",
      "r2score_Qjt[77] 0.5882033565796302\n",
      "r2score_Qjt[78] -0.04222645270068237\n",
      "r2score_Qjt[79] 0.33811604799505335\n",
      "r2score_Qjt[80] 0.3955843237886807\n",
      "r2score_Qjt[81] -0.005153998200147836\n",
      "r2score_Qjt[82] 0.45874907228368456\n",
      "r2score_Qjt[83] 0.5586312832159395\n",
      "r2score_Qjt[84] 0.448740607482086\n",
      "r2score_Qjt[85] 0.38589164976313584\n",
      "r2score_Qjt[86] 0.5489904002506867\n",
      "r2score_Qjt[87] 0.5245534685678006\n",
      "r2score_Qjt[88] 0.5560864747569174\n",
      "r2score_Qjt[89] 0.5403768076145945\n",
      "r2score_Qjt[90] 0.5508709144318498\n",
      "r2score_Qjt[91] 0.5552950486195234\n",
      "r2score_Qjt[92] 0.4245056151480304\n",
      "r2score_Qjt[93] 0.508987210401393\n",
      "r2score_Qjt[94] 0.5312992025960521\n",
      "r2score_Qjt[95] 0.38650893196356717\n",
      "r2score_Qjt[96] 0.4410538175474312\n",
      "r2score_Qjt[97] 0.41151687703244877\n",
      "r2score_Qjt[98] 0.3652238885555811\n",
      "r2score_Qjt[99] 0.3145042438465395\n",
      "r2score_Qjt[100] 0.43593966486898483\n",
      "r2score_Qjt[101] 0.07221721720642449\n",
      "r2score_Qjt[102] 0.08210630036333966\n",
      "r2score_Qjt[103] 0.20818278715773209\n",
      "r2score_Qjt[104] 0.31570071649907483\n",
      "r2score_Qjt[105] 0.010259716816335418\n",
      "r2score_Qjt[106] 0.016971911325786904\n",
      "r2score_Qjt[107] nan\n",
      "r2score_Qjt[108] 0.01040440278049215\n",
      "r2score_Qjt[109] nan\n",
      "r2score_Qjt[110] 0.005339783750346383\n",
      "r2score_Qjt[111] nan\n",
      "r2score_Qjt[112] 0.17990669375072255\n",
      "r2score_Qjt[113] 0.2540204064514905\n",
      "r2score_Qjt[114] 0.17332196840009317\n",
      "r2score_Qjt[115] 0.2312457977089224\n",
      "r2score_Qjt[116] 0.21256074401937897\n",
      "r2score_Qjt[117] 0.27355143989289354\n",
      "r2score_Qjt[118] 0.20805316141703223\n",
      "r2score_Qjt[119] 0.061989738159537455\n",
      "r2score_Qjt[120] 0.2537075148731627\n",
      "r2score_Qjt[121] 0.24267919303406615\n",
      "r2score_Qjt[122] 0.26534419532306397\n",
      "r2score_Qjt[123] 0.24283200951202666\n",
      "r2score_Qjt[124] 0.08809676868563598\n",
      "r2score_Qjt[125] 0.21872831624890643\n",
      "r2score_Qjt[126] 0.23879824582174525\n",
      "r2score_Qjt[127] 0.1922958026884125\n",
      "r2score_Qjt[128] 0.10898533752442796\n",
      "r2score_Qjt[129] 0.243550185170321\n",
      "r2score_Qjt[130] 0.055616714739960105\n",
      "r2score_Qjt[131] 0.18595918618287333\n",
      "r2score_Qjt[132] 0.2057871291816349\n",
      "r2score_Qjt[133] 0.15707613410806065\n",
      "r2score_Qjt[134] 0.18124227372927804\n",
      "r2score_Qjt[135] 0.17811333410682084\n",
      "r2score_Qjt[136] 0.228359336053103\n"
     ]
    },
    {
     "name": "stdout",
     "output_type": "stream",
     "text": [
      "r2score_Qjt[137] 0.288315029447216\n",
      "r2score_Qjt[138] 0.27695906693944394\n",
      "r2score_Qjt[139] 0.2502929268592312\n",
      "r2score_Qjt[140] 0.24162087337206883\n",
      "r2score_Qjt[141] 0.2621249684576954\n",
      "r2score_Qjt[142] 0.23358397122145846\n",
      "r2score_Qjt[143] 0.28672450251065684\n",
      "r2score_Qjt[144] 0.22455537327331176\n",
      "r2score_Qjt[145] 0.21256074401937897\n",
      "r2score_Qjt[146] 0.41705012440937783\n",
      "r2score_Qjt[147] nan\n",
      "r2score_Qjt[148] nan\n",
      "r2score_Qjt[149] nan\n",
      "r2score_Qjt[150] 0.24977860125691453\n",
      "r2score_Qjt[151] 0.2988590520680876\n",
      "r2score_Qjt[152] 0.2669245326626978\n",
      "r2score_Qjt[153] 0.2560852281302476\n",
      "r2score_Qjt[154] 0.2585087168897534\n",
      "r2score_Qjt[155] 0.2669851399847285\n",
      "r2score_Qjt[156] 0.21546891121322942\n",
      "r2score_Qjt[157] 0.21033086028490589\n",
      "r2score_Qjt[158] 0.24575908615972242\n",
      "r2score_Qjt[159] -0.03247725399170576\n",
      "r2score_Qjt[160] nan\n",
      "r2score_Qjt[161] nan\n",
      "r2score_Qjt[162] 0.23632501335061973\n",
      "r2score_Qjt[163] -0.021884240377441078\n",
      "r2score_Qjt[164] 0.02774528046242153\n",
      "r2score_Qjt[165] 0.1391607058735037\n",
      "r2score_Qjt[166] 0.16925265810126244\n",
      "r2score_Qjt[167] 0.18115944628576297\n",
      "r2score_Qjt[168] 0.17300490926109513\n",
      "r2score_Qjt[169] 0.2334999262131564\n",
      "r2score_Qjt[170] 0.30796324782037743\n",
      "r2score_Qjt[171] 0.28085805328290714\n",
      "r2score_Qjt[172] 0.2976531470244964\n",
      "r2score_Qjt[173] 0.2639633914693076\n",
      "r2score_Qjt[174] 0.20744044510060156\n",
      "r2score_Qjt[175] 0.2740333919065463\n",
      "r2score_Qjt[176] 0.3164143379631542\n",
      "r2score_Qjt[177] 0.254747090039525\n",
      "r2score_Qjt[178] 0.26100132971234413\n",
      "r2score_Qjt[179] 0.49173966441778205\n",
      "r2score_Qjt[180] 0.37742323743342543\n",
      "r2score_Qjt[181] -0.04222645270068237\n",
      "r2score_Qjt[182] 0.15012586749799117\n",
      "r2score_Qjt[183] 0.19085277398354006\n",
      "r2score_Qjt[184] -0.14434270651550252\n",
      "r2score_Qjt[185] 0.22824796601410335\n",
      "r2score_Qjt[186] 0.13865873019074926\n",
      "r2score_Qjt[187] 0.24275263419327953\n",
      "r2score_Qjt[188] 0.15052909332850328\n",
      "r2score_Qjt[189] 0.2459693694897549\n",
      "r2score_Qjt[190] 0.22469872948532266\n",
      "r2score_Qjt[191] 0.30269936437451117\n",
      "r2score_Qjt[192] 0.3497880015959157\n",
      "r2score_Qjt[193] 0.30229118020369483\n",
      "r2score_Qjt[194] 0.30736987460912946\n",
      "r2score_Qjt[195] 0.22322743794190658\n",
      "r2score_Qjt[196] 0.27495455140309266\n",
      "r2score_Qjt[197] 0.31641544512717046\n",
      "r2score_Qjt[198] 0.24273191446339026\n",
      "r2score_Qjt[199] 0.2694661197558821\n",
      "r2score_Qjt[200] 0.2003464707073851\n",
      "r2score_Qjt[201] 0.2978766120202938\n",
      "r2score_Qjt[202] 0.13216786338924436\n",
      "r2score_Qjt[203] 0.1309319642366089\n",
      "r2score_Qjt[204] 0.0044999288875680055\n",
      "r2score_Qjt[205] 0.01162678501912473\n",
      "r2score_Qjt[206] 0.09341093165510184\n",
      "r2score_Qjt[207] 0.15121803499084385\n",
      "Info set: 1\n",
      "r2score_y 0.12516203179338858\n",
      "Treatment: 1\n",
      "r2score_Qjt[0] 0.13595806135769706\n",
      "r2score_Qjt[1] 0.3136763108529076\n",
      "r2score_Qjt[2] 0.2961612179497909\n",
      "r2score_Qjt[3] 0.2688196547740115\n",
      "r2score_Qjt[4] nan\n",
      "r2score_Qjt[5] 0.32612268333485306\n",
      "r2score_Qjt[6] nan\n",
      "r2score_Qjt[7] 0.22903890332754206\n",
      "r2score_Qjt[8] nan\n",
      "r2score_Qjt[9] 0.4006463223921809\n",
      "r2score_Qjt[10] 0.368046945319473\n",
      "r2score_Qjt[11] 0.3700293922826735\n",
      "r2score_Qjt[12] 0.48187534797579024\n",
      "r2score_Qjt[13] 0.40765009568877064\n",
      "r2score_Qjt[14] 0.38849499076170857\n",
      "r2score_Qjt[15] 0.4188448874742149\n",
      "r2score_Qjt[16] 0.2176500298601307\n",
      "r2score_Qjt[17] 0.42299517343252613\n",
      "r2score_Qjt[18] 0.41401005664952284\n",
      "r2score_Qjt[19] 0.47735432181225346\n",
      "r2score_Qjt[20] 0.45591623906815026\n",
      "r2score_Qjt[21] 0.29737778878760535\n",
      "r2score_Qjt[22] 0.4077775703337171\n",
      "r2score_Qjt[23] 0.43306856963434726\n",
      "r2score_Qjt[24] 0.4025455509117837\n",
      "r2score_Qjt[25] 0.29720753372090214\n",
      "r2score_Qjt[26] 0.4841989078795359\n",
      "r2score_Qjt[27] 0.24069823965586312\n",
      "r2score_Qjt[28] 0.4341365120126325\n",
      "r2score_Qjt[29] 0.4035724115649325\n",
      "r2score_Qjt[30] 0.40853439520659685\n",
      "r2score_Qjt[31] 0.3432814338349487\n",
      "r2score_Qjt[32] 0.413319354871711\n",
      "r2score_Qjt[33] 0.5533131398425076\n",
      "r2score_Qjt[34] 0.4500805807667074\n",
      "r2score_Qjt[35] 0.4077361632409512\n",
      "r2score_Qjt[36] 0.4015266323195724\n",
      "r2score_Qjt[37] 0.39845420431850864\n",
      "r2score_Qjt[38] 0.40380732913539064\n",
      "r2score_Qjt[39] 0.4380464160568446\n",
      "r2score_Qjt[40] 0.3931591081945054\n",
      "r2score_Qjt[41] 0.40595175768219327\n",
      "r2score_Qjt[42] 0.40175961678333627\n",
      "r2score_Qjt[43] 0.33441910637090466\n",
      "r2score_Qjt[44] 0.4584466327040595\n",
      "r2score_Qjt[45] -0.00010823693040662441\n",
      "r2score_Qjt[46] -0.0002164972937979126\n",
      "r2score_Qjt[47] 0.44256245238664493\n",
      "r2score_Qjt[48] 0.5161158367286691\n",
      "r2score_Qjt[49] 0.5005671581525458\n",
      "r2score_Qjt[50] 0.4690057632612121\n",
      "r2score_Qjt[51] 0.4250352742947411\n",
      "r2score_Qjt[52] 0.42747824993575845\n",
      "r2score_Qjt[53] 0.40515576005283527\n",
      "r2score_Qjt[54] 0.5299097835412498\n",
      "r2score_Qjt[55] 0.5468623879846002\n",
      "r2score_Qjt[56] 0.5902053305551638\n",
      "r2score_Qjt[57] -0.0002164972937979126\n",
      "r2score_Qjt[58] -0.00010823693040662441\n",
      "r2score_Qjt[59] 0.43448880960564973\n",
      "r2score_Qjt[60] -0.0023272141532229007\n",
      "r2score_Qjt[61] 0.7155624406760527\n",
      "r2score_Qjt[62] 0.568308213294751\n",
      "r2score_Qjt[63] 0.6341347322307821\n",
      "r2score_Qjt[64] 0.598563573718404\n",
      "r2score_Qjt[65] 0.55234012800579\n",
      "r2score_Qjt[66] 0.5036559171522376\n",
      "r2score_Qjt[67] 0.4602748583703862\n",
      "r2score_Qjt[68] 0.4660220944789062\n",
      "r2score_Qjt[69] 0.42288028789906806\n",
      "r2score_Qjt[70] 0.45565329291042067\n",
      "r2score_Qjt[71] 0.38655019953696357\n",
      "r2score_Qjt[72] 0.4922736810541374\n",
      "r2score_Qjt[73] 0.4947292095829282\n",
      "r2score_Qjt[74] 0.5711444338340049\n",
      "r2score_Qjt[75] 0.4964983156194106\n",
      "r2score_Qjt[76] 0.41528991204156085\n",
      "r2score_Qjt[77] 0.36045233609272154\n",
      "r2score_Qjt[78] 0.5766408139989008\n",
      "r2score_Qjt[79] 0.4646088880527608\n",
      "r2score_Qjt[80] 0.40129795217476294\n",
      "r2score_Qjt[81] 0.22000229841606955\n",
      "r2score_Qjt[82] 0.49037748924600855\n",
      "r2score_Qjt[83] 0.36191346812693126\n",
      "r2score_Qjt[84] 0.4121880532425545\n",
      "r2score_Qjt[85] 0.5647994742985427\n",
      "r2score_Qjt[86] 0.42818528183258453\n",
      "r2score_Qjt[87] 0.46549244315037797\n",
      "r2score_Qjt[88] 0.4264408495656987\n",
      "r2score_Qjt[89] 0.4363718767202436\n",
      "r2score_Qjt[90] 0.43198140816094166\n",
      "r2score_Qjt[91] 0.4176111325313837\n",
      "r2score_Qjt[92] 0.4128337706409858\n",
      "r2score_Qjt[93] 0.4816013747457649\n",
      "r2score_Qjt[94] 0.4507999517363416\n",
      "r2score_Qjt[95] 0.5478920742818871\n",
      "r2score_Qjt[96] 0.5266987840350366\n",
      "r2score_Qjt[97] 0.40726361397685906\n",
      "r2score_Qjt[98] 0.5493963745808295\n",
      "r2score_Qjt[99] 0.4906654747070367\n",
      "r2score_Qjt[100] 0.5160096953578797\n",
      "r2score_Qjt[101] 0.12559256127486684\n",
      "r2score_Qjt[102] 0.15431348723281346\n",
      "r2score_Qjt[103] 0.25643462853692023\n",
      "r2score_Qjt[104] 0.34226217380502744\n",
      "r2score_Qjt[105] 0.3264918684541357\n",
      "r2score_Qjt[106] 0.24917412264819694\n",
      "r2score_Qjt[107] nan\n",
      "r2score_Qjt[108] 0.3472018894709843\n",
      "r2score_Qjt[109] nan\n",
      "r2score_Qjt[110] 0.3298339136288949\n",
      "r2score_Qjt[111] nan\n",
      "r2score_Qjt[112] 0.3958993910792755\n",
      "r2score_Qjt[113] 0.34522574461358346\n",
      "r2score_Qjt[114] 0.3823305473656783\n",
      "r2score_Qjt[115] 0.440775385761637\n",
      "r2score_Qjt[116] 0.2966902177342464\n",
      "r2score_Qjt[117] 0.3143701190691476\n",
      "r2score_Qjt[118] 0.38751657590200916\n",
      "r2score_Qjt[119] 0.3316528859567154\n",
      "r2score_Qjt[120] 0.3399037856022308\n",
      "r2score_Qjt[121] 0.361000872209015\n",
      "r2score_Qjt[122] 0.4248081900938384\n",
      "r2score_Qjt[123] 0.36902114375467865\n",
      "r2score_Qjt[124] 0.3674585235733069\n",
      "r2score_Qjt[125] 0.3072783458174343\n",
      "r2score_Qjt[126] 0.3970142256328194\n",
      "r2score_Qjt[127] 0.39600147030021626\n",
      "r2score_Qjt[128] 0.35746811171390813\n",
      "r2score_Qjt[129] 0.4197201364829062\n",
      "r2score_Qjt[130] 0.34119182011520943\n",
      "r2score_Qjt[131] 0.3267795515803864\n",
      "r2score_Qjt[132] 0.39674297641336576\n",
      "r2score_Qjt[133] 0.4175133110275687\n",
      "r2score_Qjt[134] 0.3588445945700339\n",
      "r2score_Qjt[135] 0.4122836165615994\n",
      "r2score_Qjt[136] 0.5182931066684636\n",
      "r2score_Qjt[137] 0.4114961692929766\n",
      "r2score_Qjt[138] 0.36296645791216675\n",
      "r2score_Qjt[139] 0.35123752915593787\n",
      "r2score_Qjt[140] 0.3417053467750639\n",
      "r2score_Qjt[141] 0.33230609545259504\n",
      "r2score_Qjt[142] 0.364648857004112\n",
      "r2score_Qjt[143] 0.35311941511440115\n",
      "r2score_Qjt[144] 0.36998491105809694\n",
      "r2score_Qjt[145] 0.29075285239269766\n",
      "r2score_Qjt[146] 0.33441910637090466\n",
      "r2score_Qjt[147] 0.4584466327040595\n",
      "r2score_Qjt[148] -0.00010823693040662441\n",
      "r2score_Qjt[149] -0.0002164972937979126\n",
      "r2score_Qjt[150] 0.38485126485603294\n",
      "r2score_Qjt[151] 0.4450049187829843\n",
      "r2score_Qjt[152] 0.4483702317589915\n",
      "r2score_Qjt[153] 0.43728132703317657\n",
      "r2score_Qjt[154] 0.3885052905310322\n",
      "r2score_Qjt[155] 0.38296635069314156\n",
      "r2score_Qjt[156] 0.37695669348905725\n",
      "r2score_Qjt[157] 0.45519033915304064\n",
      "r2score_Qjt[158] 0.4561313557453659\n"
     ]
    },
    {
     "name": "stdout",
     "output_type": "stream",
     "text": [
      "r2score_Qjt[159] 0.4922552494271919\n",
      "r2score_Qjt[160] -0.0002164972937979126\n",
      "r2score_Qjt[161] -0.00010823693040662441\n",
      "r2score_Qjt[162] 0.39927074829692744\n",
      "r2score_Qjt[163] -0.0023272141532229007\n",
      "r2score_Qjt[164] 0.5212119429093671\n",
      "r2score_Qjt[165] 0.4371030873745152\n",
      "r2score_Qjt[166] 0.5537439547255225\n",
      "r2score_Qjt[167] 0.4880243888076814\n",
      "r2score_Qjt[168] 0.4750353259827679\n",
      "r2score_Qjt[169] 0.397376925787832\n",
      "r2score_Qjt[170] 0.39768273463657655\n",
      "r2score_Qjt[171] 0.40566932725836824\n",
      "r2score_Qjt[172] 0.3776622944563188\n",
      "r2score_Qjt[173] 0.3981298887014002\n",
      "r2score_Qjt[174] 0.38189277398879895\n",
      "r2score_Qjt[175] 0.4356251503808245\n",
      "r2score_Qjt[176] 0.4378581530742305\n",
      "r2score_Qjt[177] 0.5624064830586897\n",
      "r2score_Qjt[178] 0.43683067462530334\n",
      "r2score_Qjt[179] 0.2919319707315845\n",
      "r2score_Qjt[180] 0.2697362751983635\n",
      "r2score_Qjt[181] 0.5766408139989008\n",
      "r2score_Qjt[182] 0.40739786086214036\n",
      "r2score_Qjt[183] 0.39624778951321726\n",
      "r2score_Qjt[184] 0.22000229841606955\n",
      "r2score_Qjt[185] 0.46487983919793285\n",
      "r2score_Qjt[186] 0.35089103402066957\n",
      "r2score_Qjt[187] 0.2956692955794934\n",
      "r2score_Qjt[188] 0.5043870156073151\n",
      "r2score_Qjt[189] 0.3797432680839671\n",
      "r2score_Qjt[190] 0.373274266397042\n",
      "r2score_Qjt[191] 0.37786800217785266\n",
      "r2score_Qjt[192] 0.38873361265547257\n",
      "r2score_Qjt[193] 0.3618974049248742\n",
      "r2score_Qjt[194] 0.36245071887852165\n",
      "r2score_Qjt[195] 0.3950061793375341\n",
      "r2score_Qjt[196] 0.418044844102177\n",
      "r2score_Qjt[197] 0.39467803536784074\n",
      "r2score_Qjt[198] 0.46614900121745995\n",
      "r2score_Qjt[199] 0.4802465968753513\n",
      "r2score_Qjt[200] 0.2919493527508623\n",
      "r2score_Qjt[201] 0.5065964059014756\n",
      "r2score_Qjt[202] 0.4906654747070367\n",
      "r2score_Qjt[203] 0.4940949930605192\n",
      "r2score_Qjt[204] 0.3067046304162997\n",
      "r2score_Qjt[205] 0.3163914943645193\n",
      "r2score_Qjt[206] 0.34018456398168073\n",
      "r2score_Qjt[207] 0.37371517116231534\n"
     ]
    },
    {
     "data": {
      "text/plain": [
       "<snmm.SNMMDynamicDML at 0x25d00f5f7f0>"
      ]
     },
     "execution_count": 60,
     "metadata": {},
     "output_type": "execute_result"
    }
   ],
   "source": [
    "est.fit(X, T, y, pi)"
   ]
  },
  {
   "cell_type": "code",
   "execution_count": 61,
   "metadata": {},
   "outputs": [
    {
     "name": "stdout",
     "output_type": "stream",
     "text": [
      "(221.57430270872447, 3.2413373283635276)\n"
     ]
    }
   ],
   "source": [
    "print(est.policy_value_)"
   ]
  },
  {
   "cell_type": "code",
   "execution_count": 62,
   "metadata": {},
   "outputs": [
    {
     "name": "stdout",
     "output_type": "stream",
     "text": [
      "Period 0 effects [0.]\n"
     ]
    },
    {
     "data": {
      "text/html": [
       "<div>\n",
       "<style scoped>\n",
       "    .dataframe tbody tr th:only-of-type {\n",
       "        vertical-align: middle;\n",
       "    }\n",
       "\n",
       "    .dataframe tbody tr th {\n",
       "        vertical-align: top;\n",
       "    }\n",
       "\n",
       "    .dataframe thead th {\n",
       "        text-align: right;\n",
       "    }\n",
       "</style>\n",
       "<table border=\"1\" class=\"dataframe\">\n",
       "  <thead>\n",
       "    <tr style=\"text-align: right;\">\n",
       "      <th></th>\n",
       "      <th>point_estimate</th>\n",
       "      <th>stderr</th>\n",
       "      <th>zstat</th>\n",
       "      <th>pvalue</th>\n",
       "      <th>ci_lower</th>\n",
       "      <th>ci_upper</th>\n",
       "    </tr>\n",
       "    <tr>\n",
       "      <th>X</th>\n",
       "      <th></th>\n",
       "      <th></th>\n",
       "      <th></th>\n",
       "      <th></th>\n",
       "      <th></th>\n",
       "      <th></th>\n",
       "    </tr>\n",
       "  </thead>\n",
       "  <tbody>\n",
       "    <tr>\n",
       "      <th>t1[0]*mwearn</th>\n",
       "      <td>0.019</td>\n",
       "      <td>0.117</td>\n",
       "      <td>0.162</td>\n",
       "      <td>0.871</td>\n",
       "      <td>-0.174</td>\n",
       "      <td>0.212</td>\n",
       "    </tr>\n",
       "    <tr>\n",
       "      <th>t1[0]*age</th>\n",
       "      <td>0.811</td>\n",
       "      <td>27.263</td>\n",
       "      <td>0.030</td>\n",
       "      <td>0.976</td>\n",
       "      <td>-44.032</td>\n",
       "      <td>45.655</td>\n",
       "    </tr>\n",
       "  </tbody>\n",
       "</table>\n",
       "</div>"
      ],
      "text/plain": [
       "              point_estimate  stderr  zstat  pvalue  ci_lower  ci_upper\n",
       "X                                                                      \n",
       "t1[0]*mwearn           0.019   0.117  0.162   0.871    -0.174     0.212\n",
       "t1[0]*age              0.811  27.263  0.030   0.976   -44.032    45.655"
      ]
     },
     "metadata": {},
     "output_type": "display_data"
    },
    {
     "name": "stdout",
     "output_type": "stream",
     "text": [
      "Period 1 effects [0.]\n"
     ]
    },
    {
     "data": {
      "text/html": [
       "<div>\n",
       "<style scoped>\n",
       "    .dataframe tbody tr th:only-of-type {\n",
       "        vertical-align: middle;\n",
       "    }\n",
       "\n",
       "    .dataframe tbody tr th {\n",
       "        vertical-align: top;\n",
       "    }\n",
       "\n",
       "    .dataframe thead th {\n",
       "        text-align: right;\n",
       "    }\n",
       "</style>\n",
       "<table border=\"1\" class=\"dataframe\">\n",
       "  <thead>\n",
       "    <tr style=\"text-align: right;\">\n",
       "      <th></th>\n",
       "      <th>point_estimate</th>\n",
       "      <th>stderr</th>\n",
       "      <th>zstat</th>\n",
       "      <th>pvalue</th>\n",
       "      <th>ci_lower</th>\n",
       "      <th>ci_upper</th>\n",
       "    </tr>\n",
       "    <tr>\n",
       "      <th>X</th>\n",
       "      <th></th>\n",
       "      <th></th>\n",
       "      <th></th>\n",
       "      <th></th>\n",
       "      <th></th>\n",
       "      <th></th>\n",
       "    </tr>\n",
       "  </thead>\n",
       "  <tbody>\n",
       "    <tr>\n",
       "      <th>t2[0]*x2[earnq4]</th>\n",
       "      <td>0.038</td>\n",
       "      <td>0.137</td>\n",
       "      <td>0.279</td>\n",
       "      <td>0.780</td>\n",
       "      <td>-0.188</td>\n",
       "      <td>0.264</td>\n",
       "    </tr>\n",
       "    <tr>\n",
       "      <th>t2[0]*x1[mwearn]</th>\n",
       "      <td>0.081</td>\n",
       "      <td>0.081</td>\n",
       "      <td>0.994</td>\n",
       "      <td>0.320</td>\n",
       "      <td>-0.053</td>\n",
       "      <td>0.214</td>\n",
       "    </tr>\n",
       "    <tr>\n",
       "      <th>t2[0]*x1[age]</th>\n",
       "      <td>0.801</td>\n",
       "      <td>16.426</td>\n",
       "      <td>0.049</td>\n",
       "      <td>0.961</td>\n",
       "      <td>-26.217</td>\n",
       "      <td>27.820</td>\n",
       "    </tr>\n",
       "    <tr>\n",
       "      <th>t2[0]*t1[0]*earnq4</th>\n",
       "      <td>-0.039</td>\n",
       "      <td>0.137</td>\n",
       "      <td>-0.283</td>\n",
       "      <td>0.777</td>\n",
       "      <td>-0.264</td>\n",
       "      <td>0.187</td>\n",
       "    </tr>\n",
       "    <tr>\n",
       "      <th>t2[0]*t1[0]*pworky1</th>\n",
       "      <td>-0.074</td>\n",
       "      <td>0.401</td>\n",
       "      <td>-0.185</td>\n",
       "      <td>0.853</td>\n",
       "      <td>-0.734</td>\n",
       "      <td>0.585</td>\n",
       "    </tr>\n",
       "    <tr>\n",
       "      <th>t2[0*t10*mwearn</th>\n",
       "      <td>0.075</td>\n",
       "      <td>0.104</td>\n",
       "      <td>0.721</td>\n",
       "      <td>0.471</td>\n",
       "      <td>-0.096</td>\n",
       "      <td>0.247</td>\n",
       "    </tr>\n",
       "  </tbody>\n",
       "</table>\n",
       "</div>"
      ],
      "text/plain": [
       "                     point_estimate  stderr  zstat  pvalue  ci_lower  ci_upper\n",
       "X                                                                             \n",
       "t2[0]*x2[earnq4]              0.038   0.137  0.279   0.780    -0.188     0.264\n",
       "t2[0]*x1[mwearn]              0.081   0.081  0.994   0.320    -0.053     0.214\n",
       "t2[0]*x1[age]                 0.801  16.426  0.049   0.961   -26.217    27.820\n",
       "t2[0]*t1[0]*earnq4           -0.039   0.137 -0.283   0.777    -0.264     0.187\n",
       "t2[0]*t1[0]*pworky1          -0.074   0.401 -0.185   0.853    -0.734     0.585\n",
       "t2[0*t10*mwearn               0.075   0.104  0.721   0.471    -0.096     0.247"
      ]
     },
     "metadata": {},
     "output_type": "display_data"
    }
   ],
   "source": [
    "sig = {}\n",
    "for t in range(m):\n",
    "    print(f'Period {t} effects {true_effect_params[t]}')\n",
    "    with pd.option_context(\"precision\", 3):\n",
    "        sig[t] = np.abs(est.psi_[t]) > 0.01\n",
    "        display(est.param_summary(t, coef_thr=0.01).summary_frame())"
   ]
  },
  {
   "cell_type": "markdown",
   "metadata": {},
   "source": [
    "### Post Selection Inference (not unbiased): Low Dimensional Blip Model"
   ]
  },
  {
   "cell_type": "code",
   "execution_count": 63,
   "metadata": {},
   "outputs": [],
   "source": [
    "def phi_sub(t, X, T, Tt):\n",
    "    return phi(t, X, T, Tt)[:, sig[t]]\n",
    "\n",
    "def phi_names_sub(t):\n",
    "    return np.array(phi_names(t))[sig[t]]"
   ]
  },
  {
   "cell_type": "code",
   "execution_count": 64,
   "metadata": {},
   "outputs": [],
   "source": [
    "from sklearn.linear_model import LinearRegression\n",
    "\n",
    "est_sub = SNMMDynamicDML(m=m, phi=phi_sub, phi_names_fn=phi_names_sub,\n",
    "                         model_reg_fn=lambda X, y: get_model_reg(X, y, degrees=[1]),\n",
    "                         model_final_fn=lambda: LinearRegression())"
   ]
  },
  {
   "cell_type": "code",
   "execution_count": null,
   "metadata": {
    "scrolled": true
   },
   "outputs": [
    {
     "name": "stdout",
     "output_type": "stream",
     "text": [
      "Info set: 0\n",
      "r2score_y 0.0829682916963187\n",
      "Treatment: 0\n",
      "r2score_Qjt[0] 0.6492675525205862\n",
      "r2score_Qjt[1] 0.021110672573726563\n",
      "Treatment: 1\n",
      "r2score_Qjt[0] 0.06768939329597345\n",
      "r2score_Qjt[1] 0.4949255264452219\n",
      "r2score_Qjt[2] 0.07254934238655486\n",
      "r2score_Qjt[3] 0.01772351088664581\n",
      "r2score_Qjt[4] 0.010684422681502936\n",
      "r2score_Qjt[5] 0.2617099511775176\n",
      "Info set: 1\n",
      "r2score_y 0.12929622968264798\n",
      "Treatment: 1\n",
      "r2score_Qjt[0] 0.2868251488041934\n",
      "r2score_Qjt[1] 0.4557269491560417\n",
      "r2score_Qjt[2] 0.14155667202906397\n"
     ]
    }
   ],
   "source": [
    "est_sub.fit(X, T, y, pi)"
   ]
  },
  {
   "cell_type": "code",
   "execution_count": null,
   "metadata": {},
   "outputs": [],
   "source": [
    "print(est_sub.policy_value_)"
   ]
  },
  {
   "cell_type": "code",
   "execution_count": null,
   "metadata": {},
   "outputs": [],
   "source": [
    "for t in range(m):\n",
    "    print(f'Period {t} effects {true_effect_params[t]}')\n",
    "    with pd.option_context(\"precision\", 3):\n",
    "        display(est_sub.param_summary(t).summary_frame())"
   ]
  },
  {
   "cell_type": "markdown",
   "metadata": {},
   "source": [
    "### Policy Delta compared to all zero\n",
    "\n",
    "For simple phi, where the structural parameters don't change dependent on the target, we can do sth very simple"
   ]
  },
  {
   "cell_type": "code",
   "execution_count": null,
   "metadata": {},
   "outputs": [],
   "source": [
    "print(est_sub.policy_delta_simple_)"
   ]
  },
  {
   "cell_type": "markdown",
   "metadata": {},
   "source": [
    "### For complex phi we need to re-run the estimation for base"
   ]
  },
  {
   "cell_type": "code",
   "execution_count": null,
   "metadata": {},
   "outputs": [],
   "source": [
    "est_sub.fit_base()"
   ]
  },
  {
   "cell_type": "code",
   "execution_count": null,
   "metadata": {},
   "outputs": [],
   "source": [
    "deltapi, deltapierr = est_sub.policy_delta_complex()"
   ]
  },
  {
   "cell_type": "code",
   "execution_count": null,
   "metadata": {},
   "outputs": [],
   "source": [
    "print(deltapi, deltapierr)"
   ]
  },
  {
   "cell_type": "markdown",
   "metadata": {},
   "source": [
    "### Optimal Dynamic Policy"
   ]
  },
  {
   "cell_type": "code",
   "execution_count": null,
   "metadata": {},
   "outputs": [],
   "source": [
    "est_sub.fit_opt(X, T, y)"
   ]
  },
  {
   "cell_type": "code",
   "execution_count": null,
   "metadata": {},
   "outputs": [],
   "source": [
    "print(est_sub.opt_policy_delta_simple_)"
   ]
  },
  {
   "cell_type": "code",
   "execution_count": null,
   "metadata": {},
   "outputs": [],
   "source": [
    "print(est_sub.opt_policy_delta_complex())"
   ]
  },
  {
   "cell_type": "code",
   "execution_count": null,
   "metadata": {},
   "outputs": [],
   "source": [
    "for t in range(m):\n",
    "    print(f'Period {t} effects {true_effect_params[t]}')\n",
    "    with pd.option_context(\"precision\", 3):\n",
    "        display(est_sub.opt_param_summary(t).summary_frame())"
   ]
  },
  {
   "cell_type": "markdown",
   "metadata": {},
   "source": [
    "# Non-Parametric Heterogeneity"
   ]
  },
  {
   "cell_type": "code",
   "execution_count": 32,
   "metadata": {},
   "outputs": [],
   "source": [
    "# model_reg_fn = lambda X, y: get_model_reg(X, y, degrees=[1])\n",
    "# multimodel_reg_fn = lambda X, y: get_multimodel_reg(X, y, degrees=[1])\n",
    "# model_reg_fn = get_linear_model_reg\n",
    "# multimodel_reg_fn = get_linear_multimodel_reg\n",
    "model_reg_fn = lambda X, y: get_poly_model_reg(X, y, degree=1, interaction_only=False)\n",
    "multimodel_reg_fn = lambda X, y: get_poly_multimodel_reg(X, y, degree=1, interaction_only=True)"
   ]
  },
  {
   "cell_type": "code",
   "execution_count": 33,
   "metadata": {},
   "outputs": [],
   "source": [
    "def phi(t, X, T, Tt):\n",
    "    if t == 1:\n",
    "        return np.hstack([Tt, cross_product(Tt, T[t-1])])\n",
    "    elif t==0:\n",
    "        return np.hstack([Tt])\n",
    "    raise AttributeError(\"Not valid\")\n",
    "\n",
    "def phi_names(t):\n",
    "    if t == 1:\n",
    "        return ([f't2[{x}]' for x in range(T[1].shape[1])] +\n",
    "                [f't2[{x}]*t1[{y}]' for y in range(T[0].shape[1]) for x in range(T[1].shape[1])])\n",
    "    elif t == 0:\n",
    "        return [f't1[{x}]' for x in range(T[1].shape[1])]\n",
    "    raise AttributeError(\"Not valid\")\n",
    "\n",
    "def pi(t, X, T):\n",
    "    return np.ones(T[t].shape)"
   ]
  },
  {
   "cell_type": "code",
   "execution_count": 34,
   "metadata": {},
   "outputs": [],
   "source": [
    "from snmm import fit_heterogeneous_final, LinearModelFinal\n",
    "from econml.grf import CausalForest\n",
    "from sklearn.linear_model import LinearRegression\n",
    "from econml.sklearn_extensions.linear_model import StatsModelsLinearRegression\n",
    "\n",
    "cf_gen = lambda: CausalForest(n_estimators=1000,\n",
    "                              max_depth=3,\n",
    "                              min_samples_leaf=50,\n",
    "                              min_var_fraction_leaf=0.1,\n",
    "                              min_var_leaf_on_val=True)"
   ]
  },
  {
   "cell_type": "code",
   "execution_count": 35,
   "metadata": {},
   "outputs": [],
   "source": [
    "from snmm import HeteroSNMMDynamicDML\n",
    "\n",
    "het_est = HeteroSNMMDynamicDML(m=m, phi=phi, phi_names_fn=phi_names,\n",
    "                               model_reg_fn=lambda X, y: get_model_reg(X, y, degrees=[1]),\n",
    "                               model_final_fn=cf_gen)"
   ]
  },
  {
   "cell_type": "code",
   "execution_count": 36,
   "metadata": {},
   "outputs": [
    {
     "name": "stdout",
     "output_type": "stream",
     "text": [
      "Info set: 0\n",
      "r2score_y 0.0829682916963187\n",
      "Treatment: 0\n",
      "r2score_Qjt[0] 0.049637293496599066\n",
      "Treatment: 1\n",
      "r2score_Qjt[0] 0.03845978836274733\n",
      "r2score_Qjt[1] 0.004596208664351176\n",
      "Info set: 1\n",
      "r2score_y 0.12929622968264798\n",
      "Treatment: 1\n",
      "r2score_Qjt[0] 0.1484579584993989\n",
      "r2score_Qjt[1] 0.32928847449388166\n"
     ]
    },
    {
     "data": {
      "text/plain": [
       "<snmm.HeteroSNMMDynamicDML at 0x25d00ffa4f0>"
      ]
     },
     "execution_count": 36,
     "metadata": {},
     "output_type": "execute_result"
    }
   ],
   "source": [
    "het_est.fit(X, T, y, pi)"
   ]
  },
  {
   "cell_type": "code",
   "execution_count": 37,
   "metadata": {},
   "outputs": [
    {
     "name": "stdout",
     "output_type": "stream",
     "text": [
      "(224.64026100365328, 4.256066341504719)\n"
     ]
    }
   ],
   "source": [
    "print(het_est.policy_value_)"
   ]
  },
  {
   "cell_type": "code",
   "execution_count": 38,
   "metadata": {},
   "outputs": [
    {
     "name": "stdout",
     "output_type": "stream",
     "text": [
      "(40.2300764746757, 8.394883749979765)\n"
     ]
    }
   ],
   "source": [
    "print(het_est.policy_delta_simple_)"
   ]
  },
  {
   "cell_type": "code",
   "execution_count": 39,
   "metadata": {
    "scrolled": false
   },
   "outputs": [
    {
     "data": {
      "image/png": "[encoded data removed]",
      "text/plain": [
       "<Figure size 360x360 with 1 Axes>"
      ]
     },
     "metadata": {
      "needs_background": "light"
     },
     "output_type": "display_data"
    },
    {
     "data": {
      "image/png": "[encoded data removed]",
      "text/plain": [
       "<Figure size 360x360 with 1 Axes>"
      ]
     },
     "metadata": {
      "needs_background": "light"
     },
     "output_type": "display_data"
    }
   ],
   "source": [
    "import seaborn as sns\n",
    "if hasattr(het_est.models_[0], 'feature_importances_'):\n",
    "    for t in range(m):\n",
    "        impdf = het_est.feature_importances_(t)\n",
    "        plt.figure(figsize=(5, 5))\n",
    "        sns.barplot(y=impdf['name'], x=impdf['importance'])\n",
    "        plt.show()"
   ]
  },
  {
   "cell_type": "code",
   "execution_count": 40,
   "metadata": {},
   "outputs": [
    {
     "data": {
      "image/png": "[encoded data removed]",
      "text/plain": [
       "<Figure size 576x684 with 2 Axes>"
      ]
     },
     "metadata": {
      "needs_background": "light"
     },
     "output_type": "display_data"
    },
    {
     "data": {
      "image/png": "[encoded data removed]",
      "text/plain": [
       "<Figure size 576x684 with 1 Axes>"
      ]
     },
     "metadata": {
      "needs_background": "light"
     },
     "output_type": "display_data"
    }
   ],
   "source": [
    "import shap\n",
    "if hasattr(het_est.models_[0], 'feature_importances_'):\n",
    "    for t in range(m):\n",
    "        exp = shap.Explainer(het_est.models_[t])\n",
    "        shap_values = exp.shap_values(X['het'])\n",
    "        shap.summary_plot(shap_values, X['het'])"
   ]
  },
  {
   "cell_type": "markdown",
   "metadata": {},
   "source": [
    "### Fit value of baseline policy, for delta estimation"
   ]
  },
  {
   "cell_type": "code",
   "execution_count": 205,
   "metadata": {},
   "outputs": [
    {
     "name": "stdout",
     "output_type": "stream",
     "text": [
      "Info set: 0\n",
      "model_y: Pipeline(steps=[('poly', PolynomialFeatures(degree=1, include_bias=False)),\n",
      "                ('sc', StandardScaler()),\n",
      "                ('ls', Lasso(alpha=0.02991421408528289))])\n",
      "r2score_y 0.019178024291191087\n",
      "Treatment: 0\n",
      "model_Qjt[0]: Pipeline(steps=[('poly', PolynomialFeatures(degree=1, include_bias=False)),\n",
      "                ('sc', StandardScaler()),\n",
      "                ('ls', Lasso(alpha=0.00651756134560545))])\n",
      "r2score_Qjt[0] 0.9399206888468453\n",
      "Treatment: 1\n",
      "model_Qjt[0]: Pipeline(steps=[('poly', PolynomialFeatures(degree=1, include_bias=False)),\n",
      "                ('sc', StandardScaler()),\n",
      "                ('ls', Lasso(alpha=0.020948299622714328))])\n",
      "r2score_Qjt[0] 0.029506487910945123\n",
      "Info set: 1\n",
      "model_y: Pipeline(steps=[('poly', PolynomialFeatures(degree=1, include_bias=False)),\n",
      "                ('sc', StandardScaler()),\n",
      "                ('ls', Lasso(alpha=0.018986811750133677))])\n",
      "r2score_y 0.9271958530771578\n",
      "Treatment: 1\n",
      "model_Qjt[0]: Pipeline(steps=[('poly', PolynomialFeatures(degree=1, include_bias=False)),\n",
      "                ('sc', StandardScaler()),\n",
      "                ('ls', Lasso(alpha=0.017538451789103123))])\n",
      "r2score_Qjt[0] 0.9494611686877417\n"
     ]
    },
    {
     "data": {
      "text/plain": [
       "<snmm.HeteroSNMMDynamicDML at 0x1d3141ddd90>"
      ]
     },
     "execution_count": 205,
     "metadata": {},
     "output_type": "execute_result"
    }
   ],
   "source": [
    "het_est.fit_base()"
   ]
  },
  {
   "cell_type": "code",
   "execution_count": 206,
   "metadata": {},
   "outputs": [
    {
     "name": "stdout",
     "output_type": "stream",
     "text": [
      "(0.014049487193494222, 0.1257650517802176)\n"
     ]
    }
   ],
   "source": [
    "print(het_est.policy_delta_complex())"
   ]
  },
  {
   "cell_type": "markdown",
   "metadata": {},
   "source": [
    "### Optimal Dynamic Policy"
   ]
  },
  {
   "cell_type": "code",
   "execution_count": 41,
   "metadata": {},
   "outputs": [
    {
     "name": "stdout",
     "output_type": "stream",
     "text": [
      "Info set: 1\n",
      "Treatment: 1\n",
      "r2score_Qjt[0] 0.14842585443480238\n",
      "r2score_Qjt[1] 0.32915567691338377\n",
      "Info set: 0\n",
      "Treatment: 0\n",
      "r2score_Qjt[0] 0.049637293496599066\n",
      "Treatment: 1\n",
      "r2score_Qjt[0] 0.03828985822380915\n",
      "r2score_Qjt[1] 0.004027405049432997\n"
     ]
    },
    {
     "data": {
      "text/plain": [
       "<snmm.HeteroSNMMDynamicDML at 0x25d00ffa4f0>"
      ]
     },
     "execution_count": 41,
     "metadata": {},
     "output_type": "execute_result"
    }
   ],
   "source": [
    "het_est.fit_opt(X, T, y)"
   ]
  },
  {
   "cell_type": "code",
   "execution_count": 42,
   "metadata": {},
   "outputs": [
    {
     "data": {
      "text/plain": [
       "array([[1],\n",
       "       [1],\n",
       "       [1],\n",
       "       [1],\n",
       "       [1],\n",
       "       [1],\n",
       "       [1],\n",
       "       [1],\n",
       "       [1],\n",
       "       [1]], dtype=int64)"
      ]
     },
     "execution_count": 42,
     "metadata": {},
     "output_type": "execute_result"
    }
   ],
   "source": [
    "het_est.pi_star(1, X, T)[:10]"
   ]
  },
  {
   "cell_type": "code",
   "execution_count": 43,
   "metadata": {},
   "outputs": [],
   "source": [
    "if hasattr(het_est.models_[0], 'linear_model'):\n",
    "    for t in range(m):\n",
    "        print(f'Period {t} effects {true_effect_params[t]}')\n",
    "        display(het_est.opt_param_summary(t).summary_frame())"
   ]
  },
  {
   "cell_type": "code",
   "execution_count": 44,
   "metadata": {},
   "outputs": [
    {
     "data": {
      "image/png": "[encoded data removed]",
      "text/plain": [
       "<Figure size 360x360 with 1 Axes>"
      ]
     },
     "metadata": {
      "needs_background": "light"
     },
     "output_type": "display_data"
    },
    {
     "data": {
      "image/png": "[encoded data removed]",
      "text/plain": [
       "<Figure size 360x360 with 1 Axes>"
      ]
     },
     "metadata": {
      "needs_background": "light"
     },
     "output_type": "display_data"
    }
   ],
   "source": [
    "import seaborn as sns\n",
    "if hasattr(het_est.opt_models_[0], 'feature_importances_'):\n",
    "    for t in range(m):\n",
    "        impdf = het_est.opt_feature_importances_(t)\n",
    "        plt.figure(figsize=(5, 5))\n",
    "        sns.barplot(y=impdf['name'], x=impdf['importance'])\n",
    "        plt.show()"
   ]
  },
  {
   "cell_type": "code",
   "execution_count": 45,
   "metadata": {},
   "outputs": [
    {
     "data": {
      "image/png": "[encoded data removed]",
      "text/plain": [
       "<Figure size 576x684 with 2 Axes>"
      ]
     },
     "metadata": {
      "needs_background": "light"
     },
     "output_type": "display_data"
    },
    {
     "data": {
      "image/png": "[encoded data removed]",
      "text/plain": [
       "<Figure size 576x684 with 1 Axes>"
      ]
     },
     "metadata": {
      "needs_background": "light"
     },
     "output_type": "display_data"
    }
   ],
   "source": [
    "import shap\n",
    "if hasattr(het_est.opt_models_[0], 'feature_importances_'):\n",
    "    for t in range(m):\n",
    "        exp = shap.Explainer(het_est.opt_models_[t])\n",
    "        shap_values = exp.shap_values(X['het'])\n",
    "        shap.summary_plot(shap_values, X['het'])"
   ]
  },
  {
   "cell_type": "code",
   "execution_count": 46,
   "metadata": {},
   "outputs": [
    {
     "name": "stdout",
     "output_type": "stream",
     "text": [
      "(224.99619668984099, 4.401483786083284)\n"
     ]
    }
   ],
   "source": [
    "print(het_est.opt_policy_value_)"
   ]
  },
  {
   "cell_type": "code",
   "execution_count": 47,
   "metadata": {},
   "outputs": [
    {
     "name": "stdout",
     "output_type": "stream",
     "text": [
      "(41.61272339840795, 8.768344682691867)\n"
     ]
    }
   ],
   "source": [
    "print(het_est.opt_policy_delta_simple_)"
   ]
  },
  {
   "cell_type": "code",
   "execution_count": null,
   "metadata": {},
   "outputs": [],
   "source": [
    "print(het_est.opt_policy_delta_complex())"
   ]
  },
  {
   "cell_type": "markdown",
   "metadata": {},
   "source": [
    "### Linear model of heterogeneity"
   ]
  },
  {
   "cell_type": "code",
   "execution_count": 54,
   "metadata": {},
   "outputs": [],
   "source": [
    "# linear_gen = lambda: LinearModelFinal(StatsModelsLinearRegression(fit_intercept=False),\n",
    "#                                       lambda x: x)\n",
    "linear_gen = lambda: LinearModelFinal(LassoCV(fit_intercept=False),\n",
    "                                  lambda x: x)\n",
    "het_est.model_final_fn = linear_gen"
   ]
  },
  {
   "cell_type": "code",
   "execution_count": 55,
   "metadata": {},
   "outputs": [
    {
     "data": {
      "text/plain": [
       "<snmm.HeteroSNMMDynamicDML at 0x25d00ffa4f0>"
      ]
     },
     "execution_count": 55,
     "metadata": {},
     "output_type": "execute_result"
    }
   ],
   "source": [
    "het_est.fit_final()"
   ]
  },
  {
   "cell_type": "code",
   "execution_count": 56,
   "metadata": {
    "scrolled": false
   },
   "outputs": [
    {
     "name": "stdout",
     "output_type": "stream",
     "text": [
      "Period 0 effects [0.]\n"
     ]
    },
    {
     "data": {
      "text/html": [
       "<div>\n",
       "<style scoped>\n",
       "    .dataframe tbody tr th:only-of-type {\n",
       "        vertical-align: middle;\n",
       "    }\n",
       "\n",
       "    .dataframe tbody tr th {\n",
       "        vertical-align: top;\n",
       "    }\n",
       "\n",
       "    .dataframe thead th {\n",
       "        text-align: right;\n",
       "    }\n",
       "</style>\n",
       "<table border=\"1\" class=\"dataframe\">\n",
       "  <thead>\n",
       "    <tr style=\"text-align: right;\">\n",
       "      <th></th>\n",
       "      <th>point_estimate</th>\n",
       "      <th>stderr</th>\n",
       "      <th>zstat</th>\n",
       "      <th>pvalue</th>\n",
       "      <th>ci_lower</th>\n",
       "      <th>ci_upper</th>\n",
       "    </tr>\n",
       "    <tr>\n",
       "      <th>X</th>\n",
       "      <th></th>\n",
       "      <th></th>\n",
       "      <th></th>\n",
       "      <th></th>\n",
       "      <th></th>\n",
       "      <th></th>\n",
       "    </tr>\n",
       "  </thead>\n",
       "  <tbody>\n",
       "    <tr>\n",
       "      <th>t1[0]*1</th>\n",
       "      <td>0.000</td>\n",
       "      <td>0.0</td>\n",
       "      <td>NaN</td>\n",
       "      <td>NaN</td>\n",
       "      <td>0.000</td>\n",
       "      <td>0.000</td>\n",
       "    </tr>\n",
       "    <tr>\n",
       "      <th>t1[0]*female</th>\n",
       "      <td>0.000</td>\n",
       "      <td>0.0</td>\n",
       "      <td>NaN</td>\n",
       "      <td>NaN</td>\n",
       "      <td>0.000</td>\n",
       "      <td>0.000</td>\n",
       "    </tr>\n",
       "    <tr>\n",
       "      <th>t1[0]*age</th>\n",
       "      <td>1.088</td>\n",
       "      <td>0.0</td>\n",
       "      <td>inf</td>\n",
       "      <td>0.0</td>\n",
       "      <td>1.088</td>\n",
       "      <td>1.088</td>\n",
       "    </tr>\n",
       "    <tr>\n",
       "      <th>t1[0]*white</th>\n",
       "      <td>-0.000</td>\n",
       "      <td>0.0</td>\n",
       "      <td>NaN</td>\n",
       "      <td>NaN</td>\n",
       "      <td>-0.000</td>\n",
       "      <td>-0.000</td>\n",
       "    </tr>\n",
       "    <tr>\n",
       "      <th>t1[0]*black</th>\n",
       "      <td>0.000</td>\n",
       "      <td>0.0</td>\n",
       "      <td>NaN</td>\n",
       "      <td>NaN</td>\n",
       "      <td>0.000</td>\n",
       "      <td>0.000</td>\n",
       "    </tr>\n",
       "    <tr>\n",
       "      <th>t1[0]*hispanic</th>\n",
       "      <td>-0.000</td>\n",
       "      <td>0.0</td>\n",
       "      <td>NaN</td>\n",
       "      <td>NaN</td>\n",
       "      <td>-0.000</td>\n",
       "      <td>-0.000</td>\n",
       "    </tr>\n",
       "    <tr>\n",
       "      <th>t1[0]*educ</th>\n",
       "      <td>0.000</td>\n",
       "      <td>0.0</td>\n",
       "      <td>NaN</td>\n",
       "      <td>NaN</td>\n",
       "      <td>0.000</td>\n",
       "      <td>0.000</td>\n",
       "    </tr>\n",
       "    <tr>\n",
       "      <th>t1[0]*educmis</th>\n",
       "      <td>-0.000</td>\n",
       "      <td>0.0</td>\n",
       "      <td>NaN</td>\n",
       "      <td>NaN</td>\n",
       "      <td>-0.000</td>\n",
       "      <td>-0.000</td>\n",
       "    </tr>\n",
       "    <tr>\n",
       "      <th>t1[0]*geddegree</th>\n",
       "      <td>-0.000</td>\n",
       "      <td>0.0</td>\n",
       "      <td>NaN</td>\n",
       "      <td>NaN</td>\n",
       "      <td>-0.000</td>\n",
       "      <td>-0.000</td>\n",
       "    </tr>\n",
       "    <tr>\n",
       "      <th>t1[0]*hsdegree</th>\n",
       "      <td>0.000</td>\n",
       "      <td>0.0</td>\n",
       "      <td>NaN</td>\n",
       "      <td>NaN</td>\n",
       "      <td>0.000</td>\n",
       "      <td>0.000</td>\n",
       "    </tr>\n",
       "    <tr>\n",
       "      <th>t1[0]*english</th>\n",
       "      <td>0.000</td>\n",
       "      <td>0.0</td>\n",
       "      <td>NaN</td>\n",
       "      <td>NaN</td>\n",
       "      <td>0.000</td>\n",
       "      <td>0.000</td>\n",
       "    </tr>\n",
       "    <tr>\n",
       "      <th>t1[0]*cohabmarried</th>\n",
       "      <td>0.000</td>\n",
       "      <td>0.0</td>\n",
       "      <td>NaN</td>\n",
       "      <td>NaN</td>\n",
       "      <td>0.000</td>\n",
       "      <td>0.000</td>\n",
       "    </tr>\n",
       "    <tr>\n",
       "      <th>t1[0]*haschild</th>\n",
       "      <td>0.000</td>\n",
       "      <td>0.0</td>\n",
       "      <td>NaN</td>\n",
       "      <td>NaN</td>\n",
       "      <td>0.000</td>\n",
       "      <td>0.000</td>\n",
       "    </tr>\n",
       "    <tr>\n",
       "      <th>t1[0]*everwkd</th>\n",
       "      <td>-0.000</td>\n",
       "      <td>0.0</td>\n",
       "      <td>NaN</td>\n",
       "      <td>NaN</td>\n",
       "      <td>-0.000</td>\n",
       "      <td>-0.000</td>\n",
       "    </tr>\n",
       "    <tr>\n",
       "      <th>t1[0]*mwearn</th>\n",
       "      <td>0.097</td>\n",
       "      <td>0.0</td>\n",
       "      <td>inf</td>\n",
       "      <td>0.0</td>\n",
       "      <td>0.097</td>\n",
       "      <td>0.097</td>\n",
       "    </tr>\n",
       "    <tr>\n",
       "      <th>t1[0]*hhsize</th>\n",
       "      <td>0.000</td>\n",
       "      <td>0.0</td>\n",
       "      <td>NaN</td>\n",
       "      <td>NaN</td>\n",
       "      <td>0.000</td>\n",
       "      <td>0.000</td>\n",
       "    </tr>\n",
       "    <tr>\n",
       "      <th>t1[0]*hhsizemis</th>\n",
       "      <td>-0.000</td>\n",
       "      <td>0.0</td>\n",
       "      <td>NaN</td>\n",
       "      <td>NaN</td>\n",
       "      <td>-0.000</td>\n",
       "      <td>-0.000</td>\n",
       "    </tr>\n",
       "    <tr>\n",
       "      <th>t1[0]*educmum</th>\n",
       "      <td>0.000</td>\n",
       "      <td>0.0</td>\n",
       "      <td>NaN</td>\n",
       "      <td>NaN</td>\n",
       "      <td>0.000</td>\n",
       "      <td>0.000</td>\n",
       "    </tr>\n",
       "    <tr>\n",
       "      <th>t1[0]*educmummis</th>\n",
       "      <td>-0.000</td>\n",
       "      <td>0.0</td>\n",
       "      <td>NaN</td>\n",
       "      <td>NaN</td>\n",
       "      <td>-0.000</td>\n",
       "      <td>-0.000</td>\n",
       "    </tr>\n",
       "    <tr>\n",
       "      <th>t1[0]*educdad</th>\n",
       "      <td>0.000</td>\n",
       "      <td>0.0</td>\n",
       "      <td>NaN</td>\n",
       "      <td>NaN</td>\n",
       "      <td>0.000</td>\n",
       "      <td>0.000</td>\n",
       "    </tr>\n",
       "    <tr>\n",
       "      <th>t1[0]*educdadmis</th>\n",
       "      <td>-0.000</td>\n",
       "      <td>0.0</td>\n",
       "      <td>NaN</td>\n",
       "      <td>NaN</td>\n",
       "      <td>-0.000</td>\n",
       "      <td>-0.000</td>\n",
       "    </tr>\n",
       "    <tr>\n",
       "      <th>t1[0]*welfarechild</th>\n",
       "      <td>0.000</td>\n",
       "      <td>0.0</td>\n",
       "      <td>NaN</td>\n",
       "      <td>NaN</td>\n",
       "      <td>0.000</td>\n",
       "      <td>0.000</td>\n",
       "    </tr>\n",
       "    <tr>\n",
       "      <th>t1[0]*welfarechildmis</th>\n",
       "      <td>-0.000</td>\n",
       "      <td>0.0</td>\n",
       "      <td>NaN</td>\n",
       "      <td>NaN</td>\n",
       "      <td>-0.000</td>\n",
       "      <td>-0.000</td>\n",
       "    </tr>\n",
       "    <tr>\n",
       "      <th>t1[0]*health</th>\n",
       "      <td>0.000</td>\n",
       "      <td>0.0</td>\n",
       "      <td>NaN</td>\n",
       "      <td>NaN</td>\n",
       "      <td>0.000</td>\n",
       "      <td>0.000</td>\n",
       "    </tr>\n",
       "    <tr>\n",
       "      <th>t1[0]*healthmis</th>\n",
       "      <td>-0.000</td>\n",
       "      <td>0.0</td>\n",
       "      <td>NaN</td>\n",
       "      <td>NaN</td>\n",
       "      <td>-0.000</td>\n",
       "      <td>-0.000</td>\n",
       "    </tr>\n",
       "    <tr>\n",
       "      <th>t1[0]*smoke</th>\n",
       "      <td>0.000</td>\n",
       "      <td>0.0</td>\n",
       "      <td>NaN</td>\n",
       "      <td>NaN</td>\n",
       "      <td>0.000</td>\n",
       "      <td>0.000</td>\n",
       "    </tr>\n",
       "    <tr>\n",
       "      <th>t1[0]*smokemis</th>\n",
       "      <td>0.000</td>\n",
       "      <td>0.0</td>\n",
       "      <td>NaN</td>\n",
       "      <td>NaN</td>\n",
       "      <td>0.000</td>\n",
       "      <td>0.000</td>\n",
       "    </tr>\n",
       "    <tr>\n",
       "      <th>t1[0]*alcohol</th>\n",
       "      <td>-0.000</td>\n",
       "      <td>0.0</td>\n",
       "      <td>NaN</td>\n",
       "      <td>NaN</td>\n",
       "      <td>-0.000</td>\n",
       "      <td>-0.000</td>\n",
       "    </tr>\n",
       "    <tr>\n",
       "      <th>t1[0]*alcoholmis</th>\n",
       "      <td>0.000</td>\n",
       "      <td>0.0</td>\n",
       "      <td>NaN</td>\n",
       "      <td>NaN</td>\n",
       "      <td>0.000</td>\n",
       "      <td>0.000</td>\n",
       "    </tr>\n",
       "  </tbody>\n",
       "</table>\n",
       "</div>"
      ],
      "text/plain": [
       "                       point_estimate  stderr  zstat  pvalue  ci_lower  \\\n",
       "X                                                                        \n",
       "t1[0]*1                         0.000     0.0    NaN     NaN     0.000   \n",
       "t1[0]*female                    0.000     0.0    NaN     NaN     0.000   \n",
       "t1[0]*age                       1.088     0.0    inf     0.0     1.088   \n",
       "t1[0]*white                    -0.000     0.0    NaN     NaN    -0.000   \n",
       "t1[0]*black                     0.000     0.0    NaN     NaN     0.000   \n",
       "t1[0]*hispanic                 -0.000     0.0    NaN     NaN    -0.000   \n",
       "t1[0]*educ                      0.000     0.0    NaN     NaN     0.000   \n",
       "t1[0]*educmis                  -0.000     0.0    NaN     NaN    -0.000   \n",
       "t1[0]*geddegree                -0.000     0.0    NaN     NaN    -0.000   \n",
       "t1[0]*hsdegree                  0.000     0.0    NaN     NaN     0.000   \n",
       "t1[0]*english                   0.000     0.0    NaN     NaN     0.000   \n",
       "t1[0]*cohabmarried              0.000     0.0    NaN     NaN     0.000   \n",
       "t1[0]*haschild                  0.000     0.0    NaN     NaN     0.000   \n",
       "t1[0]*everwkd                  -0.000     0.0    NaN     NaN    -0.000   \n",
       "t1[0]*mwearn                    0.097     0.0    inf     0.0     0.097   \n",
       "t1[0]*hhsize                    0.000     0.0    NaN     NaN     0.000   \n",
       "t1[0]*hhsizemis                -0.000     0.0    NaN     NaN    -0.000   \n",
       "t1[0]*educmum                   0.000     0.0    NaN     NaN     0.000   \n",
       "t1[0]*educmummis               -0.000     0.0    NaN     NaN    -0.000   \n",
       "t1[0]*educdad                   0.000     0.0    NaN     NaN     0.000   \n",
       "t1[0]*educdadmis               -0.000     0.0    NaN     NaN    -0.000   \n",
       "t1[0]*welfarechild              0.000     0.0    NaN     NaN     0.000   \n",
       "t1[0]*welfarechildmis          -0.000     0.0    NaN     NaN    -0.000   \n",
       "t1[0]*health                    0.000     0.0    NaN     NaN     0.000   \n",
       "t1[0]*healthmis                -0.000     0.0    NaN     NaN    -0.000   \n",
       "t1[0]*smoke                     0.000     0.0    NaN     NaN     0.000   \n",
       "t1[0]*smokemis                  0.000     0.0    NaN     NaN     0.000   \n",
       "t1[0]*alcohol                  -0.000     0.0    NaN     NaN    -0.000   \n",
       "t1[0]*alcoholmis                0.000     0.0    NaN     NaN     0.000   \n",
       "\n",
       "                       ci_upper  \n",
       "X                                \n",
       "t1[0]*1                   0.000  \n",
       "t1[0]*female              0.000  \n",
       "t1[0]*age                 1.088  \n",
       "t1[0]*white              -0.000  \n",
       "t1[0]*black               0.000  \n",
       "t1[0]*hispanic           -0.000  \n",
       "t1[0]*educ                0.000  \n",
       "t1[0]*educmis            -0.000  \n",
       "t1[0]*geddegree          -0.000  \n",
       "t1[0]*hsdegree            0.000  \n",
       "t1[0]*english             0.000  \n",
       "t1[0]*cohabmarried        0.000  \n",
       "t1[0]*haschild            0.000  \n",
       "t1[0]*everwkd            -0.000  \n",
       "t1[0]*mwearn              0.097  \n",
       "t1[0]*hhsize              0.000  \n",
       "t1[0]*hhsizemis          -0.000  \n",
       "t1[0]*educmum             0.000  \n",
       "t1[0]*educmummis         -0.000  \n",
       "t1[0]*educdad             0.000  \n",
       "t1[0]*educdadmis         -0.000  \n",
       "t1[0]*welfarechild        0.000  \n",
       "t1[0]*welfarechildmis    -0.000  \n",
       "t1[0]*health              0.000  \n",
       "t1[0]*healthmis          -0.000  \n",
       "t1[0]*smoke               0.000  \n",
       "t1[0]*smokemis            0.000  \n",
       "t1[0]*alcohol            -0.000  \n",
       "t1[0]*alcoholmis          0.000  "
      ]
     },
     "metadata": {},
     "output_type": "display_data"
    },
    {
     "name": "stdout",
     "output_type": "stream",
     "text": [
      "Period 1 effects [0.]\n"
     ]
    },
    {
     "data": {
      "text/html": [
       "<div>\n",
       "<style scoped>\n",
       "    .dataframe tbody tr th:only-of-type {\n",
       "        vertical-align: middle;\n",
       "    }\n",
       "\n",
       "    .dataframe tbody tr th {\n",
       "        vertical-align: top;\n",
       "    }\n",
       "\n",
       "    .dataframe thead th {\n",
       "        text-align: right;\n",
       "    }\n",
       "</style>\n",
       "<table border=\"1\" class=\"dataframe\">\n",
       "  <thead>\n",
       "    <tr style=\"text-align: right;\">\n",
       "      <th></th>\n",
       "      <th>point_estimate</th>\n",
       "      <th>stderr</th>\n",
       "      <th>zstat</th>\n",
       "      <th>pvalue</th>\n",
       "      <th>ci_lower</th>\n",
       "      <th>ci_upper</th>\n",
       "    </tr>\n",
       "    <tr>\n",
       "      <th>X</th>\n",
       "      <th></th>\n",
       "      <th></th>\n",
       "      <th></th>\n",
       "      <th></th>\n",
       "      <th></th>\n",
       "      <th></th>\n",
       "    </tr>\n",
       "  </thead>\n",
       "  <tbody>\n",
       "    <tr>\n",
       "      <th>t2[0]*1</th>\n",
       "      <td>0.000</td>\n",
       "      <td>0.0</td>\n",
       "      <td>NaN</td>\n",
       "      <td>NaN</td>\n",
       "      <td>0.000</td>\n",
       "      <td>0.000</td>\n",
       "    </tr>\n",
       "    <tr>\n",
       "      <th>t2[0]*t1[0]*1</th>\n",
       "      <td>-0.000</td>\n",
       "      <td>0.0</td>\n",
       "      <td>NaN</td>\n",
       "      <td>NaN</td>\n",
       "      <td>-0.000</td>\n",
       "      <td>-0.000</td>\n",
       "    </tr>\n",
       "    <tr>\n",
       "      <th>t2[0]*female</th>\n",
       "      <td>-0.000</td>\n",
       "      <td>0.0</td>\n",
       "      <td>NaN</td>\n",
       "      <td>NaN</td>\n",
       "      <td>-0.000</td>\n",
       "      <td>-0.000</td>\n",
       "    </tr>\n",
       "    <tr>\n",
       "      <th>t2[0]*t1[0]*female</th>\n",
       "      <td>-0.000</td>\n",
       "      <td>0.0</td>\n",
       "      <td>NaN</td>\n",
       "      <td>NaN</td>\n",
       "      <td>-0.000</td>\n",
       "      <td>-0.000</td>\n",
       "    </tr>\n",
       "    <tr>\n",
       "      <th>t2[0]*age</th>\n",
       "      <td>0.936</td>\n",
       "      <td>0.0</td>\n",
       "      <td>inf</td>\n",
       "      <td>0.0</td>\n",
       "      <td>0.936</td>\n",
       "      <td>0.936</td>\n",
       "    </tr>\n",
       "    <tr>\n",
       "      <th>t2[0]*t1[0]*age</th>\n",
       "      <td>0.000</td>\n",
       "      <td>0.0</td>\n",
       "      <td>NaN</td>\n",
       "      <td>NaN</td>\n",
       "      <td>0.000</td>\n",
       "      <td>0.000</td>\n",
       "    </tr>\n",
       "    <tr>\n",
       "      <th>t2[0]*white</th>\n",
       "      <td>0.000</td>\n",
       "      <td>0.0</td>\n",
       "      <td>NaN</td>\n",
       "      <td>NaN</td>\n",
       "      <td>0.000</td>\n",
       "      <td>0.000</td>\n",
       "    </tr>\n",
       "    <tr>\n",
       "      <th>t2[0]*t1[0]*white</th>\n",
       "      <td>-0.000</td>\n",
       "      <td>0.0</td>\n",
       "      <td>NaN</td>\n",
       "      <td>NaN</td>\n",
       "      <td>-0.000</td>\n",
       "      <td>-0.000</td>\n",
       "    </tr>\n",
       "    <tr>\n",
       "      <th>t2[0]*black</th>\n",
       "      <td>0.000</td>\n",
       "      <td>0.0</td>\n",
       "      <td>NaN</td>\n",
       "      <td>NaN</td>\n",
       "      <td>0.000</td>\n",
       "      <td>0.000</td>\n",
       "    </tr>\n",
       "    <tr>\n",
       "      <th>t2[0]*t1[0]*black</th>\n",
       "      <td>0.000</td>\n",
       "      <td>0.0</td>\n",
       "      <td>NaN</td>\n",
       "      <td>NaN</td>\n",
       "      <td>0.000</td>\n",
       "      <td>0.000</td>\n",
       "    </tr>\n",
       "    <tr>\n",
       "      <th>t2[0]*hispanic</th>\n",
       "      <td>0.000</td>\n",
       "      <td>0.0</td>\n",
       "      <td>NaN</td>\n",
       "      <td>NaN</td>\n",
       "      <td>0.000</td>\n",
       "      <td>0.000</td>\n",
       "    </tr>\n",
       "    <tr>\n",
       "      <th>t2[0]*t1[0]*hispanic</th>\n",
       "      <td>0.000</td>\n",
       "      <td>0.0</td>\n",
       "      <td>NaN</td>\n",
       "      <td>NaN</td>\n",
       "      <td>0.000</td>\n",
       "      <td>0.000</td>\n",
       "    </tr>\n",
       "    <tr>\n",
       "      <th>t2[0]*educ</th>\n",
       "      <td>0.000</td>\n",
       "      <td>0.0</td>\n",
       "      <td>NaN</td>\n",
       "      <td>NaN</td>\n",
       "      <td>0.000</td>\n",
       "      <td>0.000</td>\n",
       "    </tr>\n",
       "    <tr>\n",
       "      <th>t2[0]*t1[0]*educ</th>\n",
       "      <td>-0.000</td>\n",
       "      <td>0.0</td>\n",
       "      <td>NaN</td>\n",
       "      <td>NaN</td>\n",
       "      <td>-0.000</td>\n",
       "      <td>-0.000</td>\n",
       "    </tr>\n",
       "    <tr>\n",
       "      <th>t2[0]*educmis</th>\n",
       "      <td>-0.000</td>\n",
       "      <td>0.0</td>\n",
       "      <td>NaN</td>\n",
       "      <td>NaN</td>\n",
       "      <td>-0.000</td>\n",
       "      <td>-0.000</td>\n",
       "    </tr>\n",
       "    <tr>\n",
       "      <th>t2[0]*t1[0]*educmis</th>\n",
       "      <td>-0.000</td>\n",
       "      <td>0.0</td>\n",
       "      <td>NaN</td>\n",
       "      <td>NaN</td>\n",
       "      <td>-0.000</td>\n",
       "      <td>-0.000</td>\n",
       "    </tr>\n",
       "    <tr>\n",
       "      <th>t2[0]*geddegree</th>\n",
       "      <td>-0.000</td>\n",
       "      <td>0.0</td>\n",
       "      <td>NaN</td>\n",
       "      <td>NaN</td>\n",
       "      <td>-0.000</td>\n",
       "      <td>-0.000</td>\n",
       "    </tr>\n",
       "    <tr>\n",
       "      <th>t2[0]*t1[0]*geddegree</th>\n",
       "      <td>-0.000</td>\n",
       "      <td>0.0</td>\n",
       "      <td>NaN</td>\n",
       "      <td>NaN</td>\n",
       "      <td>-0.000</td>\n",
       "      <td>-0.000</td>\n",
       "    </tr>\n",
       "    <tr>\n",
       "      <th>t2[0]*hsdegree</th>\n",
       "      <td>0.000</td>\n",
       "      <td>0.0</td>\n",
       "      <td>NaN</td>\n",
       "      <td>NaN</td>\n",
       "      <td>0.000</td>\n",
       "      <td>0.000</td>\n",
       "    </tr>\n",
       "    <tr>\n",
       "      <th>t2[0]*t1[0]*hsdegree</th>\n",
       "      <td>0.000</td>\n",
       "      <td>0.0</td>\n",
       "      <td>NaN</td>\n",
       "      <td>NaN</td>\n",
       "      <td>0.000</td>\n",
       "      <td>0.000</td>\n",
       "    </tr>\n",
       "    <tr>\n",
       "      <th>t2[0]*english</th>\n",
       "      <td>0.000</td>\n",
       "      <td>0.0</td>\n",
       "      <td>NaN</td>\n",
       "      <td>NaN</td>\n",
       "      <td>0.000</td>\n",
       "      <td>0.000</td>\n",
       "    </tr>\n",
       "    <tr>\n",
       "      <th>t2[0]*t1[0]*english</th>\n",
       "      <td>-0.000</td>\n",
       "      <td>0.0</td>\n",
       "      <td>NaN</td>\n",
       "      <td>NaN</td>\n",
       "      <td>-0.000</td>\n",
       "      <td>-0.000</td>\n",
       "    </tr>\n",
       "    <tr>\n",
       "      <th>t2[0]*cohabmarried</th>\n",
       "      <td>-0.000</td>\n",
       "      <td>0.0</td>\n",
       "      <td>NaN</td>\n",
       "      <td>NaN</td>\n",
       "      <td>-0.000</td>\n",
       "      <td>-0.000</td>\n",
       "    </tr>\n",
       "    <tr>\n",
       "      <th>t2[0]*t1[0]*cohabmarried</th>\n",
       "      <td>-0.000</td>\n",
       "      <td>0.0</td>\n",
       "      <td>NaN</td>\n",
       "      <td>NaN</td>\n",
       "      <td>-0.000</td>\n",
       "      <td>-0.000</td>\n",
       "    </tr>\n",
       "    <tr>\n",
       "      <th>t2[0]*haschild</th>\n",
       "      <td>-0.000</td>\n",
       "      <td>0.0</td>\n",
       "      <td>NaN</td>\n",
       "      <td>NaN</td>\n",
       "      <td>-0.000</td>\n",
       "      <td>-0.000</td>\n",
       "    </tr>\n",
       "    <tr>\n",
       "      <th>t2[0]*t1[0]*haschild</th>\n",
       "      <td>0.000</td>\n",
       "      <td>0.0</td>\n",
       "      <td>NaN</td>\n",
       "      <td>NaN</td>\n",
       "      <td>0.000</td>\n",
       "      <td>0.000</td>\n",
       "    </tr>\n",
       "    <tr>\n",
       "      <th>t2[0]*everwkd</th>\n",
       "      <td>0.000</td>\n",
       "      <td>0.0</td>\n",
       "      <td>NaN</td>\n",
       "      <td>NaN</td>\n",
       "      <td>0.000</td>\n",
       "      <td>0.000</td>\n",
       "    </tr>\n",
       "    <tr>\n",
       "      <th>t2[0]*t1[0]*everwkd</th>\n",
       "      <td>0.000</td>\n",
       "      <td>0.0</td>\n",
       "      <td>NaN</td>\n",
       "      <td>NaN</td>\n",
       "      <td>0.000</td>\n",
       "      <td>0.000</td>\n",
       "    </tr>\n",
       "    <tr>\n",
       "      <th>t2[0]*mwearn</th>\n",
       "      <td>-0.000</td>\n",
       "      <td>0.0</td>\n",
       "      <td>NaN</td>\n",
       "      <td>NaN</td>\n",
       "      <td>-0.000</td>\n",
       "      <td>-0.000</td>\n",
       "    </tr>\n",
       "    <tr>\n",
       "      <th>t2[0]*t1[0]*mwearn</th>\n",
       "      <td>0.194</td>\n",
       "      <td>0.0</td>\n",
       "      <td>inf</td>\n",
       "      <td>0.0</td>\n",
       "      <td>0.194</td>\n",
       "      <td>0.194</td>\n",
       "    </tr>\n",
       "    <tr>\n",
       "      <th>t2[0]*hhsize</th>\n",
       "      <td>-0.000</td>\n",
       "      <td>0.0</td>\n",
       "      <td>NaN</td>\n",
       "      <td>NaN</td>\n",
       "      <td>-0.000</td>\n",
       "      <td>-0.000</td>\n",
       "    </tr>\n",
       "    <tr>\n",
       "      <th>t2[0]*t1[0]*hhsize</th>\n",
       "      <td>-0.000</td>\n",
       "      <td>0.0</td>\n",
       "      <td>NaN</td>\n",
       "      <td>NaN</td>\n",
       "      <td>-0.000</td>\n",
       "      <td>-0.000</td>\n",
       "    </tr>\n",
       "    <tr>\n",
       "      <th>t2[0]*hhsizemis</th>\n",
       "      <td>0.000</td>\n",
       "      <td>0.0</td>\n",
       "      <td>NaN</td>\n",
       "      <td>NaN</td>\n",
       "      <td>0.000</td>\n",
       "      <td>0.000</td>\n",
       "    </tr>\n",
       "    <tr>\n",
       "      <th>t2[0]*t1[0]*hhsizemis</th>\n",
       "      <td>0.000</td>\n",
       "      <td>0.0</td>\n",
       "      <td>NaN</td>\n",
       "      <td>NaN</td>\n",
       "      <td>0.000</td>\n",
       "      <td>0.000</td>\n",
       "    </tr>\n",
       "    <tr>\n",
       "      <th>t2[0]*educmum</th>\n",
       "      <td>0.000</td>\n",
       "      <td>0.0</td>\n",
       "      <td>NaN</td>\n",
       "      <td>NaN</td>\n",
       "      <td>0.000</td>\n",
       "      <td>0.000</td>\n",
       "    </tr>\n",
       "    <tr>\n",
       "      <th>t2[0]*t1[0]*educmum</th>\n",
       "      <td>0.000</td>\n",
       "      <td>0.0</td>\n",
       "      <td>NaN</td>\n",
       "      <td>NaN</td>\n",
       "      <td>0.000</td>\n",
       "      <td>0.000</td>\n",
       "    </tr>\n",
       "    <tr>\n",
       "      <th>t2[0]*educmummis</th>\n",
       "      <td>0.000</td>\n",
       "      <td>0.0</td>\n",
       "      <td>NaN</td>\n",
       "      <td>NaN</td>\n",
       "      <td>0.000</td>\n",
       "      <td>0.000</td>\n",
       "    </tr>\n",
       "    <tr>\n",
       "      <th>t2[0]*t1[0]*educmummis</th>\n",
       "      <td>-0.000</td>\n",
       "      <td>0.0</td>\n",
       "      <td>NaN</td>\n",
       "      <td>NaN</td>\n",
       "      <td>-0.000</td>\n",
       "      <td>-0.000</td>\n",
       "    </tr>\n",
       "    <tr>\n",
       "      <th>t2[0]*educdad</th>\n",
       "      <td>-0.000</td>\n",
       "      <td>0.0</td>\n",
       "      <td>NaN</td>\n",
       "      <td>NaN</td>\n",
       "      <td>-0.000</td>\n",
       "      <td>-0.000</td>\n",
       "    </tr>\n",
       "    <tr>\n",
       "      <th>t2[0]*t1[0]*educdad</th>\n",
       "      <td>-0.000</td>\n",
       "      <td>0.0</td>\n",
       "      <td>NaN</td>\n",
       "      <td>NaN</td>\n",
       "      <td>-0.000</td>\n",
       "      <td>-0.000</td>\n",
       "    </tr>\n",
       "    <tr>\n",
       "      <th>t2[0]*educdadmis</th>\n",
       "      <td>0.000</td>\n",
       "      <td>0.0</td>\n",
       "      <td>NaN</td>\n",
       "      <td>NaN</td>\n",
       "      <td>0.000</td>\n",
       "      <td>0.000</td>\n",
       "    </tr>\n",
       "    <tr>\n",
       "      <th>t2[0]*t1[0]*educdadmis</th>\n",
       "      <td>0.000</td>\n",
       "      <td>0.0</td>\n",
       "      <td>NaN</td>\n",
       "      <td>NaN</td>\n",
       "      <td>0.000</td>\n",
       "      <td>0.000</td>\n",
       "    </tr>\n",
       "    <tr>\n",
       "      <th>t2[0]*welfarechild</th>\n",
       "      <td>0.000</td>\n",
       "      <td>0.0</td>\n",
       "      <td>NaN</td>\n",
       "      <td>NaN</td>\n",
       "      <td>0.000</td>\n",
       "      <td>0.000</td>\n",
       "    </tr>\n",
       "    <tr>\n",
       "      <th>t2[0]*t1[0]*welfarechild</th>\n",
       "      <td>0.000</td>\n",
       "      <td>0.0</td>\n",
       "      <td>NaN</td>\n",
       "      <td>NaN</td>\n",
       "      <td>0.000</td>\n",
       "      <td>0.000</td>\n",
       "    </tr>\n",
       "    <tr>\n",
       "      <th>t2[0]*welfarechildmis</th>\n",
       "      <td>0.000</td>\n",
       "      <td>0.0</td>\n",
       "      <td>NaN</td>\n",
       "      <td>NaN</td>\n",
       "      <td>0.000</td>\n",
       "      <td>0.000</td>\n",
       "    </tr>\n",
       "    <tr>\n",
       "      <th>t2[0]*t1[0]*welfarechildmis</th>\n",
       "      <td>0.000</td>\n",
       "      <td>0.0</td>\n",
       "      <td>NaN</td>\n",
       "      <td>NaN</td>\n",
       "      <td>0.000</td>\n",
       "      <td>0.000</td>\n",
       "    </tr>\n",
       "    <tr>\n",
       "      <th>t2[0]*health</th>\n",
       "      <td>0.000</td>\n",
       "      <td>0.0</td>\n",
       "      <td>NaN</td>\n",
       "      <td>NaN</td>\n",
       "      <td>0.000</td>\n",
       "      <td>0.000</td>\n",
       "    </tr>\n",
       "    <tr>\n",
       "      <th>t2[0]*t1[0]*health</th>\n",
       "      <td>0.000</td>\n",
       "      <td>0.0</td>\n",
       "      <td>NaN</td>\n",
       "      <td>NaN</td>\n",
       "      <td>0.000</td>\n",
       "      <td>0.000</td>\n",
       "    </tr>\n",
       "    <tr>\n",
       "      <th>t2[0]*healthmis</th>\n",
       "      <td>0.000</td>\n",
       "      <td>0.0</td>\n",
       "      <td>NaN</td>\n",
       "      <td>NaN</td>\n",
       "      <td>0.000</td>\n",
       "      <td>0.000</td>\n",
       "    </tr>\n",
       "    <tr>\n",
       "      <th>t2[0]*t1[0]*healthmis</th>\n",
       "      <td>-0.000</td>\n",
       "      <td>0.0</td>\n",
       "      <td>NaN</td>\n",
       "      <td>NaN</td>\n",
       "      <td>-0.000</td>\n",
       "      <td>-0.000</td>\n",
       "    </tr>\n",
       "    <tr>\n",
       "      <th>t2[0]*smoke</th>\n",
       "      <td>0.000</td>\n",
       "      <td>0.0</td>\n",
       "      <td>NaN</td>\n",
       "      <td>NaN</td>\n",
       "      <td>0.000</td>\n",
       "      <td>0.000</td>\n",
       "    </tr>\n",
       "    <tr>\n",
       "      <th>t2[0]*t1[0]*smoke</th>\n",
       "      <td>-0.000</td>\n",
       "      <td>0.0</td>\n",
       "      <td>NaN</td>\n",
       "      <td>NaN</td>\n",
       "      <td>-0.000</td>\n",
       "      <td>-0.000</td>\n",
       "    </tr>\n",
       "    <tr>\n",
       "      <th>t2[0]*smokemis</th>\n",
       "      <td>0.000</td>\n",
       "      <td>0.0</td>\n",
       "      <td>NaN</td>\n",
       "      <td>NaN</td>\n",
       "      <td>0.000</td>\n",
       "      <td>0.000</td>\n",
       "    </tr>\n",
       "    <tr>\n",
       "      <th>t2[0]*t1[0]*smokemis</th>\n",
       "      <td>-0.000</td>\n",
       "      <td>0.0</td>\n",
       "      <td>NaN</td>\n",
       "      <td>NaN</td>\n",
       "      <td>-0.000</td>\n",
       "      <td>-0.000</td>\n",
       "    </tr>\n",
       "    <tr>\n",
       "      <th>t2[0]*alcohol</th>\n",
       "      <td>-0.000</td>\n",
       "      <td>0.0</td>\n",
       "      <td>NaN</td>\n",
       "      <td>NaN</td>\n",
       "      <td>-0.000</td>\n",
       "      <td>-0.000</td>\n",
       "    </tr>\n",
       "    <tr>\n",
       "      <th>t2[0]*t1[0]*alcohol</th>\n",
       "      <td>-0.000</td>\n",
       "      <td>0.0</td>\n",
       "      <td>NaN</td>\n",
       "      <td>NaN</td>\n",
       "      <td>-0.000</td>\n",
       "      <td>-0.000</td>\n",
       "    </tr>\n",
       "    <tr>\n",
       "      <th>t2[0]*alcoholmis</th>\n",
       "      <td>0.000</td>\n",
       "      <td>0.0</td>\n",
       "      <td>NaN</td>\n",
       "      <td>NaN</td>\n",
       "      <td>0.000</td>\n",
       "      <td>0.000</td>\n",
       "    </tr>\n",
       "    <tr>\n",
       "      <th>t2[0]*t1[0]*alcoholmis</th>\n",
       "      <td>0.000</td>\n",
       "      <td>0.0</td>\n",
       "      <td>NaN</td>\n",
       "      <td>NaN</td>\n",
       "      <td>0.000</td>\n",
       "      <td>0.000</td>\n",
       "    </tr>\n",
       "  </tbody>\n",
       "</table>\n",
       "</div>"
      ],
      "text/plain": [
       "                             point_estimate  stderr  zstat  pvalue  ci_lower  \\\n",
       "X                                                                              \n",
       "t2[0]*1                               0.000     0.0    NaN     NaN     0.000   \n",
       "t2[0]*t1[0]*1                        -0.000     0.0    NaN     NaN    -0.000   \n",
       "t2[0]*female                         -0.000     0.0    NaN     NaN    -0.000   \n",
       "t2[0]*t1[0]*female                   -0.000     0.0    NaN     NaN    -0.000   \n",
       "t2[0]*age                             0.936     0.0    inf     0.0     0.936   \n",
       "t2[0]*t1[0]*age                       0.000     0.0    NaN     NaN     0.000   \n",
       "t2[0]*white                           0.000     0.0    NaN     NaN     0.000   \n",
       "t2[0]*t1[0]*white                    -0.000     0.0    NaN     NaN    -0.000   \n",
       "t2[0]*black                           0.000     0.0    NaN     NaN     0.000   \n",
       "t2[0]*t1[0]*black                     0.000     0.0    NaN     NaN     0.000   \n",
       "t2[0]*hispanic                        0.000     0.0    NaN     NaN     0.000   \n",
       "t2[0]*t1[0]*hispanic                  0.000     0.0    NaN     NaN     0.000   \n",
       "t2[0]*educ                            0.000     0.0    NaN     NaN     0.000   \n",
       "t2[0]*t1[0]*educ                     -0.000     0.0    NaN     NaN    -0.000   \n",
       "t2[0]*educmis                        -0.000     0.0    NaN     NaN    -0.000   \n",
       "t2[0]*t1[0]*educmis                  -0.000     0.0    NaN     NaN    -0.000   \n",
       "t2[0]*geddegree                      -0.000     0.0    NaN     NaN    -0.000   \n",
       "t2[0]*t1[0]*geddegree                -0.000     0.0    NaN     NaN    -0.000   \n",
       "t2[0]*hsdegree                        0.000     0.0    NaN     NaN     0.000   \n",
       "t2[0]*t1[0]*hsdegree                  0.000     0.0    NaN     NaN     0.000   \n",
       "t2[0]*english                         0.000     0.0    NaN     NaN     0.000   \n",
       "t2[0]*t1[0]*english                  -0.000     0.0    NaN     NaN    -0.000   \n",
       "t2[0]*cohabmarried                   -0.000     0.0    NaN     NaN    -0.000   \n",
       "t2[0]*t1[0]*cohabmarried             -0.000     0.0    NaN     NaN    -0.000   \n",
       "t2[0]*haschild                       -0.000     0.0    NaN     NaN    -0.000   \n",
       "t2[0]*t1[0]*haschild                  0.000     0.0    NaN     NaN     0.000   \n",
       "t2[0]*everwkd                         0.000     0.0    NaN     NaN     0.000   \n",
       "t2[0]*t1[0]*everwkd                   0.000     0.0    NaN     NaN     0.000   \n",
       "t2[0]*mwearn                         -0.000     0.0    NaN     NaN    -0.000   \n",
       "t2[0]*t1[0]*mwearn                    0.194     0.0    inf     0.0     0.194   \n",
       "t2[0]*hhsize                         -0.000     0.0    NaN     NaN    -0.000   \n",
       "t2[0]*t1[0]*hhsize                   -0.000     0.0    NaN     NaN    -0.000   \n",
       "t2[0]*hhsizemis                       0.000     0.0    NaN     NaN     0.000   \n",
       "t2[0]*t1[0]*hhsizemis                 0.000     0.0    NaN     NaN     0.000   \n",
       "t2[0]*educmum                         0.000     0.0    NaN     NaN     0.000   \n",
       "t2[0]*t1[0]*educmum                   0.000     0.0    NaN     NaN     0.000   \n",
       "t2[0]*educmummis                      0.000     0.0    NaN     NaN     0.000   \n",
       "t2[0]*t1[0]*educmummis               -0.000     0.0    NaN     NaN    -0.000   \n",
       "t2[0]*educdad                        -0.000     0.0    NaN     NaN    -0.000   \n",
       "t2[0]*t1[0]*educdad                  -0.000     0.0    NaN     NaN    -0.000   \n",
       "t2[0]*educdadmis                      0.000     0.0    NaN     NaN     0.000   \n",
       "t2[0]*t1[0]*educdadmis                0.000     0.0    NaN     NaN     0.000   \n",
       "t2[0]*welfarechild                    0.000     0.0    NaN     NaN     0.000   \n",
       "t2[0]*t1[0]*welfarechild              0.000     0.0    NaN     NaN     0.000   \n",
       "t2[0]*welfarechildmis                 0.000     0.0    NaN     NaN     0.000   \n",
       "t2[0]*t1[0]*welfarechildmis           0.000     0.0    NaN     NaN     0.000   \n",
       "t2[0]*health                          0.000     0.0    NaN     NaN     0.000   \n",
       "t2[0]*t1[0]*health                    0.000     0.0    NaN     NaN     0.000   \n",
       "t2[0]*healthmis                       0.000     0.0    NaN     NaN     0.000   \n",
       "t2[0]*t1[0]*healthmis                -0.000     0.0    NaN     NaN    -0.000   \n",
       "t2[0]*smoke                           0.000     0.0    NaN     NaN     0.000   \n",
       "t2[0]*t1[0]*smoke                    -0.000     0.0    NaN     NaN    -0.000   \n",
       "t2[0]*smokemis                        0.000     0.0    NaN     NaN     0.000   \n",
       "t2[0]*t1[0]*smokemis                 -0.000     0.0    NaN     NaN    -0.000   \n",
       "t2[0]*alcohol                        -0.000     0.0    NaN     NaN    -0.000   \n",
       "t2[0]*t1[0]*alcohol                  -0.000     0.0    NaN     NaN    -0.000   \n",
       "t2[0]*alcoholmis                      0.000     0.0    NaN     NaN     0.000   \n",
       "t2[0]*t1[0]*alcoholmis                0.000     0.0    NaN     NaN     0.000   \n",
       "\n",
       "                             ci_upper  \n",
       "X                                      \n",
       "t2[0]*1                         0.000  \n",
       "t2[0]*t1[0]*1                  -0.000  \n",
       "t2[0]*female                   -0.000  \n",
       "t2[0]*t1[0]*female             -0.000  \n",
       "t2[0]*age                       0.936  \n",
       "t2[0]*t1[0]*age                 0.000  \n",
       "t2[0]*white                     0.000  \n",
       "t2[0]*t1[0]*white              -0.000  \n",
       "t2[0]*black                     0.000  \n",
       "t2[0]*t1[0]*black               0.000  \n",
       "t2[0]*hispanic                  0.000  \n",
       "t2[0]*t1[0]*hispanic            0.000  \n",
       "t2[0]*educ                      0.000  \n",
       "t2[0]*t1[0]*educ               -0.000  \n",
       "t2[0]*educmis                  -0.000  \n",
       "t2[0]*t1[0]*educmis            -0.000  \n",
       "t2[0]*geddegree                -0.000  \n",
       "t2[0]*t1[0]*geddegree          -0.000  \n",
       "t2[0]*hsdegree                  0.000  \n",
       "t2[0]*t1[0]*hsdegree            0.000  \n",
       "t2[0]*english                   0.000  \n",
       "t2[0]*t1[0]*english            -0.000  \n",
       "t2[0]*cohabmarried             -0.000  \n",
       "t2[0]*t1[0]*cohabmarried       -0.000  \n",
       "t2[0]*haschild                 -0.000  \n",
       "t2[0]*t1[0]*haschild            0.000  \n",
       "t2[0]*everwkd                   0.000  \n",
       "t2[0]*t1[0]*everwkd             0.000  \n",
       "t2[0]*mwearn                   -0.000  \n",
       "t2[0]*t1[0]*mwearn              0.194  \n",
       "t2[0]*hhsize                   -0.000  \n",
       "t2[0]*t1[0]*hhsize             -0.000  \n",
       "t2[0]*hhsizemis                 0.000  \n",
       "t2[0]*t1[0]*hhsizemis           0.000  \n",
       "t2[0]*educmum                   0.000  \n",
       "t2[0]*t1[0]*educmum             0.000  \n",
       "t2[0]*educmummis                0.000  \n",
       "t2[0]*t1[0]*educmummis         -0.000  \n",
       "t2[0]*educdad                  -0.000  \n",
       "t2[0]*t1[0]*educdad            -0.000  \n",
       "t2[0]*educdadmis                0.000  \n",
       "t2[0]*t1[0]*educdadmis          0.000  \n",
       "t2[0]*welfarechild              0.000  \n",
       "t2[0]*t1[0]*welfarechild        0.000  \n",
       "t2[0]*welfarechildmis           0.000  \n",
       "t2[0]*t1[0]*welfarechildmis     0.000  \n",
       "t2[0]*health                    0.000  \n",
       "t2[0]*t1[0]*health              0.000  \n",
       "t2[0]*healthmis                 0.000  \n",
       "t2[0]*t1[0]*healthmis          -0.000  \n",
       "t2[0]*smoke                     0.000  \n",
       "t2[0]*t1[0]*smoke              -0.000  \n",
       "t2[0]*smokemis                  0.000  \n",
       "t2[0]*t1[0]*smokemis           -0.000  \n",
       "t2[0]*alcohol                  -0.000  \n",
       "t2[0]*t1[0]*alcohol            -0.000  \n",
       "t2[0]*alcoholmis                0.000  \n",
       "t2[0]*t1[0]*alcoholmis          0.000  "
      ]
     },
     "metadata": {},
     "output_type": "display_data"
    }
   ],
   "source": [
    "if hasattr(het_est.models_[0], 'linear_model'):\n",
    "    for t in range(m):\n",
    "        print(f'Period {t} effects {true_effect_params[t]}')\n",
    "        display(het_est.param_summary(t).summary_frame())"
   ]
  },
  {
   "cell_type": "code",
   "execution_count": null,
   "metadata": {},
   "outputs": [],
   "source": []
  }
 ],
 "metadata": {
  "kernelspec": {
   "display_name": "Python 3",
   "language": "python",
   "name": "python3"
  },
  "language_info": {
   "codemirror_mode": {
    "name": "ipython",
    "version": 3
   },
   "file_extension": ".py",
   "mimetype": "text/x-python",
   "name": "python",
   "nbconvert_exporter": "python",
   "pygments_lexer": "ipython3",
   "version": "3.8.5"
  }
 },
 "nbformat": 4,
 "nbformat_minor": 4
}
