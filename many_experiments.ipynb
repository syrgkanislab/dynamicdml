{
 "cells": [
  {
   "cell_type": "markdown",
   "metadata": {},
   "source": [
    "# Many experiments"
   ]
  },
  {
   "cell_type": "code",
   "execution_count": null,
   "metadata": {},
   "outputs": [],
   "source": [
    "%load_ext autoreload\n",
    "%autoreload 2"
   ]
  },
  {
   "cell_type": "code",
   "execution_count": null,
   "metadata": {},
   "outputs": [],
   "source": [
    "from experiment import main\n",
    "\n",
    "n_instances = 1\n",
    "n_samples = 1\n",
    "n_hetero_vars = 2\n",
    "n_periods = 2\n",
    "n_units = 1000\n",
    "n_x = 10\n",
    "res = main(n_periods=n_periods, n_units=n_units, n_treatments=1, n_x=n_x, s_x=2, s_t=2,\n",
    "           n_hetero_vars=n_hetero_vars, \n",
    "           n_instances=n_instances, inst_seed=0,\n",
    "           n_samples=n_samples, sample_seed=0,\n",
    "           max_poly_degree=2, high_dim=True,\n",
    "           verbose=1)"
   ]
  },
  {
   "cell_type": "code",
   "execution_count": null,
   "metadata": {},
   "outputs": [],
   "source": [
    "res[0][0]['true']['pival']"
   ]
  },
  {
   "cell_type": "code",
   "execution_count": null,
   "metadata": {},
   "outputs": [],
   "source": [
    "res[0][0]['reg']['pival']"
   ]
  },
  {
   "cell_type": "code",
   "execution_count": null,
   "metadata": {},
   "outputs": [],
   "source": [
    "res[0][0]['ols']['pival']"
   ]
  },
  {
   "cell_type": "code",
   "execution_count": null,
   "metadata": {},
   "outputs": [],
   "source": [
    "res[0][0]['oracle_ols']['pival']"
   ]
  },
  {
   "cell_type": "code",
   "execution_count": null,
   "metadata": {},
   "outputs": [],
   "source": [
    "import numpy as np\n",
    "[(key, value) for key, value in res[0][0]['true']['params'][0].items() if np.abs(value) > 0]"
   ]
  },
  {
   "cell_type": "code",
   "execution_count": null,
   "metadata": {},
   "outputs": [],
   "source": [
    "res[0][0]['ols']['params'][0]"
   ]
  },
  {
   "cell_type": "code",
   "execution_count": null,
   "metadata": {},
   "outputs": [],
   "source": [
    "import numpy as np\n",
    "[(key, value) for key, value in res[0][0]['true']['params'][1].items() if np.abs(value) > 0]"
   ]
  },
  {
   "cell_type": "code",
   "execution_count": null,
   "metadata": {},
   "outputs": [],
   "source": [
    "res[0][0]['ols']['params'][1]"
   ]
  },
  {
   "cell_type": "markdown",
   "metadata": {},
   "source": [
    "# Experiments with non-parametric heterogeneity"
   ]
  },
  {
   "cell_type": "code",
   "execution_count": null,
   "metadata": {},
   "outputs": [],
   "source": [
    "%load_ext autoreload\n",
    "%autoreload 2"
   ]
  },
  {
   "cell_type": "code",
   "execution_count": null,
   "metadata": {},
   "outputs": [],
   "source": [
    "import warnings\n",
    "warnings.simplefilter('ignore')"
   ]
  },
  {
   "cell_type": "code",
   "execution_count": null,
   "metadata": {},
   "outputs": [],
   "source": [
    "from experiment_hetero import experiment\n",
    "\n",
    "fn_list = ['abs', 'linear', 'square', 'step', 'steplinear', '3dpoly']\n",
    "results = {}\n",
    "for nonlin_fn in fn_list:\n",
    "    results[nonlin_fn] = experiment(n_periods=2, n_units=10000,\n",
    "                       n_x=10, s_x=2, s_t=2,\n",
    "                       hetero_strenth=2.0, n_hetero_vars=1,\n",
    "                       autoreg=1.0, nonlin_fn=nonlin_fn,\n",
    "                       instance_seed=0, sample_seed=0,\n",
    "                       verbose=1, max_poly_degree=2, store_preds=True)"
   ]
  },
  {
   "cell_type": "code",
   "execution_count": null,
   "metadata": {},
   "outputs": [],
   "source": [
    "import joblib\n",
    "joblib.dump(results, 'all_plots.jbl')"
   ]
  },
  {
   "cell_type": "code",
   "execution_count": null,
   "metadata": {},
   "outputs": [],
   "source": [
    "import joblib\n",
    "results = joblib.load('all_plots.jbl')"
   ]
  },
  {
   "cell_type": "code",
   "execution_count": null,
   "metadata": {},
   "outputs": [],
   "source": [
    "import matplotlib.pyplot as plt\n",
    "%matplotlib inline\n",
    "\n",
    "period = 0\n",
    "key = 'softmaxcv'\n",
    "plt.figure(figsize=(15,10))\n",
    "for it, nonlin_fn in enumerate(fn_list):\n",
    "    method_it = 0\n",
    "    d = results[nonlin_fn][key]\n",
    "    rmse = d[period]['rmse']\n",
    "    plt.subplot(2, 3, it + 1)\n",
    "    plt.title(f'{key}: fn={nonlin_fn}, period={period}, rmse={rmse:.3f}')\n",
    "    plt.scatter(d[period]['xhet'][:, 0], d[period]['true'])\n",
    "    plt.scatter(d[period]['xhet'][:, 0], d[period]['pred'])\n",
    "plt.savefig(f'period{period}.png', dpi=600)\n",
    "plt.show()"
   ]
  },
  {
   "cell_type": "code",
   "execution_count": null,
   "metadata": {},
   "outputs": [],
   "source": [
    "import pandas as pd\n",
    "import numpy as np\n",
    "\n",
    "nonlin_fn = 'abs'\n",
    "alldfs = {}\n",
    "for period in range(2):\n",
    "    table = {}\n",
    "    for key, d in results[nonlin_fn].items():\n",
    "        table[key] = {'rmse': d[period]['rmse'], 'mae': d[period]['mae']}\n",
    "    alldfs[f'period={period}'] = pd.DataFrame(table)\n",
    "\n",
    "allperiods = pd.concat(alldfs)\n",
    "\n",
    "for row, col in enumerate(np.argmin(allperiods.values, axis=1)):\n",
    "    val = allperiods.iloc[row, col]\n",
    "    allperiods.iloc[row, col] = r'\\textbf{' + \"{:.3f}\".format(val) + r'}'\n",
    "\n",
    "allperiods.transpose()"
   ]
  },
  {
   "cell_type": "code",
   "execution_count": null,
   "metadata": {},
   "outputs": [],
   "source": []
  }
 ],
 "metadata": {
  "kernelspec": {
   "display_name": "Python 3",
   "language": "python",
   "name": "python3"
  },
  "language_info": {
   "codemirror_mode": {
    "name": "ipython",
    "version": 3
   },
   "file_extension": ".py",
   "mimetype": "text/x-python",
   "name": "python",
   "nbconvert_exporter": "python",
   "pygments_lexer": "ipython3",
   "version": "3.8.5"
  }
 },
 "nbformat": 4,
 "nbformat_minor": 4
}
