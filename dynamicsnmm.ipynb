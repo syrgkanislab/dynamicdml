{
 "cells": [
  {
   "cell_type": "markdown",
   "metadata": {},
   "source": [
    "# Dynamic DML for Structural Nested Mean Models"
   ]
  },
  {
   "cell_type": "code",
   "execution_count": null,
   "metadata": {},
   "outputs": [],
   "source": [
    "%load_ext autoreload\n",
    "%autoreload 2"
   ]
  },
  {
   "cell_type": "code",
   "execution_count": null,
   "metadata": {},
   "outputs": [],
   "source": [
    "# Helper imports\n",
    "import numpy as np\n",
    "from sklearn.linear_model import Lasso, LassoCV, LogisticRegression, LogisticRegressionCV, MultiTaskLassoCV\n",
    "import matplotlib.pyplot as plt\n",
    "import pandas as pd\n",
    "import numpy as np\n",
    "from sklearn.linear_model import LassoCV, LogisticRegressionCV\n",
    "\n",
    "import warnings\n",
    "warnings.simplefilter('ignore')\n",
    "\n",
    "%matplotlib inline"
   ]
  },
  {
   "cell_type": "markdown",
   "metadata": {},
   "source": [
    "### Real dataL Job Corps training program"
   ]
  },
  {
   "cell_type": "code",
   "execution_count": null,
   "metadata": {},
   "outputs": [],
   "source": [
    "df = pd.read_csv('JC.csv')\n",
    "df = df.rename(columns={'Unnamed: 0':'id'}).reset_index().drop('index', axis=1).set_index(['id'])\n",
    "df.head()"
   ]
  },
  {
   "cell_type": "code",
   "execution_count": null,
   "metadata": {},
   "outputs": [],
   "source": [
    "x0_cols = list(df.columns[1:29])\n",
    "x1_cols = list(df.columns[29:36])\n",
    "t0_cols = df.columns[[36]]\n",
    "t1_cols = df.columns[[37]]\n",
    "y_col = df.columns[43]"
   ]
  },
  {
   "cell_type": "code",
   "execution_count": null,
   "metadata": {},
   "outputs": [],
   "source": [
    "plt.hist(df['educmum'])\n",
    "plt.show()"
   ]
  },
  {
   "cell_type": "code",
   "execution_count": null,
   "metadata": {},
   "outputs": [],
   "source": [
    "y = df[y_col].values\n",
    "X = {0: df[x0_cols], 1: df[x1_cols], 'het': df[x0_cols]}\n",
    "T = {0: df[t0_cols].values, 1: df[t1_cols].values}\n",
    "m = 2"
   ]
  },
  {
   "cell_type": "code",
   "execution_count": null,
   "metadata": {},
   "outputs": [],
   "source": [
    "cat = ['age', 'educ', 'educmum', 'educdad']\n",
    "X[0] = pd.get_dummies(X[0], columns=cat)\n",
    "X[0] = pd.concat([X[0], df[cat]], axis=1)\n",
    "x0_cols = list(X[0].columns)"
   ]
  },
  {
   "cell_type": "code",
   "execution_count": null,
   "metadata": {},
   "outputs": [],
   "source": [
    "true_effect_params = np.zeros((m, T[0].shape[1]))"
   ]
  },
  {
   "cell_type": "markdown",
   "metadata": {},
   "source": [
    "### Simulated Data\n",
    "\n",
    "#### 1.1 DGP\n",
    "\n",
    "We consider a data generating process from a markovian treatment model. \n",
    "\n",
    "In the example bellow, $T_t\\rightarrow$ treatment(s) at time $t$, $Y_t\\rightarrow$outcome at time $t$, $X_t\\rightarrow$ features and controls at time $t$ (the coefficients $e, f$ will pick the features and the controls).\n",
    "\\begin{align}\n",
    "    X_t =& (\\pi'X_{t-1} + 1) \\cdot A\\, T_{t-1} + B X_{t-1} + \\epsilon_t\\\\\n",
    "    T_t =& \\gamma\\, T_{t-1} + (1-\\gamma) \\cdot D X_t + \\zeta_t\\\\\n",
    "    Y_t =& (\\sigma' X_{t} + 1) \\cdot e\\, T_{t} + f X_t + \\eta_t\n",
    "\\end{align}\n",
    "\n",
    "with $X_0, T_0 = 0$ and $\\epsilon_t, \\zeta_t, \\eta_t \\sim N(0, \\sigma^2)$. Moreover, $X_t \\in R^{n_x}$, $B[:, 0:s_x] \\neq 0$ and $B[:, s_x:-1] = 0$, $\\gamma\\in [0, 1]$, $D[:, 0:s_x] \\neq 0$, $D[:, s_x:-1]=0$, $f[0:s_x]\\neq 0$, $f[s_x:-1]=0$."
   ]
  },
  {
   "cell_type": "code",
   "execution_count": null,
   "metadata": {},
   "outputs": [],
   "source": [
    "from snmm import gen_data\n",
    "m = 2\n",
    "n_hetero_vars = 1\n",
    "y, X, T, true_effect_params, dgp = gen_data(n_periods=m, n_units=1000, n_treatments=1,\n",
    "                                       n_x=5, s_x=2, s_t=2,\n",
    "                                       sigma_x=.8, sigma_t=.3, sigma_y=.1,\n",
    "                                       conf_str=2,\n",
    "                                       hetero_strenth=2.0, n_hetero_vars=n_hetero_vars,\n",
    "                                       autoreg=1.0, gamma=.2,\n",
    "                                       instance_seed=0, sample_seed=0)\n",
    "X['het'] = X[0].copy()"
   ]
  },
  {
   "cell_type": "code",
   "execution_count": null,
   "metadata": {},
   "outputs": [],
   "source": [
    "plt.figure(figsize=(15, 5))\n",
    "plt.subplot(1, 3, 1)\n",
    "plt.hist(y)\n",
    "plt.subplot(1, 3, 2)\n",
    "plt.hist(T[0][:, 0], alpha=.4)\n",
    "plt.hist(T[1][:, 0], alpha=.4)\n",
    "plt.subplot(1, 3, 3)\n",
    "plt.hist(X[0]['x0'], alpha=.4)\n",
    "plt.hist(X[1]['x0'], alpha=.4)\n",
    "plt.show()"
   ]
  },
  {
   "cell_type": "code",
   "execution_count": null,
   "metadata": {},
   "outputs": [],
   "source": [
    "true_effect_params"
   ]
  },
  {
   "cell_type": "markdown",
   "metadata": {},
   "source": [
    "# Analysis"
   ]
  },
  {
   "cell_type": "code",
   "execution_count": null,
   "metadata": {},
   "outputs": [],
   "source": [
    "from snmm import get_linear_model_reg, get_linear_multimodel_reg\n",
    "from snmm import get_model_reg, get_multimodel_reg\n",
    "from snmm import get_poly_model_reg, get_poly_multimodel_reg\n",
    "from blip import BlipSpec, SimpleHeteroBlipSpec, SimpleBlipSpec, true_param_parse"
   ]
  },
  {
   "cell_type": "markdown",
   "metadata": {},
   "source": [
    "### Define Model Parameters"
   ]
  },
  {
   "cell_type": "code",
   "execution_count": null,
   "metadata": {},
   "outputs": [],
   "source": [
    "# model_reg_fn = lambda X, y: get_model_reg(X, y, degrees=[1])\n",
    "# multimodel_reg_fn = lambda X, y: get_multimodel_reg(X, y, degrees=[1])\n",
    "# model_reg_fn = get_linear_model_reg\n",
    "# multimodel_reg_fn = get_linear_multimodel_reg\n",
    "model_reg_fn = lambda X, y: get_poly_model_reg(X, y, degree=1, interaction_only=True)\n",
    "multimodel_reg_fn = lambda X, y: get_poly_multimodel_reg(X, y, degree=1, interaction_only=True)"
   ]
  },
  {
   "cell_type": "code",
   "execution_count": null,
   "metadata": {},
   "outputs": [],
   "source": [
    "bs = SimpleHeteroBlipSpec(2).fit(X, T)\n",
    "phi = bs.phi\n",
    "phi_names = bs.phi_names\n",
    "\n",
    "true_quantities = true_param_parse(X, T, true_effect_params, n_hetero_vars, m, phi, phi_names)\n",
    "true_params, true_params_sel, true_policy, true_policy_delta, true_opt_policy, true_opt_policy_delta = true_quantities\n",
    "\n",
    "def pi(t, X, T):\n",
    "    return np.ones(T[t].shape)"
   ]
  },
  {
   "cell_type": "code",
   "execution_count": null,
   "metadata": {},
   "outputs": [],
   "source": [
    "true_policy"
   ]
  },
  {
   "cell_type": "code",
   "execution_count": null,
   "metadata": {},
   "outputs": [],
   "source": [
    "true_opt_policy"
   ]
  },
  {
   "cell_type": "markdown",
   "metadata": {},
   "source": [
    "### Estimate High-Dimensional Linear Blip Model"
   ]
  },
  {
   "cell_type": "code",
   "execution_count": null,
   "metadata": {},
   "outputs": [],
   "source": [
    "from snmm import SNMMDynamicDML\n",
    "from sklearn.linear_model import LassoCV\n",
    "\n",
    "est = SNMMDynamicDML(m=m, phi=phi, phi_names_fn=phi_names,\n",
    "                     model_reg_fn=model_reg_fn,\n",
    "                     model_final_fn=lambda: LassoCV())"
   ]
  },
  {
   "cell_type": "code",
   "execution_count": null,
   "metadata": {},
   "outputs": [],
   "source": [
    "est.fit(X, T, y, pi)"
   ]
  },
  {
   "cell_type": "code",
   "execution_count": null,
   "metadata": {},
   "outputs": [],
   "source": [
    "print(est.policy_value_)\n",
    "print(true_policy)\n",
    "print(est.policy_delta_simple_)\n",
    "print(true_policy_delta)"
   ]
  },
  {
   "cell_type": "code",
   "execution_count": null,
   "metadata": {},
   "outputs": [],
   "source": [
    "sig = {}\n",
    "for t in range(m):\n",
    "    print(f'Period {t} effects {true_effect_params[t]}')\n",
    "    with pd.option_context(\"precision\", 3):\n",
    "        sig[t] = np.abs(est.psi_[t]) > 0.01\n",
    "        sig[t][:T[t].shape[1]] = True\n",
    "        display(est.param_summary(t, coef_thr=0.01).summary_frame())"
   ]
  },
  {
   "cell_type": "markdown",
   "metadata": {},
   "source": [
    "### Post Selection Inference (not unbiased): Low Dimensional Blip Model"
   ]
  },
  {
   "cell_type": "code",
   "execution_count": null,
   "metadata": {},
   "outputs": [],
   "source": [
    "def phi_sub(t, X, T, Tt):\n",
    "    return phi(t, X, T, Tt)[:, sig[t]]\n",
    "\n",
    "def phi_names_sub(t):\n",
    "    return np.array(phi_names(t))[sig[t]]"
   ]
  },
  {
   "cell_type": "code",
   "execution_count": null,
   "metadata": {},
   "outputs": [],
   "source": [
    "from sklearn.linear_model import LinearRegression\n",
    "\n",
    "est_sub = SNMMDynamicDML(m=m, phi=phi_sub, phi_names_fn=phi_names_sub,\n",
    "                         model_reg_fn=lambda X, y: get_model_reg(X, y, degrees=[1, 2]),\n",
    "                         model_final_fn=lambda: LinearRegression(),\n",
    "                         verbose=1)"
   ]
  },
  {
   "cell_type": "code",
   "execution_count": null,
   "metadata": {},
   "outputs": [],
   "source": [
    "est_sub.fit(X, T, y, pi)"
   ]
  },
  {
   "cell_type": "code",
   "execution_count": null,
   "metadata": {},
   "outputs": [],
   "source": [
    "print(est_sub.policy_value_)\n",
    "print(true_policy)"
   ]
  },
  {
   "cell_type": "code",
   "execution_count": null,
   "metadata": {},
   "outputs": [],
   "source": [
    "for t in range(m):\n",
    "    print(f'Period {t} effects {true_effect_params[t]}')\n",
    "    with pd.option_context(\"precision\", 3):\n",
    "        display(est_sub.param_summary(t).summary_frame(alpha=0.01))"
   ]
  },
  {
   "cell_type": "markdown",
   "metadata": {},
   "source": [
    "### Policy Delta compared to all zero\n",
    "\n",
    "For simple phi, where the structural parameters don't change dependent on the target, we can do sth very simple"
   ]
  },
  {
   "cell_type": "code",
   "execution_count": null,
   "metadata": {},
   "outputs": [],
   "source": [
    "print(est_sub.policy_delta_simple_)\n",
    "print(true_policy_delta)"
   ]
  },
  {
   "cell_type": "markdown",
   "metadata": {},
   "source": [
    "### For complex phi we need to re-run the estimation for base"
   ]
  },
  {
   "cell_type": "code",
   "execution_count": null,
   "metadata": {},
   "outputs": [],
   "source": [
    "est_sub.fit_base()"
   ]
  },
  {
   "cell_type": "code",
   "execution_count": null,
   "metadata": {},
   "outputs": [],
   "source": [
    "deltapi, deltapierr = est_sub.policy_delta_complex()"
   ]
  },
  {
   "cell_type": "code",
   "execution_count": null,
   "metadata": {},
   "outputs": [],
   "source": [
    "print(deltapi, deltapierr)"
   ]
  },
  {
   "cell_type": "markdown",
   "metadata": {},
   "source": [
    "### Optimal Dynamic Policy"
   ]
  },
  {
   "cell_type": "code",
   "execution_count": null,
   "metadata": {},
   "outputs": [],
   "source": [
    "est_sub.fit_opt(X, T, y, beta=2)"
   ]
  },
  {
   "cell_type": "code",
   "execution_count": null,
   "metadata": {},
   "outputs": [],
   "source": [
    "print(est_sub.opt_policy_delta_simple_)\n",
    "print(true_opt_policy_delta)"
   ]
  },
  {
   "cell_type": "code",
   "execution_count": null,
   "metadata": {},
   "outputs": [],
   "source": [
    "print(est_sub.opt_policy_delta_complex())"
   ]
  },
  {
   "cell_type": "code",
   "execution_count": null,
   "metadata": {},
   "outputs": [],
   "source": [
    "for t in range(m):\n",
    "    print(f'Period {t} effects {true_effect_params[t]}')\n",
    "    with pd.option_context(\"precision\", 3):\n",
    "        display(est_sub.opt_param_summary(t).summary_frame())"
   ]
  },
  {
   "cell_type": "markdown",
   "metadata": {},
   "source": [
    "# Non-Parametric Heterogeneity\n"
   ]
  },
  {
   "cell_type": "code",
   "execution_count": null,
   "metadata": {},
   "outputs": [],
   "source": [
    "# %load_ext autoreload\n",
    "# %autoreload 2"
   ]
  },
  {
   "cell_type": "code",
   "execution_count": null,
   "metadata": {},
   "outputs": [],
   "source": [
    "# Helper imports\n",
    "import numpy as np\n",
    "from sklearn.linear_model import Lasso, LassoCV, LogisticRegression, LogisticRegressionCV, MultiTaskLassoCV\n",
    "import matplotlib.pyplot as plt\n",
    "import pandas as pd\n",
    "import numpy as np\n",
    "from sklearn.linear_model import LassoCV, LogisticRegressionCV\n",
    "from snmm import get_linear_model_reg, get_linear_multimodel_reg\n",
    "from snmm import get_model_reg, get_multimodel_reg\n",
    "from snmm import get_poly_model_reg, get_poly_multimodel_reg\n",
    "from snmm import gen_data\n",
    "from econml.utilities import cross_product\n",
    "\n",
    "import warnings\n",
    "warnings.simplefilter('ignore')\n",
    "\n",
    "%matplotlib inline"
   ]
  },
  {
   "cell_type": "markdown",
   "metadata": {},
   "source": [
    "### Simulated Data\n",
    "\n",
    "#### 1.1 DGP\n",
    "\n",
    "We consider a data generating process from a markovian treatment model. \n",
    "\n",
    "In the example bellow, $T_t\\rightarrow$ treatment(s) at time $t$, $Y_t\\rightarrow$outcome at time $t$, $X_t\\rightarrow$ features and controls at time $t$ (the coefficients $e, f$ will pick the features and the controls).\n",
    "\\begin{align}\n",
    "    X_t =& (F(\\pi'X_{t-1}) + 1) \\cdot A\\, T_{t-1} + B X_{t-1} + \\epsilon_t\\\\\n",
    "    T_t =& \\gamma\\, T_{t-1} + (1-\\gamma) \\cdot D X_t + \\zeta_t\\\\\n",
    "    Y_t =& (F(\\sigma' X_{t}) + 1) \\cdot e\\, T_{t} + f X_t + \\eta_t\n",
    "\\end{align}\n",
    "\n",
    "with $X_0, T_0 = 0$ and $\\epsilon_t, \\zeta_t, \\eta_t \\sim N(0, \\sigma^2)$. Moreover, $X_t \\in R^{n_x}$, $B[:, 0:s_x] \\neq 0$ and $B[:, s_x:-1] = 0$, $\\gamma\\in [0, 1]$, $D[:, 0:s_x] \\neq 0$, $D[:, s_x:-1]=0$, $f[0:s_x]\\neq 0$, $f[s_x:-1]=0$. $F$ is some arbitrary non-linear function, introducing non-linearity to the heterogeneous effect model."
   ]
  },
  {
   "cell_type": "code",
   "execution_count": null,
   "metadata": {},
   "outputs": [],
   "source": [
    "from experiment_hetero import FUNCTIONS\n",
    "m = 2\n",
    "n_hetero_vars = 1\n",
    "nonlin_fn = FUNCTIONS['square']\n",
    "y, X, T, true_effect_params, dgp = gen_data(n_periods=m, n_units=10000, n_treatments=1,\n",
    "                                       n_x=10, s_x=2, s_t=2,\n",
    "                                       sigma_x=.8, sigma_t=.3, sigma_y=.1,\n",
    "                                       conf_str=2,\n",
    "                                       hetero_strenth=2.0, n_hetero_vars=n_hetero_vars,\n",
    "                                       autoreg=1.0, gamma=.2, nonlin_fn=nonlin_fn,\n",
    "                                       instance_seed=0, sample_seed=0)\n",
    "X['het'] = X[0].copy()"
   ]
  },
  {
   "cell_type": "code",
   "execution_count": null,
   "metadata": {},
   "outputs": [],
   "source": [
    "plt.figure(figsize=(15, 5)) \n",
    "plt.subplot(1, 3, 1)\n",
    "plt.hist(y)\n",
    "plt.subplot(1, 3, 2)\n",
    "plt.hist(T[0][:, 0], alpha=.4)\n",
    "plt.hist(T[1][:, 0], alpha=.4)\n",
    "plt.subplot(1, 3, 3)\n",
    "plt.hist(X[0]['x0'], alpha=.4)\n",
    "plt.hist(X[1]['x0'], alpha=.4)\n",
    "plt.show()"
   ]
  },
  {
   "cell_type": "code",
   "execution_count": null,
   "metadata": {},
   "outputs": [],
   "source": [
    "# model_reg_fn = lambda X, y: get_model_reg(X, y, degrees=[1])\n",
    "# multimodel_reg_fn = lambda X, y: get_multimodel_reg(X, y, degrees=[1])\n",
    "# model_reg_fn = get_linear_model_reg\n",
    "# multimodel_reg_fn = get_linear_multimodel_reg\n",
    "model_reg_fn = lambda X, y: get_poly_model_reg(X, y, degree=1, interaction_only=False)\n",
    "multimodel_reg_fn = lambda X, y: get_poly_multimodel_reg(X, y, degree=1, interaction_only=True)"
   ]
  },
  {
   "cell_type": "code",
   "execution_count": null,
   "metadata": {},
   "outputs": [],
   "source": [
    "from blip import SimpleBlipSpec\n",
    "\n",
    "bs = SimpleBlipSpec().fit(X, T)\n",
    "phi = bs.phi\n",
    "phi_names = bs.phi_names\n",
    "\n",
    "def pi(t, X, T):\n",
    "    return np.ones(T[t].shape)"
   ]
  },
  {
   "cell_type": "markdown",
   "metadata": {},
   "source": [
    "#### We define multiple final heterogeneous dynamic effect models\n",
    "\n",
    "Causal forests fit a forest for $\\theta(X)$, minimizing $E[(y - \\theta(X)'T)^2].\n",
    "\n",
    "For uni-variate blip model feature maps, any ML model that accepts sample weights can be used, since we can re-write it as: $E[T^2 (y/T - theta(X))^2]$, turning the problem into weighted square loss minimization. We provide the `WeightedModelFinal` wrapper that performs this transformation and wraps any ML model.\n",
    "\n",
    "For linear models, i.e. $\\theta(X) = \\theta'\\psi(X)$, then we can re-write this as a simple linear regression problem over the cross product of the blip feature map $\\phi$ and the heterogeneous effect feature map $\\psi$. We provide the `LinearModelFinal` wrapper that performs this transormations and wraps any linear model and heterogeneous effect feature map function."
   ]
  },
  {
   "cell_type": "code",
   "execution_count": null,
   "metadata": {},
   "outputs": [],
   "source": [
    "from hetero_utils import WeightedModelFinal, LinearModelFinal, Ensemble, GCV\n",
    "from econml.grf import CausalForest\n",
    "from sklearn.linear_model import LinearRegression\n",
    "from econml.sklearn_extensions.linear_model import StatsModelsLinearRegression\n",
    "from sklearn.ensemble import RandomForestRegressor\n",
    "import lightgbm as lgb\n",
    "from sklearn.preprocessing import PolynomialFeatures, StandardScaler\n",
    "from sklearn.pipeline import Pipeline\n",
    "\n",
    "cf_gen = lambda ms, md, mvl, fr: lambda: CausalForest(n_estimators=1000,\n",
    "                                                    max_depth=md,\n",
    "                                                    min_samples_leaf=ms,\n",
    "                                                    min_balancedness_tol=0.45,\n",
    "                                                    max_samples=fr,\n",
    "                                                    inference=False,\n",
    "                                                    min_var_fraction_leaf=mvl,\n",
    "                                                    min_var_leaf_on_val=True,\n",
    "                                                    random_state=123)\n",
    "linear_gen = lambda: LinearModelFinal(StatsModelsLinearRegression(fit_intercept=False),\n",
    "                                    lambda x: x)\n",
    "lasso_gen = lambda: LinearModelFinal(LassoCV(fit_intercept=False, random_state=123),\n",
    "                                    lambda x: x)\n",
    "polylasso_gen = lambda: LinearModelFinal(LassoCV(fit_intercept=False, random_state=123),\n",
    "                                         lambda x: Pipeline([('poly', PolynomialFeatures(degree=2, include_bias=False)),\n",
    "                                                             ('sc', StandardScaler())]).fit_transform(x))\n",
    "rf_gen = lambda ms, md: lambda: WeightedModelFinal(RandomForestRegressor(n_estimators=100,\n",
    "                                                                min_samples_leaf=ms,\n",
    "                                                                max_depth=md,\n",
    "                                                                random_state=123))\n",
    "lgbm_gen = lambda lr, md: lambda: WeightedModelFinal(lgb.LGBMRegressor(num_leaves=32, min_child_samples=40,\n",
    "                                                                learning_rate=lr,\n",
    "                                                                max_depth=md,\n",
    "                                                                random_state=123))"
   ]
  },
  {
   "cell_type": "markdown",
   "metadata": {},
   "source": [
    "We define model generators for many configurations of the hyperparams of each type of model, each entry in `model_gens` is a function that returns an un-fitted model."
   ]
  },
  {
   "cell_type": "code",
   "execution_count": null,
   "metadata": {},
   "outputs": [],
   "source": [
    "model_gens = [(f'cf{it}', cf_gen(ms, md, mvl, fr))\n",
    "              for it, (ms, md, mvl, fr) in enumerate([(40, 3, None, .45),\n",
    "                                                      (40, 3, None, .8),\n",
    "                                                      (40, 5, None, .8),\n",
    "                                                      (40, 5, 0.01, .8)])] \n",
    "model_gens += [('ols', linear_gen), ('lassocv', lasso_gen), ('2dlassocv', polylasso_gen)]\n",
    "model_gens += [(f'rf{it}', rf_gen(ms, md))\n",
    "               for it, (ms, md) in enumerate([(40, 3), (40, 5)])]\n",
    "model_gens += [(f'lgbm{it}', lgbm_gen(lr, md))\n",
    "               for it, (lr, md) in enumerate([(0.01, 1), (0.1, 1), (0.01, 3), (0.1, 3)])]"
   ]
  },
  {
   "cell_type": "markdown",
   "metadata": {},
   "source": [
    "The `GCV` estimator is an estimator that supports the `fit(X, T, y)` interface and performs cross-validation and model selection among all the models in the `model_gens` list. If `ensebmle=True`, it performs soft-max ensembling. If `ensemble=False` it uses the model with the best score."
   ]
  },
  {
   "cell_type": "code",
   "execution_count": null,
   "metadata": {},
   "outputs": [],
   "source": [
    "gcv_gen = lambda: GCV(model_gens=model_gens, ensemble=False)"
   ]
  },
  {
   "cell_type": "code",
   "execution_count": null,
   "metadata": {},
   "outputs": [],
   "source": [
    "from snmm import HeteroSNMMDynamicDML\n",
    "\n",
    "het_est = HeteroSNMMDynamicDML(m=m, phi=phi, phi_names_fn=phi_names,\n",
    "                               model_reg_fn=lambda X, y: get_model_reg(X, y, degrees=[1, 2]),\n",
    "                               model_final_fn=gcv_gen)"
   ]
  },
  {
   "cell_type": "code",
   "execution_count": null,
   "metadata": {},
   "outputs": [],
   "source": [
    "het_est.fit(X, T, y, pi)"
   ]
  },
  {
   "cell_type": "code",
   "execution_count": null,
   "metadata": {},
   "outputs": [],
   "source": [
    "# model that was selected for first period hetero effect\n",
    "het_est.models_[0]"
   ]
  },
  {
   "cell_type": "code",
   "execution_count": null,
   "metadata": {},
   "outputs": [],
   "source": [
    "# model that was selected for second period hetero effect\n",
    "het_est.models_[1]"
   ]
  },
  {
   "cell_type": "code",
   "execution_count": null,
   "metadata": {},
   "outputs": [],
   "source": [
    "het_est.models_[1].scores_"
   ]
  },
  {
   "cell_type": "code",
   "execution_count": null,
   "metadata": {},
   "outputs": [],
   "source": [
    "print(het_est.policy_value_)"
   ]
  },
  {
   "cell_type": "code",
   "execution_count": null,
   "metadata": {},
   "outputs": [],
   "source": [
    "print(het_est.policy_delta_simple_)"
   ]
  },
  {
   "cell_type": "code",
   "execution_count": null,
   "metadata": {},
   "outputs": [],
   "source": [
    "import seaborn as sns\n",
    "if hasattr(het_est.models_[0], 'feature_importances_'):\n",
    "    for t in range(m):\n",
    "        impdf = het_est.feature_importances_(t)\n",
    "        plt.figure(figsize=(5, 5))\n",
    "        sns.barplot(y=impdf['name'], x=impdf['importance'])\n",
    "        plt.show()"
   ]
  },
  {
   "cell_type": "code",
   "execution_count": null,
   "metadata": {},
   "outputs": [],
   "source": [
    "import shap\n",
    "if hasattr(het_est.models_[0], 'feature_importances_'):\n",
    "    for t in range(m):\n",
    "        exp = shap.Explainer(het_est.models_[t])\n",
    "        shap_values = exp.shap_values(X['het'])\n",
    "        shap.summary_plot(shap_values, X['het'])"
   ]
  },
  {
   "cell_type": "code",
   "execution_count": null,
   "metadata": {},
   "outputs": [],
   "source": [
    "plt.figure(figsize=(15, 5))\n",
    "plt.subplot(1, 2, 1)\n",
    "plt.scatter(X['het'].values[:, 0], het_est.dynamic_effects(X['het'])[0])\n",
    "plt.scatter(X['het'].values[:, 0],  dgp.hetero_effect_fn(0, X['het'].values[:, :n_hetero_vars]))\n",
    "plt.subplot(1, 2, 2)\n",
    "plt.scatter(X['het'].values[:, 0], het_est.dynamic_effects(X['het'])[1][:, 0])\n",
    "plt.scatter(X['het'].values[:, 0],  dgp.hetero_effect_fn(1, X['het'].values[:, :n_hetero_vars]))\n",
    "plt.show()"
   ]
  },
  {
   "cell_type": "code",
   "execution_count": null,
   "metadata": {},
   "outputs": [],
   "source": [
    "for t in range(m):\n",
    "    error = het_est.dynamic_effects(X['het'])[t][:, 0]\n",
    "    error = error - dgp.hetero_effect_fn(t, X['het'].values[:, :n_hetero_vars]).flatten()\n",
    "    print(np.sqrt(np.mean(error**2)))"
   ]
  },
  {
   "cell_type": "markdown",
   "metadata": {},
   "source": [
    "We now refit the final model, but with ensembling enabled"
   ]
  },
  {
   "cell_type": "code",
   "execution_count": null,
   "metadata": {},
   "outputs": [],
   "source": [
    "het_est.model_final_fn = lambda: GCV(model_gens=model_gens, ensemble=True, beta=1000)\n",
    "het_est.fit_final()"
   ]
  },
  {
   "cell_type": "code",
   "execution_count": null,
   "metadata": {},
   "outputs": [],
   "source": [
    "het_est.models_[0]"
   ]
  },
  {
   "cell_type": "code",
   "execution_count": null,
   "metadata": {},
   "outputs": [],
   "source": [
    "plt.figure(figsize=(15, 5))\n",
    "plt.subplot(1, 2, 1)\n",
    "plt.scatter(X['het'].values[:, 0], het_est.dynamic_effects(X['het'])[0])\n",
    "plt.scatter(X['het'].values[:, 0],  dgp.hetero_effect_fn(0, X['het'].values[:, :n_hetero_vars]))\n",
    "plt.subplot(1, 2, 2)\n",
    "plt.scatter(X['het'].values[:, 0], het_est.dynamic_effects(X['het'])[1][:, 0])\n",
    "plt.scatter(X['het'].values[:, 0],  dgp.hetero_effect_fn(1, X['het'].values[:, :n_hetero_vars]))\n",
    "plt.show()"
   ]
  },
  {
   "cell_type": "code",
   "execution_count": null,
   "metadata": {},
   "outputs": [],
   "source": [
    "for t in range(m):\n",
    "    error = het_est.dynamic_effects(X['het'])[t][:, 0]\n",
    "    error = error - dgp.hetero_effect_fn(t, X['het'].values[:, :n_hetero_vars]).flatten()\n",
    "    print(np.sqrt(np.mean(error**2)))"
   ]
  },
  {
   "cell_type": "markdown",
   "metadata": {},
   "source": [
    "We now test how each individual model would have performed as a final model if we were to use just that model"
   ]
  },
  {
   "cell_type": "code",
   "execution_count": null,
   "metadata": {},
   "outputs": [],
   "source": [
    "for name, mgen in model_gens:\n",
    "    print(name, mgen())\n",
    "    het_est.model_final_fn = mgen\n",
    "    het_est.fit_final()\n",
    "    \n",
    "    plt.figure(figsize=(10, 5))\n",
    "    plt.subplot(1, 2, 1)\n",
    "    plt.scatter(X['het'].values[:, 0], het_est.dynamic_effects(X['het'])[0])\n",
    "    plt.scatter(X['het'].values[:, 0],  dgp.hetero_effect_fn(0, X['het'].values[:, :n_hetero_vars]))\n",
    "    plt.subplot(1, 2, 2)\n",
    "    plt.scatter(X['het'].values[:, 0], het_est.dynamic_effects(X['het'])[1][:, 0])\n",
    "    plt.scatter(X['het'].values[:, 0],  dgp.hetero_effect_fn(1, X['het'].values[:, :n_hetero_vars]))\n",
    "    plt.show()\n",
    "\n",
    "    for t in range(m):\n",
    "        error = het_est.dynamic_effects(X['het'].values)[t][:, 0] \n",
    "        error = error - dgp.hetero_effect_fn(t, X['het'].values[:, :n_hetero_vars]).flatten()\n",
    "        print(np.sqrt(np.mean(error**2)))"
   ]
  },
  {
   "cell_type": "markdown",
   "metadata": {},
   "source": [
    "Reverting final model to the ensemble one."
   ]
  },
  {
   "cell_type": "code",
   "execution_count": null,
   "metadata": {},
   "outputs": [],
   "source": [
    "het_est.model_final_fn = lambda: GCV(model_gens=model_gens, ensemble=True, beta=1000)\n",
    "het_est.fit_final()"
   ]
  },
  {
   "cell_type": "markdown",
   "metadata": {},
   "source": [
    "### Fit value of baseline policy, for delta estimation"
   ]
  },
  {
   "cell_type": "code",
   "execution_count": null,
   "metadata": {},
   "outputs": [],
   "source": [
    "het_est.fit_base()"
   ]
  },
  {
   "cell_type": "code",
   "execution_count": null,
   "metadata": {},
   "outputs": [],
   "source": [
    "print(het_est.policy_delta_complex())"
   ]
  },
  {
   "cell_type": "markdown",
   "metadata": {},
   "source": [
    "### Optimal Dynamic Policy"
   ]
  },
  {
   "cell_type": "code",
   "execution_count": null,
   "metadata": {},
   "outputs": [],
   "source": [
    "het_est.fit_opt(X, T, y)"
   ]
  },
  {
   "cell_type": "code",
   "execution_count": null,
   "metadata": {},
   "outputs": [],
   "source": [
    "het_est.pi_star(1, X, T)[:10]"
   ]
  },
  {
   "cell_type": "code",
   "execution_count": null,
   "metadata": {},
   "outputs": [],
   "source": [
    "if hasattr(het_est.models_[0], 'linear_model'):\n",
    "    for t in range(m):\n",
    "        print(f'Period {t} effects {true_effect_params[t]}')\n",
    "        display(het_est.opt_param_summary(t).summary_frame())"
   ]
  },
  {
   "cell_type": "code",
   "execution_count": null,
   "metadata": {},
   "outputs": [],
   "source": [
    "import seaborn as sns\n",
    "if hasattr(het_est.opt_models_[0], 'feature_importances_'):\n",
    "    for t in range(m):\n",
    "        impdf = het_est.opt_feature_importances_(t)\n",
    "        plt.figure(figsize=(5, 5))\n",
    "        sns.barplot(y=impdf['name'], x=impdf['importance'])\n",
    "        plt.show()"
   ]
  },
  {
   "cell_type": "code",
   "execution_count": null,
   "metadata": {},
   "outputs": [],
   "source": [
    "import shap\n",
    "if hasattr(het_est.opt_models_[0], 'feature_importances_'):\n",
    "    for t in range(m):\n",
    "        exp = shap.Explainer(het_est.opt_models_[t])\n",
    "        shap_values = exp.shap_values(X['het'])\n",
    "        shap.summary_plot(shap_values, X['het'])"
   ]
  },
  {
   "cell_type": "code",
   "execution_count": null,
   "metadata": {},
   "outputs": [],
   "source": [
    "print(het_est.opt_policy_value_)"
   ]
  },
  {
   "cell_type": "code",
   "execution_count": null,
   "metadata": {},
   "outputs": [],
   "source": [
    "print(het_est.opt_policy_delta_simple_)"
   ]
  },
  {
   "cell_type": "code",
   "execution_count": null,
   "metadata": {},
   "outputs": [],
   "source": [
    "print(het_est.opt_policy_delta_complex())"
   ]
  },
  {
   "cell_type": "code",
   "execution_count": null,
   "metadata": {},
   "outputs": [],
   "source": []
  }
 ],
 "metadata": {
  "kernelspec": {
   "display_name": "Python 3",
   "language": "python",
   "name": "python3"
  },
  "language_info": {
   "codemirror_mode": {
    "name": "ipython",
    "version": 3
   },
   "file_extension": ".py",
   "mimetype": "text/x-python",
   "name": "python",
   "nbconvert_exporter": "python",
   "pygments_lexer": "ipython3",
   "version": "3.8.5"
  }
 },
 "nbformat": 4,
 "nbformat_minor": 4
}
